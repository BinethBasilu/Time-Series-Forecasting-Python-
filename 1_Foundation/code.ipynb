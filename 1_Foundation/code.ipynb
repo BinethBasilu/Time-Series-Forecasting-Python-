{
 "cells": [
  {
   "cell_type": "code",
   "execution_count": 1,
   "id": "b5cdb804",
   "metadata": {},
   "outputs": [
    {
     "data": {
      "text/plain": [
       "'c:\\\\Users\\\\basil\\\\Documents\\\\Time-Series-Forecasting-Python-\\\\1_Foundation'"
      ]
     },
     "execution_count": 1,
     "metadata": {},
     "output_type": "execute_result"
    }
   ],
   "source": [
    "import os\n",
    "os.getcwd()"
   ]
  },
  {
   "cell_type": "code",
   "execution_count": 2,
   "id": "5beb7c8e",
   "metadata": {},
   "outputs": [
    {
     "name": "stdout",
     "output_type": "stream",
     "text": [
      "Note: you may need to restart the kernel to use updated packages.\n"
     ]
    }
   ],
   "source": [
    "pip freeze > requirements.txt\n"
   ]
  },
  {
   "cell_type": "code",
   "execution_count": 10,
   "id": "5ad98c0f",
   "metadata": {},
   "outputs": [
    {
     "name": "stdout",
     "output_type": "stream",
     "text": [
      "Requirement already satisfied: pip in c:\\users\\basil\\anaconda\\lib\\site-packages (25.1)\n",
      "Collecting pip\n",
      "  Downloading pip-25.2-py3-none-any.whl.metadata (4.7 kB)\n",
      "Requirement already satisfied: setuptools in c:\\users\\basil\\anaconda\\lib\\site-packages (72.1.0)\n",
      "Collecting setuptools\n",
      "  Downloading setuptools-80.9.0-py3-none-any.whl.metadata (6.6 kB)\n",
      "Requirement already satisfied: wheel in c:\\users\\basil\\anaconda\\lib\\site-packages (0.45.1)\n",
      "Downloading pip-25.2-py3-none-any.whl (1.8 MB)\n",
      "   ---------------------------------------- 0.0/1.8 MB ? eta -:--:--\n",
      "   ---------------------------------------- 0.0/1.8 MB ? eta -:--:--\n",
      "   ----------- ---------------------------- 0.5/1.8 MB 2.0 MB/s eta 0:00:01\n",
      "   ----------------------- ---------------- 1.0/1.8 MB 2.0 MB/s eta 0:00:01\n",
      "   ----------------------------- ---------- 1.3/1.8 MB 2.0 MB/s eta 0:00:01\n",
      "   ---------------------------------------- 1.8/1.8 MB 1.9 MB/s eta 0:00:00\n",
      "Downloading setuptools-80.9.0-py3-none-any.whl (1.2 MB)\n",
      "   ---------------------------------------- 0.0/1.2 MB ? eta -:--:--\n",
      "   -------- ------------------------------- 0.3/1.2 MB ? eta -:--:--\n",
      "   -------------------------- ------------- 0.8/1.2 MB 1.9 MB/s eta 0:00:01\n",
      "   ---------------------------------------- 1.2/1.2 MB 1.8 MB/s eta 0:00:00\n",
      "Installing collected packages: setuptools, pip\n",
      "\n",
      "  Attempting uninstall: setuptools\n",
      "\n",
      "    Found existing installation: setuptools 72.1.0\n",
      "\n",
      "    Uninstalling setuptools-72.1.0:\n",
      "\n",
      "   ---------------------------------------- 0/2 [setuptools]\n",
      "   ---------------------------------------- 0/2 [setuptools]\n",
      "   ---------------------------------------- 0/2 [setuptools]\n",
      "   ---------------------------------------- 0/2 [setuptools]\n",
      "   ---------------------------------------- 0/2 [setuptools]\n",
      "   ---------------------------------------- 0/2 [setuptools]\n",
      "   ---------------------------------------- 0/2 [setuptools]\n",
      "   ---------------------------------------- 0/2 [setuptools]\n",
      "   ---------------------------------------- 0/2 [setuptools]\n",
      "   ---------------------------------------- 0/2 [setuptools]\n",
      "   ---------------------------------------- 0/2 [setuptools]\n",
      "   ---------------------------------------- 0/2 [setuptools]\n",
      "   ---------------------------------------- 0/2 [setuptools]\n",
      "   ---------------------------------------- 0/2 [setuptools]\n",
      "   ---------------------------------------- 0/2 [setuptools]\n",
      "      Successfully uninstalled setuptools-72.1.0\n",
      "   ---------------------------------------- 0/2 [setuptools]\n",
      "   ---------------------------------------- 0/2 [setuptools]\n",
      "   ---------------------------------------- 0/2 [setuptools]\n",
      "   ---------------------------------------- 0/2 [setuptools]\n",
      "   ---------------------------------------- 0/2 [setuptools]\n",
      "   ---------------------------------------- 0/2 [setuptools]\n",
      "   ---------------------------------------- 0/2 [setuptools]\n",
      "   ---------------------------------------- 0/2 [setuptools]\n",
      "   ---------------------------------------- 0/2 [setuptools]\n",
      "   ---------------------------------------- 0/2 [setuptools]\n",
      "   ---------------------------------------- 0/2 [setuptools]\n",
      "   ---------------------------------------- 0/2 [setuptools]\n",
      "   ---------------------------------------- 0/2 [setuptools]\n",
      "   ---------------------------------------- 0/2 [setuptools]\n",
      "   ---------------------------------------- 0/2 [setuptools]\n",
      "   ---------------------------------------- 0/2 [setuptools]\n",
      "   ---------------------------------------- 0/2 [setuptools]\n",
      "   ---------------------------------------- 0/2 [setuptools]\n",
      "   ---------------------------------------- 0/2 [setuptools]\n",
      "   ---------------------------------------- 0/2 [setuptools]\n",
      "   ---------------------------------------- 0/2 [setuptools]\n",
      "   ---------------------------------------- 0/2 [setuptools]\n",
      "   ---------------------------------------- 0/2 [setuptools]\n",
      "   ---------------------------------------- 0/2 [setuptools]\n",
      "   ---------------------------------------- 0/2 [setuptools]\n",
      "   ---------------------------------------- 0/2 [setuptools]\n",
      "   ---------------------------------------- 0/2 [setuptools]\n",
      "   ---------------------------------------- 0/2 [setuptools]\n",
      "   ---------------------------------------- 0/2 [setuptools]\n",
      "   ---------------------------------------- 0/2 [setuptools]\n",
      "   ---------------------------------------- 0/2 [setuptools]\n",
      "   ---------------------------------------- 0/2 [setuptools]\n",
      "   ---------------------------------------- 0/2 [setuptools]\n",
      "   ---------------------------------------- 0/2 [setuptools]\n",
      "   ---------------------------------------- 0/2 [setuptools]\n",
      "   ---------------------------------------- 0/2 [setuptools]\n",
      "   ---------------------------------------- 0/2 [setuptools]\n",
      "   ---------------------------------------- 0/2 [setuptools]\n",
      "   ---------------------------------------- 0/2 [setuptools]\n",
      "   ---------------------------------------- 0/2 [setuptools]\n",
      "   ---------------------------------------- 0/2 [setuptools]\n",
      "   ---------------------------------------- 0/2 [setuptools]\n",
      "   ---------------------------------------- 0/2 [setuptools]\n",
      "   ---------------------------------------- 0/2 [setuptools]\n",
      "   ---------------------------------------- 0/2 [setuptools]\n",
      "   ---------------------------------------- 0/2 [setuptools]\n",
      "   ---------------------------------------- 0/2 [setuptools]\n",
      "   ---------------------------------------- 0/2 [setuptools]\n",
      "   ---------------------------------------- 0/2 [setuptools]\n",
      "   ---------------------------------------- 0/2 [setuptools]\n",
      "   ---------------------------------------- 0/2 [setuptools]\n",
      "   ---------------------------------------- 0/2 [setuptools]\n",
      "   ---------------------------------------- 0/2 [setuptools]\n",
      "   ---------------------------------------- 0/2 [setuptools]\n",
      "   ---------------------------------------- 0/2 [setuptools]\n",
      "   ---------------------------------------- 0/2 [setuptools]\n",
      "   ---------------------------------------- 0/2 [setuptools]\n",
      "   ---------------------------------------- 0/2 [setuptools]\n",
      "   ---------------------------------------- 0/2 [setuptools]\n",
      "   ---------------------------------------- 0/2 [setuptools]\n",
      "   ---------------------------------------- 0/2 [setuptools]\n",
      "   ---------------------------------------- 0/2 [setuptools]\n",
      "   ---------------------------------------- 0/2 [setuptools]\n",
      "   ---------------------------------------- 0/2 [setuptools]\n",
      "   ---------------------------------------- 0/2 [setuptools]\n",
      "   ---------------------------------------- 0/2 [setuptools]\n",
      "   ---------------------------------------- 0/2 [setuptools]\n",
      "   ---------------------------------------- 0/2 [setuptools]\n",
      "   ---------------------------------------- 0/2 [setuptools]\n",
      "  Attempting uninstall: pip\n",
      "   ---------------------------------------- 0/2 [setuptools]\n",
      "    Found existing installation: pip 25.1\n",
      "   ---------------------------------------- 0/2 [setuptools]\n",
      "   -------------------- ------------------- 1/2 [pip]\n",
      "    Uninstalling pip-25.1:\n",
      "   -------------------- ------------------- 1/2 [pip]\n",
      "      Successfully uninstalled pip-25.1\n",
      "   -------------------- ------------------- 1/2 [pip]\n",
      "   -------------------- ------------------- 1/2 [pip]\n",
      "   -------------------- ------------------- 1/2 [pip]\n",
      "   -------------------- ------------------- 1/2 [pip]\n",
      "   -------------------- ------------------- 1/2 [pip]\n",
      "   -------------------- ------------------- 1/2 [pip]\n",
      "   -------------------- ------------------- 1/2 [pip]\n",
      "   -------------------- ------------------- 1/2 [pip]\n",
      "   -------------------- ------------------- 1/2 [pip]\n",
      "   -------------------- ------------------- 1/2 [pip]\n",
      "   -------------------- ------------------- 1/2 [pip]\n",
      "   -------------------- ------------------- 1/2 [pip]\n",
      "   -------------------- ------------------- 1/2 [pip]\n",
      "   -------------------- ------------------- 1/2 [pip]\n",
      "   -------------------- ------------------- 1/2 [pip]\n",
      "   -------------------- ------------------- 1/2 [pip]\n",
      "   -------------------- ------------------- 1/2 [pip]\n",
      "   -------------------- ------------------- 1/2 [pip]\n",
      "   -------------------- ------------------- 1/2 [pip]\n",
      "   -------------------- ------------------- 1/2 [pip]\n",
      "   -------------------- ------------------- 1/2 [pip]\n",
      "   -------------------- ------------------- 1/2 [pip]\n",
      "   -------------------- ------------------- 1/2 [pip]\n",
      "   -------------------- ------------------- 1/2 [pip]\n",
      "   -------------------- ------------------- 1/2 [pip]\n",
      "   -------------------- ------------------- 1/2 [pip]\n",
      "   -------------------- ------------------- 1/2 [pip]\n",
      "   -------------------- ------------------- 1/2 [pip]\n",
      "   -------------------- ------------------- 1/2 [pip]\n",
      "   -------------------- ------------------- 1/2 [pip]\n",
      "   -------------------- ------------------- 1/2 [pip]\n",
      "   -------------------- ------------------- 1/2 [pip]\n",
      "   -------------------- ------------------- 1/2 [pip]\n",
      "   -------------------- ------------------- 1/2 [pip]\n",
      "   -------------------- ------------------- 1/2 [pip]\n",
      "   -------------------- ------------------- 1/2 [pip]\n",
      "   -------------------- ------------------- 1/2 [pip]\n",
      "   -------------------- ------------------- 1/2 [pip]\n",
      "   -------------------- ------------------- 1/2 [pip]\n",
      "   -------------------- ------------------- 1/2 [pip]\n",
      "   -------------------- ------------------- 1/2 [pip]\n",
      "   -------------------- ------------------- 1/2 [pip]\n",
      "   -------------------- ------------------- 1/2 [pip]\n",
      "   -------------------- ------------------- 1/2 [pip]\n",
      "   -------------------- ------------------- 1/2 [pip]\n",
      "   -------------------- ------------------- 1/2 [pip]\n",
      "   -------------------- ------------------- 1/2 [pip]\n",
      "   -------------------- ------------------- 1/2 [pip]\n",
      "   -------------------- ------------------- 1/2 [pip]\n",
      "   -------------------- ------------------- 1/2 [pip]\n",
      "   -------------------- ------------------- 1/2 [pip]\n",
      "   -------------------- ------------------- 1/2 [pip]\n",
      "   -------------------- ------------------- 1/2 [pip]\n",
      "   -------------------- ------------------- 1/2 [pip]\n",
      "   -------------------- ------------------- 1/2 [pip]\n",
      "   -------------------- ------------------- 1/2 [pip]\n",
      "   -------------------- ------------------- 1/2 [pip]\n",
      "   -------------------- ------------------- 1/2 [pip]\n",
      "   -------------------- ------------------- 1/2 [pip]\n",
      "   -------------------- ------------------- 1/2 [pip]\n",
      "   -------------------- ------------------- 1/2 [pip]\n",
      "   -------------------- ------------------- 1/2 [pip]\n",
      "   -------------------- ------------------- 1/2 [pip]\n",
      "   -------------------- ------------------- 1/2 [pip]\n",
      "   -------------------- ------------------- 1/2 [pip]\n",
      "   -------------------- ------------------- 1/2 [pip]\n",
      "   -------------------- ------------------- 1/2 [pip]\n",
      "   -------------------- ------------------- 1/2 [pip]\n",
      "   -------------------- ------------------- 1/2 [pip]\n",
      "   -------------------- ------------------- 1/2 [pip]\n",
      "   -------------------- ------------------- 1/2 [pip]\n",
      "   -------------------- ------------------- 1/2 [pip]\n",
      "   -------------------- ------------------- 1/2 [pip]\n",
      "   -------------------- ------------------- 1/2 [pip]\n",
      "   -------------------- ------------------- 1/2 [pip]\n",
      "   -------------------- ------------------- 1/2 [pip]\n",
      "   -------------------- ------------------- 1/2 [pip]\n",
      "   -------------------- ------------------- 1/2 [pip]\n",
      "   ---------------------------------------- 2/2 [pip]\n",
      "\n",
      "Successfully installed pip-25.2 setuptools-80.9.0\n",
      "Note: you may need to restart the kernel to use updated packages.\n"
     ]
    }
   ],
   "source": [
    "pip install --upgrade pip setuptools wheel\n"
   ]
  },
  {
   "cell_type": "code",
   "execution_count": 11,
   "id": "7bc6a46e",
   "metadata": {},
   "outputs": [
    {
     "name": "stdout",
     "output_type": "stream",
     "text": [
      "Processing c:\\b\\abs_431uzunk2v\\croot\\aiobotocore_1738237882529\\work (from -r requirements.txt (line 1))\n"
     ]
    },
    {
     "name": "stderr",
     "output_type": "stream",
     "text": [
      "ERROR: Could not install packages due to an OSError: [Errno 2] No such file or directory: 'C:\\\\b\\\\abs_431uzunk2v\\\\croot\\\\aiobotocore_1738237882529\\\\work'\n",
      "\n"
     ]
    }
   ],
   "source": [
    "!pip install -r requirements.txt"
   ]
  },
  {
   "cell_type": "code",
   "execution_count": 4,
   "id": "4a242cac",
   "metadata": {},
   "outputs": [],
   "source": [
    "import pandas as pd"
   ]
  },
  {
   "cell_type": "code",
   "execution_count": 5,
   "id": "f131c1f5",
   "metadata": {},
   "outputs": [
    {
     "data": {
      "text/html": [
       "<div>\n",
       "<style scoped>\n",
       "    .dataframe tbody tr th:only-of-type {\n",
       "        vertical-align: middle;\n",
       "    }\n",
       "\n",
       "    .dataframe tbody tr th {\n",
       "        vertical-align: top;\n",
       "    }\n",
       "\n",
       "    .dataframe thead th {\n",
       "        text-align: right;\n",
       "    }\n",
       "</style>\n",
       "<table border=\"1\" class=\"dataframe\">\n",
       "  <thead>\n",
       "    <tr style=\"text-align: right;\">\n",
       "      <th></th>\n",
       "      <th>observation_date</th>\n",
       "      <th>CORESTICKM159SFRBATL</th>\n",
       "    </tr>\n",
       "  </thead>\n",
       "  <tbody>\n",
       "    <tr>\n",
       "      <th>0</th>\n",
       "      <td>1968-01-01</td>\n",
       "      <td>3.651861</td>\n",
       "    </tr>\n",
       "    <tr>\n",
       "      <th>1</th>\n",
       "      <td>1968-02-01</td>\n",
       "      <td>3.673819</td>\n",
       "    </tr>\n",
       "    <tr>\n",
       "      <th>2</th>\n",
       "      <td>1968-03-01</td>\n",
       "      <td>4.142164</td>\n",
       "    </tr>\n",
       "    <tr>\n",
       "      <th>3</th>\n",
       "      <td>1968-04-01</td>\n",
       "      <td>4.155828</td>\n",
       "    </tr>\n",
       "    <tr>\n",
       "      <th>4</th>\n",
       "      <td>1968-05-01</td>\n",
       "      <td>4.088245</td>\n",
       "    </tr>\n",
       "  </tbody>\n",
       "</table>\n",
       "</div>"
      ],
      "text/plain": [
       "  observation_date  CORESTICKM159SFRBATL\n",
       "0       1968-01-01              3.651861\n",
       "1       1968-02-01              3.673819\n",
       "2       1968-03-01              4.142164\n",
       "3       1968-04-01              4.155828\n",
       "4       1968-05-01              4.088245"
      ]
     },
     "execution_count": 5,
     "metadata": {},
     "output_type": "execute_result"
    }
   ],
   "source": [
    "df = pd.read_csv(\"../data/CORESTICKM159SFRBATL.csv\")\n",
    "df.head()"
   ]
  },
  {
   "cell_type": "code",
   "execution_count": 6,
   "id": "00d48eee",
   "metadata": {},
   "outputs": [
    {
     "data": {
      "text/html": [
       "<div>\n",
       "<style scoped>\n",
       "    .dataframe tbody tr th:only-of-type {\n",
       "        vertical-align: middle;\n",
       "    }\n",
       "\n",
       "    .dataframe tbody tr th {\n",
       "        vertical-align: top;\n",
       "    }\n",
       "\n",
       "    .dataframe thead th {\n",
       "        text-align: right;\n",
       "    }\n",
       "</style>\n",
       "<table border=\"1\" class=\"dataframe\">\n",
       "  <thead>\n",
       "    <tr style=\"text-align: right;\">\n",
       "      <th></th>\n",
       "      <th>observation_date</th>\n",
       "      <th>CORESTICKM159SFRBATL</th>\n",
       "    </tr>\n",
       "  </thead>\n",
       "  <tbody>\n",
       "    <tr>\n",
       "      <th>0</th>\n",
       "      <td>1968-01-01</td>\n",
       "      <td>3.651861</td>\n",
       "    </tr>\n",
       "    <tr>\n",
       "      <th>1</th>\n",
       "      <td>1968-02-01</td>\n",
       "      <td>3.673819</td>\n",
       "    </tr>\n",
       "    <tr>\n",
       "      <th>2</th>\n",
       "      <td>1968-03-01</td>\n",
       "      <td>4.142164</td>\n",
       "    </tr>\n",
       "    <tr>\n",
       "      <th>3</th>\n",
       "      <td>1968-04-01</td>\n",
       "      <td>4.155828</td>\n",
       "    </tr>\n",
       "    <tr>\n",
       "      <th>4</th>\n",
       "      <td>1968-05-01</td>\n",
       "      <td>4.088245</td>\n",
       "    </tr>\n",
       "  </tbody>\n",
       "</table>\n",
       "</div>"
      ],
      "text/plain": [
       "  observation_date  CORESTICKM159SFRBATL\n",
       "0       1968-01-01              3.651861\n",
       "1       1968-02-01              3.673819\n",
       "2       1968-03-01              4.142164\n",
       "3       1968-04-01              4.155828\n",
       "4       1968-05-01              4.088245"
      ]
     },
     "execution_count": 6,
     "metadata": {},
     "output_type": "execute_result"
    }
   ],
   "source": [
    "df.head()"
   ]
  },
  {
   "cell_type": "code",
   "execution_count": 7,
   "id": "4f8ef19d",
   "metadata": {},
   "outputs": [
    {
     "data": {
      "text/plain": [
       "observation_date         object\n",
       "CORESTICKM159SFRBATL    float64\n",
       "dtype: object"
      ]
     },
     "execution_count": 7,
     "metadata": {},
     "output_type": "execute_result"
    }
   ],
   "source": [
    "df.dtypes"
   ]
  },
  {
   "cell_type": "code",
   "execution_count": null,
   "id": "e139690a",
   "metadata": {},
   "outputs": [
    {
     "ename": "AttributeError",
     "evalue": "Can only use .dt accessor with datetimelike values",
     "output_type": "error",
     "traceback": [
      "\u001b[1;31m---------------------------------------------------------------------------\u001b[0m",
      "\u001b[1;31mAttributeError\u001b[0m                            Traceback (most recent call last)",
      "Cell \u001b[1;32mIn[8], line 1\u001b[0m\n\u001b[1;32m----> 1\u001b[0m df\u001b[38;5;241m.\u001b[39mobservation_date\u001b[38;5;241m.\u001b[39mdt\u001b[38;5;241m.\u001b[39mto_period(\u001b[38;5;124m'\u001b[39m\u001b[38;5;124mQ\u001b[39m\u001b[38;5;124m'\u001b[39m)\n",
      "File \u001b[1;32mc:\\Users\\basil\\Anaconda\\Lib\\site-packages\\pandas\\core\\generic.py:6299\u001b[0m, in \u001b[0;36mNDFrame.__getattr__\u001b[1;34m(self, name)\u001b[0m\n\u001b[0;32m   6292\u001b[0m \u001b[38;5;28;01mif\u001b[39;00m (\n\u001b[0;32m   6293\u001b[0m     name \u001b[38;5;129;01mnot\u001b[39;00m \u001b[38;5;129;01min\u001b[39;00m \u001b[38;5;28mself\u001b[39m\u001b[38;5;241m.\u001b[39m_internal_names_set\n\u001b[0;32m   6294\u001b[0m     \u001b[38;5;129;01mand\u001b[39;00m name \u001b[38;5;129;01mnot\u001b[39;00m \u001b[38;5;129;01min\u001b[39;00m \u001b[38;5;28mself\u001b[39m\u001b[38;5;241m.\u001b[39m_metadata\n\u001b[0;32m   6295\u001b[0m     \u001b[38;5;129;01mand\u001b[39;00m name \u001b[38;5;129;01mnot\u001b[39;00m \u001b[38;5;129;01min\u001b[39;00m \u001b[38;5;28mself\u001b[39m\u001b[38;5;241m.\u001b[39m_accessors\n\u001b[0;32m   6296\u001b[0m     \u001b[38;5;129;01mand\u001b[39;00m \u001b[38;5;28mself\u001b[39m\u001b[38;5;241m.\u001b[39m_info_axis\u001b[38;5;241m.\u001b[39m_can_hold_identifiers_and_holds_name(name)\n\u001b[0;32m   6297\u001b[0m ):\n\u001b[0;32m   6298\u001b[0m     \u001b[38;5;28;01mreturn\u001b[39;00m \u001b[38;5;28mself\u001b[39m[name]\n\u001b[1;32m-> 6299\u001b[0m \u001b[38;5;28;01mreturn\u001b[39;00m \u001b[38;5;28mobject\u001b[39m\u001b[38;5;241m.\u001b[39m\u001b[38;5;21m__getattribute__\u001b[39m(\u001b[38;5;28mself\u001b[39m, name)\n",
      "File \u001b[1;32mc:\\Users\\basil\\Anaconda\\Lib\\site-packages\\pandas\\core\\accessor.py:224\u001b[0m, in \u001b[0;36mCachedAccessor.__get__\u001b[1;34m(self, obj, cls)\u001b[0m\n\u001b[0;32m    221\u001b[0m \u001b[38;5;28;01mif\u001b[39;00m obj \u001b[38;5;129;01mis\u001b[39;00m \u001b[38;5;28;01mNone\u001b[39;00m:\n\u001b[0;32m    222\u001b[0m     \u001b[38;5;66;03m# we're accessing the attribute of the class, i.e., Dataset.geo\u001b[39;00m\n\u001b[0;32m    223\u001b[0m     \u001b[38;5;28;01mreturn\u001b[39;00m \u001b[38;5;28mself\u001b[39m\u001b[38;5;241m.\u001b[39m_accessor\n\u001b[1;32m--> 224\u001b[0m accessor_obj \u001b[38;5;241m=\u001b[39m \u001b[38;5;28mself\u001b[39m\u001b[38;5;241m.\u001b[39m_accessor(obj)\n\u001b[0;32m    225\u001b[0m \u001b[38;5;66;03m# Replace the property with the accessor object. Inspired by:\u001b[39;00m\n\u001b[0;32m    226\u001b[0m \u001b[38;5;66;03m# https://www.pydanny.com/cached-property.html\u001b[39;00m\n\u001b[0;32m    227\u001b[0m \u001b[38;5;66;03m# We need to use object.__setattr__ because we overwrite __setattr__ on\u001b[39;00m\n\u001b[0;32m    228\u001b[0m \u001b[38;5;66;03m# NDFrame\u001b[39;00m\n\u001b[0;32m    229\u001b[0m \u001b[38;5;28mobject\u001b[39m\u001b[38;5;241m.\u001b[39m\u001b[38;5;21m__setattr__\u001b[39m(obj, \u001b[38;5;28mself\u001b[39m\u001b[38;5;241m.\u001b[39m_name, accessor_obj)\n",
      "File \u001b[1;32mc:\\Users\\basil\\Anaconda\\Lib\\site-packages\\pandas\\core\\indexes\\accessors.py:643\u001b[0m, in \u001b[0;36mCombinedDatetimelikeProperties.__new__\u001b[1;34m(cls, data)\u001b[0m\n\u001b[0;32m    640\u001b[0m \u001b[38;5;28;01melif\u001b[39;00m \u001b[38;5;28misinstance\u001b[39m(data\u001b[38;5;241m.\u001b[39mdtype, PeriodDtype):\n\u001b[0;32m    641\u001b[0m     \u001b[38;5;28;01mreturn\u001b[39;00m PeriodProperties(data, orig)\n\u001b[1;32m--> 643\u001b[0m \u001b[38;5;28;01mraise\u001b[39;00m \u001b[38;5;167;01mAttributeError\u001b[39;00m(\u001b[38;5;124m\"\u001b[39m\u001b[38;5;124mCan only use .dt accessor with datetimelike values\u001b[39m\u001b[38;5;124m\"\u001b[39m)\n",
      "\u001b[1;31mAttributeError\u001b[0m: Can only use .dt accessor with datetimelike values"
     ]
    }
   ],
   "source": [
    "df.observation_date.dt.to_period('Q')"
   ]
  },
  {
   "cell_type": "code",
   "execution_count": 10,
   "id": "cf55c9be",
   "metadata": {},
   "outputs": [],
   "source": [
    "df.observation_date=pd.to_datetime(df.observation_date)"
   ]
  },
  {
   "cell_type": "code",
   "execution_count": 11,
   "id": "fa82c6f3",
   "metadata": {},
   "outputs": [
    {
     "data": {
      "text/plain": [
       "0     1968-01-01\n",
       "1     1968-02-01\n",
       "2     1968-03-01\n",
       "3     1968-04-01\n",
       "4     1968-05-01\n",
       "         ...    \n",
       "686   2025-03-01\n",
       "687   2025-04-01\n",
       "688   2025-05-01\n",
       "689   2025-06-01\n",
       "690   2025-07-01\n",
       "Name: observation_date, Length: 691, dtype: datetime64[ns]"
      ]
     },
     "execution_count": 11,
     "metadata": {},
     "output_type": "execute_result"
    }
   ],
   "source": [
    "df.observation_date"
   ]
  },
  {
   "cell_type": "code",
   "execution_count": 12,
   "id": "bfaf27cb",
   "metadata": {},
   "outputs": [
    {
     "data": {
      "text/plain": [
       "0      1968Q1\n",
       "1      1968Q1\n",
       "2      1968Q1\n",
       "3      1968Q2\n",
       "4      1968Q2\n",
       "        ...  \n",
       "686    2025Q1\n",
       "687    2025Q2\n",
       "688    2025Q2\n",
       "689    2025Q2\n",
       "690    2025Q3\n",
       "Name: observation_date, Length: 691, dtype: period[Q-DEC]"
      ]
     },
     "execution_count": 12,
     "metadata": {},
     "output_type": "execute_result"
    }
   ],
   "source": [
    "df.observation_date.dt.to_period('Q')"
   ]
  },
  {
   "cell_type": "code",
   "execution_count": 14,
   "id": "f2ab538d",
   "metadata": {},
   "outputs": [],
   "source": [
    "df = pd.read_csv(\"../data/CORESTICKM159SFRBATL.csv\", parse_dates=['observation_date'])"
   ]
  },
  {
   "cell_type": "code",
   "execution_count": 15,
   "id": "a4058dbd",
   "metadata": {},
   "outputs": [
    {
     "data": {
      "text/plain": [
       "0     1968-01-01\n",
       "1     1968-02-01\n",
       "2     1968-03-01\n",
       "3     1968-04-01\n",
       "4     1968-05-01\n",
       "         ...    \n",
       "686   2025-03-01\n",
       "687   2025-04-01\n",
       "688   2025-05-01\n",
       "689   2025-06-01\n",
       "690   2025-07-01\n",
       "Name: observation_date, Length: 691, dtype: datetime64[ns]"
      ]
     },
     "execution_count": 15,
     "metadata": {},
     "output_type": "execute_result"
    }
   ],
   "source": [
    "df.observation_date"
   ]
  },
  {
   "cell_type": "markdown",
   "id": "6950f767",
   "metadata": {},
   "source": [
    "### load data from Excel"
   ]
  },
  {
   "cell_type": "code",
   "execution_count": 16,
   "id": "4bda34dc",
   "metadata": {},
   "outputs": [],
   "source": [
    "path = '../data/CORESTICKM159SFRBATL.xlsx'"
   ]
  },
  {
   "cell_type": "code",
   "execution_count": 19,
   "id": "3cc1cc7f",
   "metadata": {},
   "outputs": [],
   "source": [
    "df_excel = pd.read_excel(path,sheet_name=1,index_col=0)"
   ]
  },
  {
   "cell_type": "code",
   "execution_count": 20,
   "id": "17d26452",
   "metadata": {},
   "outputs": [
    {
     "data": {
      "text/html": [
       "<div>\n",
       "<style scoped>\n",
       "    .dataframe tbody tr th:only-of-type {\n",
       "        vertical-align: middle;\n",
       "    }\n",
       "\n",
       "    .dataframe tbody tr th {\n",
       "        vertical-align: top;\n",
       "    }\n",
       "\n",
       "    .dataframe thead th {\n",
       "        text-align: right;\n",
       "    }\n",
       "</style>\n",
       "<table border=\"1\" class=\"dataframe\">\n",
       "  <thead>\n",
       "    <tr style=\"text-align: right;\">\n",
       "      <th></th>\n",
       "      <th>CORESTICKM159SFRBATL</th>\n",
       "    </tr>\n",
       "    <tr>\n",
       "      <th>observation_date</th>\n",
       "      <th></th>\n",
       "    </tr>\n",
       "  </thead>\n",
       "  <tbody>\n",
       "    <tr>\n",
       "      <th>1968-01-01</th>\n",
       "      <td>3.651861</td>\n",
       "    </tr>\n",
       "    <tr>\n",
       "      <th>1968-02-01</th>\n",
       "      <td>3.673819</td>\n",
       "    </tr>\n",
       "    <tr>\n",
       "      <th>1968-03-01</th>\n",
       "      <td>4.142164</td>\n",
       "    </tr>\n",
       "    <tr>\n",
       "      <th>1968-04-01</th>\n",
       "      <td>4.155828</td>\n",
       "    </tr>\n",
       "    <tr>\n",
       "      <th>1968-05-01</th>\n",
       "      <td>4.088245</td>\n",
       "    </tr>\n",
       "    <tr>\n",
       "      <th>...</th>\n",
       "      <td>...</td>\n",
       "    </tr>\n",
       "    <tr>\n",
       "      <th>2025-03-01</th>\n",
       "      <td>3.257815</td>\n",
       "    </tr>\n",
       "    <tr>\n",
       "      <th>2025-04-01</th>\n",
       "      <td>3.176690</td>\n",
       "    </tr>\n",
       "    <tr>\n",
       "      <th>2025-05-01</th>\n",
       "      <td>3.159131</td>\n",
       "    </tr>\n",
       "    <tr>\n",
       "      <th>2025-06-01</th>\n",
       "      <td>3.288774</td>\n",
       "    </tr>\n",
       "    <tr>\n",
       "      <th>2025-07-01</th>\n",
       "      <td>3.419811</td>\n",
       "    </tr>\n",
       "  </tbody>\n",
       "</table>\n",
       "<p>691 rows × 1 columns</p>\n",
       "</div>"
      ],
      "text/plain": [
       "                  CORESTICKM159SFRBATL\n",
       "observation_date                      \n",
       "1968-01-01                    3.651861\n",
       "1968-02-01                    3.673819\n",
       "1968-03-01                    4.142164\n",
       "1968-04-01                    4.155828\n",
       "1968-05-01                    4.088245\n",
       "...                                ...\n",
       "2025-03-01                    3.257815\n",
       "2025-04-01                    3.176690\n",
       "2025-05-01                    3.159131\n",
       "2025-06-01                    3.288774\n",
       "2025-07-01                    3.419811\n",
       "\n",
       "[691 rows x 1 columns]"
      ]
     },
     "execution_count": 20,
     "metadata": {},
     "output_type": "execute_result"
    }
   ],
   "source": [
    "df_excel"
   ]
  }
 ],
 "metadata": {
  "kernelspec": {
   "display_name": "base",
   "language": "python",
   "name": "python3"
  },
  "language_info": {
   "codemirror_mode": {
    "name": "ipython",
    "version": 3
   },
   "file_extension": ".py",
   "mimetype": "text/x-python",
   "name": "python",
   "nbconvert_exporter": "python",
   "pygments_lexer": "ipython3",
   "version": "3.13.5"
  }
 },
 "nbformat": 4,
 "nbformat_minor": 5
}
