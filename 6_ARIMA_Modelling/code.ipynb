{
 "cells": [
  {
   "cell_type": "markdown",
   "id": "637f6ccc",
   "metadata": {},
   "source": [
    "#### Statistical forecasting with ARIMA"
   ]
  },
  {
   "cell_type": "code",
   "execution_count": 36,
   "id": "137faf04",
   "metadata": {},
   "outputs": [
    {
     "name": "stdout",
     "output_type": "stream",
     "text": [
      "c:\\Users\\basil\\Anaconda\\python.exe\n"
     ]
    }
   ],
   "source": [
    "import sys\n",
    "print(sys.executable)"
   ]
  },
  {
   "cell_type": "code",
   "execution_count": 37,
   "id": "3b92b319",
   "metadata": {},
   "outputs": [],
   "source": [
    "import sys\n",
    "sys.path.append('../modules')  # go up one folder, then into \"modules\"\n",
    "\n",
    "import utils\n",
    "utils.configure_plotly_template(showlegend=True)"
   ]
  },
  {
   "cell_type": "code",
   "execution_count": 38,
   "id": "77c2a2b2",
   "metadata": {},
   "outputs": [
    {
     "data": {
      "text/plain": [
       "1949-01-31    4.718499\n",
       "1949-02-28    4.770685\n",
       "1949-03-31    4.882802\n",
       "1949-04-30    4.859812\n",
       "1949-05-31    4.795791\n",
       "                ...   \n",
       "1960-08-31    6.406880\n",
       "1960-09-30    6.230481\n",
       "1960-10-31    6.133398\n",
       "1960-11-30    5.966147\n",
       "1960-12-31    6.068426\n",
       "Freq: ME, Name: values, Length: 144, dtype: float64"
      ]
     },
     "execution_count": 38,
     "metadata": {},
     "output_type": "execute_result"
    }
   ],
   "source": [
    "import pandas as pd\n",
    "df = pd.read_parquet('../statsmodel/AirPassengers_log.parquet').asfreq('ME')\n",
    "df.columns = [\"values\"]\n",
    "series = df[\"values\"]\n",
    "series"
   ]
  },
  {
   "cell_type": "code",
   "execution_count": 39,
   "id": "a2f5954f",
   "metadata": {},
   "outputs": [
    {
     "data": {
      "application/vnd.plotly.v1+json": {
       "config": {
        "plotlyServerURL": "https://plot.ly"
       },
       "data": [
        {
         "hovertemplate": "variable=values<br>index=%{x}<br>value=%{y}<extra></extra>",
         "legendgroup": "values",
         "line": {
          "color": "#636efa",
          "dash": "solid"
         },
         "marker": {
          "symbol": "circle"
         },
         "mode": "lines",
         "name": "values",
         "orientation": "v",
         "showlegend": true,
         "type": "scatter",
         "x": [
          "1949-01-31T00:00:00",
          "1949-02-28T00:00:00",
          "1949-03-31T00:00:00",
          "1949-04-30T00:00:00",
          "1949-05-31T00:00:00",
          "1949-06-30T00:00:00",
          "1949-07-31T00:00:00",
          "1949-08-31T00:00:00",
          "1949-09-30T00:00:00",
          "1949-10-31T00:00:00",
          "1949-11-30T00:00:00",
          "1949-12-31T00:00:00",
          "1950-01-31T00:00:00",
          "1950-02-28T00:00:00",
          "1950-03-31T00:00:00",
          "1950-04-30T00:00:00",
          "1950-05-31T00:00:00",
          "1950-06-30T00:00:00",
          "1950-07-31T00:00:00",
          "1950-08-31T00:00:00",
          "1950-09-30T00:00:00",
          "1950-10-31T00:00:00",
          "1950-11-30T00:00:00",
          "1950-12-31T00:00:00",
          "1951-01-31T00:00:00",
          "1951-02-28T00:00:00",
          "1951-03-31T00:00:00",
          "1951-04-30T00:00:00",
          "1951-05-31T00:00:00",
          "1951-06-30T00:00:00",
          "1951-07-31T00:00:00",
          "1951-08-31T00:00:00",
          "1951-09-30T00:00:00",
          "1951-10-31T00:00:00",
          "1951-11-30T00:00:00",
          "1951-12-31T00:00:00",
          "1952-01-31T00:00:00",
          "1952-02-29T00:00:00",
          "1952-03-31T00:00:00",
          "1952-04-30T00:00:00",
          "1952-05-31T00:00:00",
          "1952-06-30T00:00:00",
          "1952-07-31T00:00:00",
          "1952-08-31T00:00:00",
          "1952-09-30T00:00:00",
          "1952-10-31T00:00:00",
          "1952-11-30T00:00:00",
          "1952-12-31T00:00:00",
          "1953-01-31T00:00:00",
          "1953-02-28T00:00:00",
          "1953-03-31T00:00:00",
          "1953-04-30T00:00:00",
          "1953-05-31T00:00:00",
          "1953-06-30T00:00:00",
          "1953-07-31T00:00:00",
          "1953-08-31T00:00:00",
          "1953-09-30T00:00:00",
          "1953-10-31T00:00:00",
          "1953-11-30T00:00:00",
          "1953-12-31T00:00:00",
          "1954-01-31T00:00:00",
          "1954-02-28T00:00:00",
          "1954-03-31T00:00:00",
          "1954-04-30T00:00:00",
          "1954-05-31T00:00:00",
          "1954-06-30T00:00:00",
          "1954-07-31T00:00:00",
          "1954-08-31T00:00:00",
          "1954-09-30T00:00:00",
          "1954-10-31T00:00:00",
          "1954-11-30T00:00:00",
          "1954-12-31T00:00:00",
          "1955-01-31T00:00:00",
          "1955-02-28T00:00:00",
          "1955-03-31T00:00:00",
          "1955-04-30T00:00:00",
          "1955-05-31T00:00:00",
          "1955-06-30T00:00:00",
          "1955-07-31T00:00:00",
          "1955-08-31T00:00:00",
          "1955-09-30T00:00:00",
          "1955-10-31T00:00:00",
          "1955-11-30T00:00:00",
          "1955-12-31T00:00:00",
          "1956-01-31T00:00:00",
          "1956-02-29T00:00:00",
          "1956-03-31T00:00:00",
          "1956-04-30T00:00:00",
          "1956-05-31T00:00:00",
          "1956-06-30T00:00:00",
          "1956-07-31T00:00:00",
          "1956-08-31T00:00:00",
          "1956-09-30T00:00:00",
          "1956-10-31T00:00:00",
          "1956-11-30T00:00:00",
          "1956-12-31T00:00:00",
          "1957-01-31T00:00:00",
          "1957-02-28T00:00:00",
          "1957-03-31T00:00:00",
          "1957-04-30T00:00:00",
          "1957-05-31T00:00:00",
          "1957-06-30T00:00:00",
          "1957-07-31T00:00:00",
          "1957-08-31T00:00:00",
          "1957-09-30T00:00:00",
          "1957-10-31T00:00:00",
          "1957-11-30T00:00:00",
          "1957-12-31T00:00:00",
          "1958-01-31T00:00:00",
          "1958-02-28T00:00:00",
          "1958-03-31T00:00:00",
          "1958-04-30T00:00:00",
          "1958-05-31T00:00:00",
          "1958-06-30T00:00:00",
          "1958-07-31T00:00:00",
          "1958-08-31T00:00:00",
          "1958-09-30T00:00:00",
          "1958-10-31T00:00:00",
          "1958-11-30T00:00:00",
          "1958-12-31T00:00:00",
          "1959-01-31T00:00:00",
          "1959-02-28T00:00:00",
          "1959-03-31T00:00:00",
          "1959-04-30T00:00:00",
          "1959-05-31T00:00:00",
          "1959-06-30T00:00:00",
          "1959-07-31T00:00:00",
          "1959-08-31T00:00:00",
          "1959-09-30T00:00:00",
          "1959-10-31T00:00:00",
          "1959-11-30T00:00:00",
          "1959-12-31T00:00:00",
          "1960-01-31T00:00:00",
          "1960-02-29T00:00:00",
          "1960-03-31T00:00:00",
          "1960-04-30T00:00:00",
          "1960-05-31T00:00:00",
          "1960-06-30T00:00:00",
          "1960-07-31T00:00:00",
          "1960-08-31T00:00:00",
          "1960-09-30T00:00:00",
          "1960-10-31T00:00:00",
          "1960-11-30T00:00:00",
          "1960-12-31T00:00:00"
         ],
         "xaxis": "x",
         "y": [
          4.718498871295094,
          4.770684624465665,
          4.882801922586371,
          4.859812404361672,
          4.795790545596741,
          4.90527477843843,
          4.997212273764115,
          4.997212273764115,
          4.912654885736052,
          4.77912349311153,
          4.6443908991413725,
          4.770684624465665,
          4.74493212836325,
          4.836281906951478,
          4.948759890378168,
          4.90527477843843,
          4.8283137373023015,
          5.003946305945459,
          5.135798437050262,
          5.135798437050262,
          5.062595033026967,
          4.890349128221754,
          4.736198448394496,
          4.941642422609304,
          4.976733742420574,
          5.0106352940962555,
          5.181783550292085,
          5.093750200806762,
          5.147494476813453,
          5.181783550292085,
          5.293304824724492,
          5.293304824724492,
          5.214935757608986,
          5.087596335232384,
          4.983606621708336,
          5.111987788356544,
          5.14166355650266,
          5.19295685089021,
          5.262690188904886,
          5.198497031265826,
          5.209486152841421,
          5.384495062789089,
          5.438079308923196,
          5.488937726156687,
          5.342334251964811,
          5.25227342804663,
          5.147494476813453,
          5.267858159063328,
          5.278114659230517,
          5.278114659230517,
          5.4638318050256105,
          5.459585514144159,
          5.43372200355424,
          5.493061443340548,
          5.575949103146316,
          5.605802066295998,
          5.4680601411351315,
          5.351858133476067,
          5.19295685089021,
          5.303304908059076,
          5.318119993844216,
          5.236441962829949,
          5.459585514144159,
          5.424950017481403,
          5.455321115357702,
          5.575949103146316,
          5.71042701737487,
          5.680172609017068,
          5.556828061699537,
          5.43372200355424,
          5.313205979041787,
          5.43372200355424,
          5.488937726156687,
          5.4510384535657,
          5.58724865840025,
          5.594711379601839,
          5.598421958998375,
          5.752572638825633,
          5.8971538676367405,
          5.849324779946859,
          5.7430031878094825,
          5.6131281063880705,
          5.4680601411351315,
          5.627621113690637,
          5.648974238161206,
          5.6240175061873385,
          5.75890177387728,
          5.746203190540153,
          5.762051382780177,
          5.924255797414532,
          6.023447592961033,
          6.003887067106539,
          5.872117789475416,
          5.723585101952381,
          5.602118820879701,
          5.723585101952381,
          5.752572638825633,
          5.707110264748875,
          5.87493073085203,
          5.8522024797744745,
          5.872117789475416,
          6.045005314036012,
          6.142037405587356,
          6.1463292576688975,
          6.0014148779611505,
          5.849324779946859,
          5.720311776607412,
          5.817111159963204,
          5.8289456176102075,
          5.762051382780177,
          5.8916442118257715,
          5.8522024797744745,
          5.8944028342648505,
          6.075346031088684,
          6.19644412779452,
          6.22455842927536,
          6.0014148779611505,
          5.883322388488279,
          5.736572297479192,
          5.820082930352362,
          5.886104031450156,
          5.834810737062605,
          6.0063531596017325,
          5.981414211254481,
          6.040254711277414,
          6.156978985585555,
          6.306275286948016,
          6.326149473155099,
          6.137727054086234,
          6.008813185442595,
          5.8916442118257715,
          6.003887067106539,
          6.0330862217988015,
          5.968707559985366,
          6.037870919922137,
          6.133398042996649,
          6.156978985585555,
          6.282266746896006,
          6.432940092739179,
          6.406879986069314,
          6.230481447578482,
          6.133398042996649,
          5.966146739123692,
          6.068425588244111
         ],
         "yaxis": "y"
        }
       ],
       "layout": {
        "legend": {
         "title": {
          "text": "variable"
         },
         "tracegroupgap": 0
        },
        "margin": {
         "t": 60
        },
        "template": {
         "data": {
          "bar": [
           {
            "error_x": {
             "color": "#f2f5fa"
            },
            "error_y": {
             "color": "#f2f5fa"
            },
            "marker": {
             "line": {
              "color": "rgb(17,17,17)",
              "width": 0.5
             },
             "pattern": {
              "fillmode": "overlay",
              "size": 10,
              "solidity": 0.2
             }
            },
            "type": "bar"
           }
          ],
          "barpolar": [
           {
            "marker": {
             "line": {
              "color": "rgb(17,17,17)",
              "width": 0.5
             },
             "pattern": {
              "fillmode": "overlay",
              "size": 10,
              "solidity": 0.2
             }
            },
            "type": "barpolar"
           }
          ],
          "carpet": [
           {
            "aaxis": {
             "endlinecolor": "#A2B1C6",
             "gridcolor": "#506784",
             "linecolor": "#506784",
             "minorgridcolor": "#506784",
             "startlinecolor": "#A2B1C6"
            },
            "baxis": {
             "endlinecolor": "#A2B1C6",
             "gridcolor": "#506784",
             "linecolor": "#506784",
             "minorgridcolor": "#506784",
             "startlinecolor": "#A2B1C6"
            },
            "type": "carpet"
           }
          ],
          "choropleth": [
           {
            "colorbar": {
             "outlinewidth": 0,
             "ticks": ""
            },
            "type": "choropleth"
           }
          ],
          "contour": [
           {
            "colorbar": {
             "outlinewidth": 0,
             "ticks": ""
            },
            "colorscale": [
             [
              0,
              "#0d0887"
             ],
             [
              0.1111111111111111,
              "#46039f"
             ],
             [
              0.2222222222222222,
              "#7201a8"
             ],
             [
              0.3333333333333333,
              "#9c179e"
             ],
             [
              0.4444444444444444,
              "#bd3786"
             ],
             [
              0.5555555555555556,
              "#d8576b"
             ],
             [
              0.6666666666666666,
              "#ed7953"
             ],
             [
              0.7777777777777778,
              "#fb9f3a"
             ],
             [
              0.8888888888888888,
              "#fdca26"
             ],
             [
              1,
              "#f0f921"
             ]
            ],
            "type": "contour"
           }
          ],
          "contourcarpet": [
           {
            "colorbar": {
             "outlinewidth": 0,
             "ticks": ""
            },
            "type": "contourcarpet"
           }
          ],
          "heatmap": [
           {
            "colorbar": {
             "outlinewidth": 0,
             "ticks": ""
            },
            "colorscale": [
             [
              0,
              "#0d0887"
             ],
             [
              0.1111111111111111,
              "#46039f"
             ],
             [
              0.2222222222222222,
              "#7201a8"
             ],
             [
              0.3333333333333333,
              "#9c179e"
             ],
             [
              0.4444444444444444,
              "#bd3786"
             ],
             [
              0.5555555555555556,
              "#d8576b"
             ],
             [
              0.6666666666666666,
              "#ed7953"
             ],
             [
              0.7777777777777778,
              "#fb9f3a"
             ],
             [
              0.8888888888888888,
              "#fdca26"
             ],
             [
              1,
              "#f0f921"
             ]
            ],
            "type": "heatmap"
           }
          ],
          "heatmapgl": [
           {
            "colorbar": {
             "outlinewidth": 0,
             "ticks": ""
            },
            "colorscale": [
             [
              0,
              "#0d0887"
             ],
             [
              0.1111111111111111,
              "#46039f"
             ],
             [
              0.2222222222222222,
              "#7201a8"
             ],
             [
              0.3333333333333333,
              "#9c179e"
             ],
             [
              0.4444444444444444,
              "#bd3786"
             ],
             [
              0.5555555555555556,
              "#d8576b"
             ],
             [
              0.6666666666666666,
              "#ed7953"
             ],
             [
              0.7777777777777778,
              "#fb9f3a"
             ],
             [
              0.8888888888888888,
              "#fdca26"
             ],
             [
              1,
              "#f0f921"
             ]
            ],
            "type": "heatmapgl"
           }
          ],
          "histogram": [
           {
            "marker": {
             "pattern": {
              "fillmode": "overlay",
              "size": 10,
              "solidity": 0.2
             }
            },
            "type": "histogram"
           }
          ],
          "histogram2d": [
           {
            "colorbar": {
             "outlinewidth": 0,
             "ticks": ""
            },
            "colorscale": [
             [
              0,
              "#0d0887"
             ],
             [
              0.1111111111111111,
              "#46039f"
             ],
             [
              0.2222222222222222,
              "#7201a8"
             ],
             [
              0.3333333333333333,
              "#9c179e"
             ],
             [
              0.4444444444444444,
              "#bd3786"
             ],
             [
              0.5555555555555556,
              "#d8576b"
             ],
             [
              0.6666666666666666,
              "#ed7953"
             ],
             [
              0.7777777777777778,
              "#fb9f3a"
             ],
             [
              0.8888888888888888,
              "#fdca26"
             ],
             [
              1,
              "#f0f921"
             ]
            ],
            "type": "histogram2d"
           }
          ],
          "histogram2dcontour": [
           {
            "colorbar": {
             "outlinewidth": 0,
             "ticks": ""
            },
            "colorscale": [
             [
              0,
              "#0d0887"
             ],
             [
              0.1111111111111111,
              "#46039f"
             ],
             [
              0.2222222222222222,
              "#7201a8"
             ],
             [
              0.3333333333333333,
              "#9c179e"
             ],
             [
              0.4444444444444444,
              "#bd3786"
             ],
             [
              0.5555555555555556,
              "#d8576b"
             ],
             [
              0.6666666666666666,
              "#ed7953"
             ],
             [
              0.7777777777777778,
              "#fb9f3a"
             ],
             [
              0.8888888888888888,
              "#fdca26"
             ],
             [
              1,
              "#f0f921"
             ]
            ],
            "type": "histogram2dcontour"
           }
          ],
          "mesh3d": [
           {
            "colorbar": {
             "outlinewidth": 0,
             "ticks": ""
            },
            "type": "mesh3d"
           }
          ],
          "parcoords": [
           {
            "line": {
             "colorbar": {
              "outlinewidth": 0,
              "ticks": ""
             }
            },
            "type": "parcoords"
           }
          ],
          "pie": [
           {
            "automargin": true,
            "type": "pie"
           }
          ],
          "scatter": [
           {
            "marker": {
             "line": {
              "color": "#283442"
             }
            },
            "type": "scatter"
           }
          ],
          "scatter3d": [
           {
            "line": {
             "colorbar": {
              "outlinewidth": 0,
              "ticks": ""
             }
            },
            "marker": {
             "colorbar": {
              "outlinewidth": 0,
              "ticks": ""
             }
            },
            "type": "scatter3d"
           }
          ],
          "scattercarpet": [
           {
            "marker": {
             "colorbar": {
              "outlinewidth": 0,
              "ticks": ""
             }
            },
            "type": "scattercarpet"
           }
          ],
          "scattergeo": [
           {
            "marker": {
             "colorbar": {
              "outlinewidth": 0,
              "ticks": ""
             }
            },
            "type": "scattergeo"
           }
          ],
          "scattergl": [
           {
            "marker": {
             "line": {
              "color": "#283442"
             }
            },
            "type": "scattergl"
           }
          ],
          "scattermapbox": [
           {
            "marker": {
             "colorbar": {
              "outlinewidth": 0,
              "ticks": ""
             }
            },
            "type": "scattermapbox"
           }
          ],
          "scatterpolar": [
           {
            "marker": {
             "colorbar": {
              "outlinewidth": 0,
              "ticks": ""
             }
            },
            "type": "scatterpolar"
           }
          ],
          "scatterpolargl": [
           {
            "marker": {
             "colorbar": {
              "outlinewidth": 0,
              "ticks": ""
             }
            },
            "type": "scatterpolargl"
           }
          ],
          "scatterternary": [
           {
            "marker": {
             "colorbar": {
              "outlinewidth": 0,
              "ticks": ""
             }
            },
            "type": "scatterternary"
           }
          ],
          "surface": [
           {
            "colorbar": {
             "outlinewidth": 0,
             "ticks": ""
            },
            "colorscale": [
             [
              0,
              "#0d0887"
             ],
             [
              0.1111111111111111,
              "#46039f"
             ],
             [
              0.2222222222222222,
              "#7201a8"
             ],
             [
              0.3333333333333333,
              "#9c179e"
             ],
             [
              0.4444444444444444,
              "#bd3786"
             ],
             [
              0.5555555555555556,
              "#d8576b"
             ],
             [
              0.6666666666666666,
              "#ed7953"
             ],
             [
              0.7777777777777778,
              "#fb9f3a"
             ],
             [
              0.8888888888888888,
              "#fdca26"
             ],
             [
              1,
              "#f0f921"
             ]
            ],
            "type": "surface"
           }
          ],
          "table": [
           {
            "cells": {
             "fill": {
              "color": "#506784"
             },
             "line": {
              "color": "rgb(17,17,17)"
             }
            },
            "header": {
             "fill": {
              "color": "#2a3f5f"
             },
             "line": {
              "color": "rgb(17,17,17)"
             }
            },
            "type": "table"
           }
          ]
         },
         "layout": {
          "annotationdefaults": {
           "arrowcolor": "#f2f5fa",
           "arrowhead": 0,
           "arrowwidth": 1
          },
          "autosize": false,
          "autotypenumbers": "strict",
          "coloraxis": {
           "colorbar": {
            "outlinewidth": 0,
            "ticks": ""
           }
          },
          "colorscale": {
           "diverging": [
            [
             0,
             "#8e0152"
            ],
            [
             0.1,
             "#c51b7d"
            ],
            [
             0.2,
             "#de77ae"
            ],
            [
             0.3,
             "#f1b6da"
            ],
            [
             0.4,
             "#fde0ef"
            ],
            [
             0.5,
             "#f7f7f7"
            ],
            [
             0.6,
             "#e6f5d0"
            ],
            [
             0.7,
             "#b8e186"
            ],
            [
             0.8,
             "#7fbc41"
            ],
            [
             0.9,
             "#4d9221"
            ],
            [
             1,
             "#276419"
            ]
           ],
           "sequential": [
            [
             0,
             "#0d0887"
            ],
            [
             0.1111111111111111,
             "#46039f"
            ],
            [
             0.2222222222222222,
             "#7201a8"
            ],
            [
             0.3333333333333333,
             "#9c179e"
            ],
            [
             0.4444444444444444,
             "#bd3786"
            ],
            [
             0.5555555555555556,
             "#d8576b"
            ],
            [
             0.6666666666666666,
             "#ed7953"
            ],
            [
             0.7777777777777778,
             "#fb9f3a"
            ],
            [
             0.8888888888888888,
             "#fdca26"
            ],
            [
             1,
             "#f0f921"
            ]
           ],
           "sequentialminus": [
            [
             0,
             "#0d0887"
            ],
            [
             0.1111111111111111,
             "#46039f"
            ],
            [
             0.2222222222222222,
             "#7201a8"
            ],
            [
             0.3333333333333333,
             "#9c179e"
            ],
            [
             0.4444444444444444,
             "#bd3786"
            ],
            [
             0.5555555555555556,
             "#d8576b"
            ],
            [
             0.6666666666666666,
             "#ed7953"
            ],
            [
             0.7777777777777778,
             "#fb9f3a"
            ],
            [
             0.8888888888888888,
             "#fdca26"
            ],
            [
             1,
             "#f0f921"
            ]
           ]
          },
          "colorway": [
           "#636efa",
           "#EF553B",
           "#00cc96",
           "#ab63fa",
           "#FFA15A",
           "#19d3f3",
           "#FF6692",
           "#B6E880",
           "#FF97FF",
           "#FECB52"
          ],
          "font": {
           "color": "#f2f5fa"
          },
          "geo": {
           "bgcolor": "rgb(17,17,17)",
           "lakecolor": "rgb(17,17,17)",
           "landcolor": "rgb(17,17,17)",
           "showlakes": true,
           "showland": true,
           "subunitcolor": "#506784"
          },
          "height": 500,
          "hoverlabel": {
           "align": "left"
          },
          "hovermode": "closest",
          "mapbox": {
           "style": "dark"
          },
          "paper_bgcolor": "rgb(17,17,17)",
          "plot_bgcolor": "rgb(17,17,17)",
          "polar": {
           "angularaxis": {
            "gridcolor": "#506784",
            "linecolor": "#506784",
            "ticks": ""
           },
           "bgcolor": "rgb(17,17,17)",
           "radialaxis": {
            "gridcolor": "#506784",
            "linecolor": "#506784",
            "ticks": ""
           }
          },
          "scene": {
           "xaxis": {
            "backgroundcolor": "rgb(17,17,17)",
            "gridcolor": "#506784",
            "gridwidth": 2,
            "linecolor": "#506784",
            "showbackground": true,
            "ticks": "",
            "zerolinecolor": "#C8D4E3"
           },
           "yaxis": {
            "backgroundcolor": "rgb(17,17,17)",
            "gridcolor": "#506784",
            "gridwidth": 2,
            "linecolor": "#506784",
            "showbackground": true,
            "ticks": "",
            "zerolinecolor": "#C8D4E3"
           },
           "zaxis": {
            "backgroundcolor": "rgb(17,17,17)",
            "gridcolor": "#506784",
            "gridwidth": 2,
            "linecolor": "#506784",
            "showbackground": true,
            "ticks": "",
            "zerolinecolor": "#C8D4E3"
           }
          },
          "shapedefaults": {
           "line": {
            "color": "#f2f5fa"
           }
          },
          "showlegend": true,
          "sliderdefaults": {
           "bgcolor": "#C8D4E3",
           "bordercolor": "rgb(17,17,17)",
           "borderwidth": 1,
           "tickwidth": 0
          },
          "ternary": {
           "aaxis": {
            "gridcolor": "#506784",
            "linecolor": "#506784",
            "ticks": ""
           },
           "baxis": {
            "gridcolor": "#506784",
            "linecolor": "#506784",
            "ticks": ""
           },
           "bgcolor": "rgb(17,17,17)",
           "caxis": {
            "gridcolor": "#506784",
            "linecolor": "#506784",
            "ticks": ""
           }
          },
          "title": {
           "x": 0.05
          },
          "updatemenudefaults": {
           "bgcolor": "#506784",
           "borderwidth": 0
          },
          "width": 1000,
          "xaxis": {
           "automargin": true,
           "gridcolor": "#283442",
           "linecolor": "#506784",
           "ticks": "",
           "title": {
            "standoff": 15
           },
           "zerolinecolor": "#283442",
           "zerolinewidth": 2
          },
          "yaxis": {
           "automargin": true,
           "gridcolor": "#283442",
           "linecolor": "#506784",
           "ticks": "",
           "title": {
            "standoff": 15
           },
           "zerolinecolor": "#283442",
           "zerolinewidth": 2
          }
         }
        },
        "xaxis": {
         "anchor": "y",
         "domain": [
          0,
          1
         ],
         "title": {
          "text": "index"
         }
        },
        "yaxis": {
         "anchor": "x",
         "domain": [
          0,
          1
         ],
         "title": {
          "text": "value"
         }
        }
       }
      }
     },
     "metadata": {},
     "output_type": "display_data"
    }
   ],
   "source": [
    "series.plot()"
   ]
  },
  {
   "cell_type": "markdown",
   "id": "f3816596",
   "metadata": {},
   "source": [
    "#### Model fit"
   ]
  },
  {
   "cell_type": "code",
   "execution_count": 40,
   "id": "9047c84a",
   "metadata": {},
   "outputs": [],
   "source": [
    "from statsmodels.tsa.arima.model import ARIMA"
   ]
  },
  {
   "cell_type": "code",
   "execution_count": 41,
   "id": "3254f307",
   "metadata": {},
   "outputs": [
    {
     "data": {
      "text/plain": [
       "DatetimeIndex(['1949-01-31', '1949-02-28', '1949-03-31', '1949-04-30',\n",
       "               '1949-05-31', '1949-06-30', '1949-07-31', '1949-08-31',\n",
       "               '1949-09-30', '1949-10-31',\n",
       "               ...\n",
       "               '1960-03-31', '1960-04-30', '1960-05-31', '1960-06-30',\n",
       "               '1960-07-31', '1960-08-31', '1960-09-30', '1960-10-31',\n",
       "               '1960-11-30', '1960-12-31'],\n",
       "              dtype='datetime64[ns]', length=144, freq='ME')"
      ]
     },
     "execution_count": 41,
     "metadata": {},
     "output_type": "execute_result"
    }
   ],
   "source": [
    "series.index"
   ]
  },
  {
   "cell_type": "code",
   "execution_count": 42,
   "id": "4cfdb992",
   "metadata": {},
   "outputs": [
    {
     "name": "stderr",
     "output_type": "stream",
     "text": [
      "c:\\Users\\basil\\Anaconda\\Lib\\site-packages\\statsmodels\\base\\model.py:607: ConvergenceWarning:\n",
      "\n",
      "Maximum Likelihood optimization failed to converge. Check mle_retvals\n",
      "\n"
     ]
    }
   ],
   "source": [
    "p = 12\n",
    "d = 1\n",
    "q = 2 \n",
    "model = ARIMA(endog=series, order=(p ,d, q))\n",
    "model_fit =model.fit()"
   ]
  },
  {
   "cell_type": "code",
   "execution_count": 43,
   "id": "4d4b813c",
   "metadata": {},
   "outputs": [
    {
     "data": {
      "text/html": [
       "<table class=\"simpletable\">\n",
       "<caption>SARIMAX Results</caption>\n",
       "<tr>\n",
       "  <th>Dep. Variable:</th>        <td>values</td>      <th>  No. Observations:  </th>    <td>144</td>  \n",
       "</tr>\n",
       "<tr>\n",
       "  <th>Model:</th>            <td>ARIMA(12, 1, 2)</td> <th>  Log Likelihood     </th>  <td>246.772</td>\n",
       "</tr>\n",
       "<tr>\n",
       "  <th>Date:</th>            <td>Mon, 08 Sep 2025</td> <th>  AIC                </th> <td>-463.543</td>\n",
       "</tr>\n",
       "<tr>\n",
       "  <th>Time:</th>                <td>12:29:34</td>     <th>  BIC                </th> <td>-419.101</td>\n",
       "</tr>\n",
       "<tr>\n",
       "  <th>Sample:</th>             <td>01-31-1949</td>    <th>  HQIC               </th> <td>-445.484</td>\n",
       "</tr>\n",
       "<tr>\n",
       "  <th></th>                   <td>- 12-31-1960</td>   <th>                     </th>     <td> </td>   \n",
       "</tr>\n",
       "<tr>\n",
       "  <th>Covariance Type:</th>        <td>opg</td>       <th>                     </th>     <td> </td>   \n",
       "</tr>\n",
       "</table>\n",
       "<table class=\"simpletable\">\n",
       "<tr>\n",
       "     <td></td>       <th>coef</th>     <th>std err</th>      <th>z</th>      <th>P>|z|</th>  <th>[0.025</th>    <th>0.975]</th>  \n",
       "</tr>\n",
       "<tr>\n",
       "  <th>ar.L1</th>  <td>    0.1101</td> <td>    0.062</td> <td>    1.777</td> <td> 0.076</td> <td>   -0.011</td> <td>    0.232</td>\n",
       "</tr>\n",
       "<tr>\n",
       "  <th>ar.L2</th>  <td>   -0.0752</td> <td>    0.066</td> <td>   -1.133</td> <td> 0.257</td> <td>   -0.205</td> <td>    0.055</td>\n",
       "</tr>\n",
       "<tr>\n",
       "  <th>ar.L3</th>  <td>    0.0065</td> <td>    0.049</td> <td>    0.133</td> <td> 0.894</td> <td>   -0.090</td> <td>    0.103</td>\n",
       "</tr>\n",
       "<tr>\n",
       "  <th>ar.L4</th>  <td>   -0.0635</td> <td>    0.051</td> <td>   -1.244</td> <td> 0.214</td> <td>   -0.164</td> <td>    0.037</td>\n",
       "</tr>\n",
       "<tr>\n",
       "  <th>ar.L5</th>  <td>    0.0554</td> <td>    0.051</td> <td>    1.092</td> <td> 0.275</td> <td>   -0.044</td> <td>    0.155</td>\n",
       "</tr>\n",
       "<tr>\n",
       "  <th>ar.L6</th>  <td>   -0.0502</td> <td>    0.045</td> <td>   -1.116</td> <td> 0.265</td> <td>   -0.138</td> <td>    0.038</td>\n",
       "</tr>\n",
       "<tr>\n",
       "  <th>ar.L7</th>  <td>   -0.0072</td> <td>    0.050</td> <td>   -0.144</td> <td> 0.886</td> <td>   -0.105</td> <td>    0.090</td>\n",
       "</tr>\n",
       "<tr>\n",
       "  <th>ar.L8</th>  <td>   -0.0973</td> <td>    0.051</td> <td>   -1.915</td> <td> 0.055</td> <td>   -0.197</td> <td>    0.002</td>\n",
       "</tr>\n",
       "<tr>\n",
       "  <th>ar.L9</th>  <td>    0.0726</td> <td>    0.056</td> <td>    1.288</td> <td> 0.198</td> <td>   -0.038</td> <td>    0.183</td>\n",
       "</tr>\n",
       "<tr>\n",
       "  <th>ar.L10</th> <td>   -0.0750</td> <td>    0.055</td> <td>   -1.367</td> <td> 0.172</td> <td>   -0.182</td> <td>    0.033</td>\n",
       "</tr>\n",
       "<tr>\n",
       "  <th>ar.L11</th> <td>    0.0554</td> <td>    0.050</td> <td>    1.102</td> <td> 0.270</td> <td>   -0.043</td> <td>    0.154</td>\n",
       "</tr>\n",
       "<tr>\n",
       "  <th>ar.L12</th> <td>    0.8341</td> <td>    0.053</td> <td>   15.868</td> <td> 0.000</td> <td>    0.731</td> <td>    0.937</td>\n",
       "</tr>\n",
       "<tr>\n",
       "  <th>ma.L1</th>  <td>   -0.4414</td> <td>    0.097</td> <td>   -4.532</td> <td> 0.000</td> <td>   -0.632</td> <td>   -0.251</td>\n",
       "</tr>\n",
       "<tr>\n",
       "  <th>ma.L2</th>  <td>    0.0362</td> <td>    0.104</td> <td>    0.347</td> <td> 0.729</td> <td>   -0.168</td> <td>    0.241</td>\n",
       "</tr>\n",
       "<tr>\n",
       "  <th>sigma2</th> <td>    0.0015</td> <td>    0.000</td> <td>    7.927</td> <td> 0.000</td> <td>    0.001</td> <td>    0.002</td>\n",
       "</tr>\n",
       "</table>\n",
       "<table class=\"simpletable\">\n",
       "<tr>\n",
       "  <th>Ljung-Box (L1) (Q):</th>     <td>0.06</td> <th>  Jarque-Bera (JB):  </th> <td>3.26</td>\n",
       "</tr>\n",
       "<tr>\n",
       "  <th>Prob(Q):</th>                <td>0.81</td> <th>  Prob(JB):          </th> <td>0.20</td>\n",
       "</tr>\n",
       "<tr>\n",
       "  <th>Heteroskedasticity (H):</th> <td>0.50</td> <th>  Skew:              </th> <td>0.36</td>\n",
       "</tr>\n",
       "<tr>\n",
       "  <th>Prob(H) (two-sided):</th>    <td>0.02</td> <th>  Kurtosis:          </th> <td>3.18</td>\n",
       "</tr>\n",
       "</table><br/><br/>Warnings:<br/>[1] Covariance matrix calculated using the outer product of gradients (complex-step)."
      ],
      "text/latex": [
       "\\begin{center}\n",
       "\\begin{tabular}{lclc}\n",
       "\\toprule\n",
       "\\textbf{Dep. Variable:}          &      values      & \\textbf{  No. Observations:  } &    144      \\\\\n",
       "\\textbf{Model:}                  & ARIMA(12, 1, 2)  & \\textbf{  Log Likelihood     } &  246.772    \\\\\n",
       "\\textbf{Date:}                   & Mon, 08 Sep 2025 & \\textbf{  AIC                } &  -463.543   \\\\\n",
       "\\textbf{Time:}                   &     12:29:34     & \\textbf{  BIC                } &  -419.101   \\\\\n",
       "\\textbf{Sample:}                 &    01-31-1949    & \\textbf{  HQIC               } &  -445.484   \\\\\n",
       "\\textbf{}                        &   - 12-31-1960   & \\textbf{                     } &             \\\\\n",
       "\\textbf{Covariance Type:}        &       opg        & \\textbf{                     } &             \\\\\n",
       "\\bottomrule\n",
       "\\end{tabular}\n",
       "\\begin{tabular}{lcccccc}\n",
       "                & \\textbf{coef} & \\textbf{std err} & \\textbf{z} & \\textbf{P$> |$z$|$} & \\textbf{[0.025} & \\textbf{0.975]}  \\\\\n",
       "\\midrule\n",
       "\\textbf{ar.L1}  &       0.1101  &        0.062     &     1.777  &         0.076        &       -0.011    &        0.232     \\\\\n",
       "\\textbf{ar.L2}  &      -0.0752  &        0.066     &    -1.133  &         0.257        &       -0.205    &        0.055     \\\\\n",
       "\\textbf{ar.L3}  &       0.0065  &        0.049     &     0.133  &         0.894        &       -0.090    &        0.103     \\\\\n",
       "\\textbf{ar.L4}  &      -0.0635  &        0.051     &    -1.244  &         0.214        &       -0.164    &        0.037     \\\\\n",
       "\\textbf{ar.L5}  &       0.0554  &        0.051     &     1.092  &         0.275        &       -0.044    &        0.155     \\\\\n",
       "\\textbf{ar.L6}  &      -0.0502  &        0.045     &    -1.116  &         0.265        &       -0.138    &        0.038     \\\\\n",
       "\\textbf{ar.L7}  &      -0.0072  &        0.050     &    -0.144  &         0.886        &       -0.105    &        0.090     \\\\\n",
       "\\textbf{ar.L8}  &      -0.0973  &        0.051     &    -1.915  &         0.055        &       -0.197    &        0.002     \\\\\n",
       "\\textbf{ar.L9}  &       0.0726  &        0.056     &     1.288  &         0.198        &       -0.038    &        0.183     \\\\\n",
       "\\textbf{ar.L10} &      -0.0750  &        0.055     &    -1.367  &         0.172        &       -0.182    &        0.033     \\\\\n",
       "\\textbf{ar.L11} &       0.0554  &        0.050     &     1.102  &         0.270        &       -0.043    &        0.154     \\\\\n",
       "\\textbf{ar.L12} &       0.8341  &        0.053     &    15.868  &         0.000        &        0.731    &        0.937     \\\\\n",
       "\\textbf{ma.L1}  &      -0.4414  &        0.097     &    -4.532  &         0.000        &       -0.632    &       -0.251     \\\\\n",
       "\\textbf{ma.L2}  &       0.0362  &        0.104     &     0.347  &         0.729        &       -0.168    &        0.241     \\\\\n",
       "\\textbf{sigma2} &       0.0015  &        0.000     &     7.927  &         0.000        &        0.001    &        0.002     \\\\\n",
       "\\bottomrule\n",
       "\\end{tabular}\n",
       "\\begin{tabular}{lclc}\n",
       "\\textbf{Ljung-Box (L1) (Q):}     & 0.06 & \\textbf{  Jarque-Bera (JB):  } & 3.26  \\\\\n",
       "\\textbf{Prob(Q):}                & 0.81 & \\textbf{  Prob(JB):          } & 0.20  \\\\\n",
       "\\textbf{Heteroskedasticity (H):} & 0.50 & \\textbf{  Skew:              } & 0.36  \\\\\n",
       "\\textbf{Prob(H) (two-sided):}    & 0.02 & \\textbf{  Kurtosis:          } & 3.18  \\\\\n",
       "\\bottomrule\n",
       "\\end{tabular}\n",
       "%\\caption{SARIMAX Results}\n",
       "\\end{center}\n",
       "\n",
       "Warnings: \\newline\n",
       " [1] Covariance matrix calculated using the outer product of gradients (complex-step)."
      ],
      "text/plain": [
       "<class 'statsmodels.iolib.summary.Summary'>\n",
       "\"\"\"\n",
       "                               SARIMAX Results                                \n",
       "==============================================================================\n",
       "Dep. Variable:                 values   No. Observations:                  144\n",
       "Model:                ARIMA(12, 1, 2)   Log Likelihood                 246.772\n",
       "Date:                Mon, 08 Sep 2025   AIC                           -463.543\n",
       "Time:                        12:29:34   BIC                           -419.101\n",
       "Sample:                    01-31-1949   HQIC                          -445.484\n",
       "                         - 12-31-1960                                         \n",
       "Covariance Type:                  opg                                         \n",
       "==============================================================================\n",
       "                 coef    std err          z      P>|z|      [0.025      0.975]\n",
       "------------------------------------------------------------------------------\n",
       "ar.L1          0.1101      0.062      1.777      0.076      -0.011       0.232\n",
       "ar.L2         -0.0752      0.066     -1.133      0.257      -0.205       0.055\n",
       "ar.L3          0.0065      0.049      0.133      0.894      -0.090       0.103\n",
       "ar.L4         -0.0635      0.051     -1.244      0.214      -0.164       0.037\n",
       "ar.L5          0.0554      0.051      1.092      0.275      -0.044       0.155\n",
       "ar.L6         -0.0502      0.045     -1.116      0.265      -0.138       0.038\n",
       "ar.L7         -0.0072      0.050     -0.144      0.886      -0.105       0.090\n",
       "ar.L8         -0.0973      0.051     -1.915      0.055      -0.197       0.002\n",
       "ar.L9          0.0726      0.056      1.288      0.198      -0.038       0.183\n",
       "ar.L10        -0.0750      0.055     -1.367      0.172      -0.182       0.033\n",
       "ar.L11         0.0554      0.050      1.102      0.270      -0.043       0.154\n",
       "ar.L12         0.8341      0.053     15.868      0.000       0.731       0.937\n",
       "ma.L1         -0.4414      0.097     -4.532      0.000      -0.632      -0.251\n",
       "ma.L2          0.0362      0.104      0.347      0.729      -0.168       0.241\n",
       "sigma2         0.0015      0.000      7.927      0.000       0.001       0.002\n",
       "===================================================================================\n",
       "Ljung-Box (L1) (Q):                   0.06   Jarque-Bera (JB):                 3.26\n",
       "Prob(Q):                              0.81   Prob(JB):                         0.20\n",
       "Heteroskedasticity (H):               0.50   Skew:                             0.36\n",
       "Prob(H) (two-sided):                  0.02   Kurtosis:                         3.18\n",
       "===================================================================================\n",
       "\n",
       "Warnings:\n",
       "[1] Covariance matrix calculated using the outer product of gradients (complex-step).\n",
       "\"\"\""
      ]
     },
     "execution_count": 43,
     "metadata": {},
     "output_type": "execute_result"
    }
   ],
   "source": [
    "model_fit.summary()"
   ]
  },
  {
   "cell_type": "code",
   "execution_count": 44,
   "id": "acadc098",
   "metadata": {},
   "outputs": [],
   "source": [
    "forecast = model_fit.forecast(steps=48).to_frame(name='forecast')"
   ]
  },
  {
   "cell_type": "code",
   "execution_count": 45,
   "id": "90a13dae",
   "metadata": {},
   "outputs": [],
   "source": [
    "h = series.to_frame(name='historical')"
   ]
  },
  {
   "cell_type": "code",
   "execution_count": 46,
   "id": "2d475c66",
   "metadata": {},
   "outputs": [
    {
     "data": {
      "text/html": [
       "<div>\n",
       "<style scoped>\n",
       "    .dataframe tbody tr th:only-of-type {\n",
       "        vertical-align: middle;\n",
       "    }\n",
       "\n",
       "    .dataframe tbody tr th {\n",
       "        vertical-align: top;\n",
       "    }\n",
       "\n",
       "    .dataframe thead th {\n",
       "        text-align: right;\n",
       "    }\n",
       "</style>\n",
       "<table border=\"1\" class=\"dataframe\">\n",
       "  <thead>\n",
       "    <tr style=\"text-align: right;\">\n",
       "      <th></th>\n",
       "      <th>forecast</th>\n",
       "      <th>historical</th>\n",
       "    </tr>\n",
       "  </thead>\n",
       "  <tbody>\n",
       "    <tr>\n",
       "      <th>1961-01-31</th>\n",
       "      <td>6.113957</td>\n",
       "      <td>NaN</td>\n",
       "    </tr>\n",
       "    <tr>\n",
       "      <th>1961-02-28</th>\n",
       "      <td>6.039105</td>\n",
       "      <td>NaN</td>\n",
       "    </tr>\n",
       "    <tr>\n",
       "      <th>1961-03-31</th>\n",
       "      <td>6.098054</td>\n",
       "      <td>NaN</td>\n",
       "    </tr>\n",
       "    <tr>\n",
       "      <th>1961-04-30</th>\n",
       "      <td>6.185912</td>\n",
       "      <td>NaN</td>\n",
       "    </tr>\n",
       "    <tr>\n",
       "      <th>1961-05-31</th>\n",
       "      <td>6.233113</td>\n",
       "      <td>NaN</td>\n",
       "    </tr>\n",
       "    <tr>\n",
       "      <th>...</th>\n",
       "      <td>...</td>\n",
       "      <td>...</td>\n",
       "    </tr>\n",
       "    <tr>\n",
       "      <th>1960-08-31</th>\n",
       "      <td>NaN</td>\n",
       "      <td>6.406880</td>\n",
       "    </tr>\n",
       "    <tr>\n",
       "      <th>1960-09-30</th>\n",
       "      <td>NaN</td>\n",
       "      <td>6.230481</td>\n",
       "    </tr>\n",
       "    <tr>\n",
       "      <th>1960-10-31</th>\n",
       "      <td>NaN</td>\n",
       "      <td>6.133398</td>\n",
       "    </tr>\n",
       "    <tr>\n",
       "      <th>1960-11-30</th>\n",
       "      <td>NaN</td>\n",
       "      <td>5.966147</td>\n",
       "    </tr>\n",
       "    <tr>\n",
       "      <th>1960-12-31</th>\n",
       "      <td>NaN</td>\n",
       "      <td>6.068426</td>\n",
       "    </tr>\n",
       "  </tbody>\n",
       "</table>\n",
       "<p>192 rows × 2 columns</p>\n",
       "</div>"
      ],
      "text/plain": [
       "            forecast  historical\n",
       "1961-01-31  6.113957         NaN\n",
       "1961-02-28  6.039105         NaN\n",
       "1961-03-31  6.098054         NaN\n",
       "1961-04-30  6.185912         NaN\n",
       "1961-05-31  6.233113         NaN\n",
       "...              ...         ...\n",
       "1960-08-31       NaN    6.406880\n",
       "1960-09-30       NaN    6.230481\n",
       "1960-10-31       NaN    6.133398\n",
       "1960-11-30       NaN    5.966147\n",
       "1960-12-31       NaN    6.068426\n",
       "\n",
       "[192 rows x 2 columns]"
      ]
     },
     "execution_count": 46,
     "metadata": {},
     "output_type": "execute_result"
    }
   ],
   "source": [
    "df_forecasts = pd.concat([forecast, h])\n",
    "df_forecasts"
   ]
  },
  {
   "cell_type": "code",
   "execution_count": 47,
   "id": "a9f56998",
   "metadata": {},
   "outputs": [
    {
     "data": {
      "application/vnd.plotly.v1+json": {
       "config": {
        "plotlyServerURL": "https://plot.ly"
       },
       "data": [
        {
         "hovertemplate": "variable=forecast<br>index=%{x}<br>value=%{y}<extra></extra>",
         "legendgroup": "forecast",
         "line": {
          "color": "#636efa",
          "dash": "solid"
         },
         "marker": {
          "symbol": "circle"
         },
         "mode": "lines",
         "name": "forecast",
         "orientation": "v",
         "showlegend": true,
         "type": "scatter",
         "x": [
          "1961-01-31T00:00:00",
          "1961-02-28T00:00:00",
          "1961-03-31T00:00:00",
          "1961-04-30T00:00:00",
          "1961-05-31T00:00:00",
          "1961-06-30T00:00:00",
          "1961-07-31T00:00:00",
          "1961-08-31T00:00:00",
          "1961-09-30T00:00:00",
          "1961-10-31T00:00:00",
          "1961-11-30T00:00:00",
          "1961-12-31T00:00:00",
          "1962-01-31T00:00:00",
          "1962-02-28T00:00:00",
          "1962-03-31T00:00:00",
          "1962-04-30T00:00:00",
          "1962-05-31T00:00:00",
          "1962-06-30T00:00:00",
          "1962-07-31T00:00:00",
          "1962-08-31T00:00:00",
          "1962-09-30T00:00:00",
          "1962-10-31T00:00:00",
          "1962-11-30T00:00:00",
          "1962-12-31T00:00:00",
          "1963-01-31T00:00:00",
          "1963-02-28T00:00:00",
          "1963-03-31T00:00:00",
          "1963-04-30T00:00:00",
          "1963-05-31T00:00:00",
          "1963-06-30T00:00:00",
          "1963-07-31T00:00:00",
          "1963-08-31T00:00:00",
          "1963-09-30T00:00:00",
          "1963-10-31T00:00:00",
          "1963-11-30T00:00:00",
          "1963-12-31T00:00:00",
          "1964-01-31T00:00:00",
          "1964-02-29T00:00:00",
          "1964-03-31T00:00:00",
          "1964-04-30T00:00:00",
          "1964-05-31T00:00:00",
          "1964-06-30T00:00:00",
          "1964-07-31T00:00:00",
          "1964-08-31T00:00:00",
          "1964-09-30T00:00:00",
          "1964-10-31T00:00:00",
          "1964-11-30T00:00:00",
          "1964-12-31T00:00:00",
          "1949-01-31T00:00:00",
          "1949-02-28T00:00:00",
          "1949-03-31T00:00:00",
          "1949-04-30T00:00:00",
          "1949-05-31T00:00:00",
          "1949-06-30T00:00:00",
          "1949-07-31T00:00:00",
          "1949-08-31T00:00:00",
          "1949-09-30T00:00:00",
          "1949-10-31T00:00:00",
          "1949-11-30T00:00:00",
          "1949-12-31T00:00:00",
          "1950-01-31T00:00:00",
          "1950-02-28T00:00:00",
          "1950-03-31T00:00:00",
          "1950-04-30T00:00:00",
          "1950-05-31T00:00:00",
          "1950-06-30T00:00:00",
          "1950-07-31T00:00:00",
          "1950-08-31T00:00:00",
          "1950-09-30T00:00:00",
          "1950-10-31T00:00:00",
          "1950-11-30T00:00:00",
          "1950-12-31T00:00:00",
          "1951-01-31T00:00:00",
          "1951-02-28T00:00:00",
          "1951-03-31T00:00:00",
          "1951-04-30T00:00:00",
          "1951-05-31T00:00:00",
          "1951-06-30T00:00:00",
          "1951-07-31T00:00:00",
          "1951-08-31T00:00:00",
          "1951-09-30T00:00:00",
          "1951-10-31T00:00:00",
          "1951-11-30T00:00:00",
          "1951-12-31T00:00:00",
          "1952-01-31T00:00:00",
          "1952-02-29T00:00:00",
          "1952-03-31T00:00:00",
          "1952-04-30T00:00:00",
          "1952-05-31T00:00:00",
          "1952-06-30T00:00:00",
          "1952-07-31T00:00:00",
          "1952-08-31T00:00:00",
          "1952-09-30T00:00:00",
          "1952-10-31T00:00:00",
          "1952-11-30T00:00:00",
          "1952-12-31T00:00:00",
          "1953-01-31T00:00:00",
          "1953-02-28T00:00:00",
          "1953-03-31T00:00:00",
          "1953-04-30T00:00:00",
          "1953-05-31T00:00:00",
          "1953-06-30T00:00:00",
          "1953-07-31T00:00:00",
          "1953-08-31T00:00:00",
          "1953-09-30T00:00:00",
          "1953-10-31T00:00:00",
          "1953-11-30T00:00:00",
          "1953-12-31T00:00:00",
          "1954-01-31T00:00:00",
          "1954-02-28T00:00:00",
          "1954-03-31T00:00:00",
          "1954-04-30T00:00:00",
          "1954-05-31T00:00:00",
          "1954-06-30T00:00:00",
          "1954-07-31T00:00:00",
          "1954-08-31T00:00:00",
          "1954-09-30T00:00:00",
          "1954-10-31T00:00:00",
          "1954-11-30T00:00:00",
          "1954-12-31T00:00:00",
          "1955-01-31T00:00:00",
          "1955-02-28T00:00:00",
          "1955-03-31T00:00:00",
          "1955-04-30T00:00:00",
          "1955-05-31T00:00:00",
          "1955-06-30T00:00:00",
          "1955-07-31T00:00:00",
          "1955-08-31T00:00:00",
          "1955-09-30T00:00:00",
          "1955-10-31T00:00:00",
          "1955-11-30T00:00:00",
          "1955-12-31T00:00:00",
          "1956-01-31T00:00:00",
          "1956-02-29T00:00:00",
          "1956-03-31T00:00:00",
          "1956-04-30T00:00:00",
          "1956-05-31T00:00:00",
          "1956-06-30T00:00:00",
          "1956-07-31T00:00:00",
          "1956-08-31T00:00:00",
          "1956-09-30T00:00:00",
          "1956-10-31T00:00:00",
          "1956-11-30T00:00:00",
          "1956-12-31T00:00:00",
          "1957-01-31T00:00:00",
          "1957-02-28T00:00:00",
          "1957-03-31T00:00:00",
          "1957-04-30T00:00:00",
          "1957-05-31T00:00:00",
          "1957-06-30T00:00:00",
          "1957-07-31T00:00:00",
          "1957-08-31T00:00:00",
          "1957-09-30T00:00:00",
          "1957-10-31T00:00:00",
          "1957-11-30T00:00:00",
          "1957-12-31T00:00:00",
          "1958-01-31T00:00:00",
          "1958-02-28T00:00:00",
          "1958-03-31T00:00:00",
          "1958-04-30T00:00:00",
          "1958-05-31T00:00:00",
          "1958-06-30T00:00:00",
          "1958-07-31T00:00:00",
          "1958-08-31T00:00:00",
          "1958-09-30T00:00:00",
          "1958-10-31T00:00:00",
          "1958-11-30T00:00:00",
          "1958-12-31T00:00:00",
          "1959-01-31T00:00:00",
          "1959-02-28T00:00:00",
          "1959-03-31T00:00:00",
          "1959-04-30T00:00:00",
          "1959-05-31T00:00:00",
          "1959-06-30T00:00:00",
          "1959-07-31T00:00:00",
          "1959-08-31T00:00:00",
          "1959-09-30T00:00:00",
          "1959-10-31T00:00:00",
          "1959-11-30T00:00:00",
          "1959-12-31T00:00:00",
          "1960-01-31T00:00:00",
          "1960-02-29T00:00:00",
          "1960-03-31T00:00:00",
          "1960-04-30T00:00:00",
          "1960-05-31T00:00:00",
          "1960-06-30T00:00:00",
          "1960-07-31T00:00:00",
          "1960-08-31T00:00:00",
          "1960-09-30T00:00:00",
          "1960-10-31T00:00:00",
          "1960-11-30T00:00:00",
          "1960-12-31T00:00:00"
         ],
         "xaxis": "x",
         "y": [
          6.11395719258516,
          6.039104850767264,
          6.098053934187806,
          6.185912451760355,
          6.2331125168079,
          6.346855280225154,
          6.492159624939697,
          6.454702727345425,
          6.302866973826557,
          6.193159832693452,
          6.037908752325946,
          6.1216418686295695,
          6.172484527440183,
          6.096769775504847,
          6.141457576209762,
          6.226642974922304,
          6.288984522347676,
          6.39963612167677,
          6.535133246630483,
          6.491788498049428,
          6.356659903746313,
          6.242437618777959,
          6.095013652986786,
          6.1640482376449945,
          6.215565308610721,
          6.142752572641185,
          6.1736194930486485,
          6.257245366370689,
          6.330395795967929,
          6.441772118457715,
          6.566788210476104,
          6.519838781510327,
          6.396972147361642,
          6.282568477082084,
          6.141572388701088,
          6.197650030799858,
          6.247392724048087,
          6.178835561347252,
          6.1978587810562455,
          6.279782782338432,
          6.361124179400812,
          6.474891395198493,
          6.590214308659638,
          6.540735084860544,
          6.4272516295759585,
          6.315113202602648,
          6.180231596566237,
          6.224398469289777,
          null,
          null,
          null,
          null,
          null,
          null,
          null,
          null,
          null,
          null,
          null,
          null,
          null,
          null,
          null,
          null,
          null,
          null,
          null,
          null,
          null,
          null,
          null,
          null,
          null,
          null,
          null,
          null,
          null,
          null,
          null,
          null,
          null,
          null,
          null,
          null,
          null,
          null,
          null,
          null,
          null,
          null,
          null,
          null,
          null,
          null,
          null,
          null,
          null,
          null,
          null,
          null,
          null,
          null,
          null,
          null,
          null,
          null,
          null,
          null,
          null,
          null,
          null,
          null,
          null,
          null,
          null,
          null,
          null,
          null,
          null,
          null,
          null,
          null,
          null,
          null,
          null,
          null,
          null,
          null,
          null,
          null,
          null,
          null,
          null,
          null,
          null,
          null,
          null,
          null,
          null,
          null,
          null,
          null,
          null,
          null,
          null,
          null,
          null,
          null,
          null,
          null,
          null,
          null,
          null,
          null,
          null,
          null,
          null,
          null,
          null,
          null,
          null,
          null,
          null,
          null,
          null,
          null,
          null,
          null,
          null,
          null,
          null,
          null,
          null,
          null,
          null,
          null,
          null,
          null,
          null,
          null,
          null,
          null,
          null,
          null,
          null,
          null,
          null,
          null,
          null,
          null,
          null,
          null
         ],
         "yaxis": "y"
        },
        {
         "hovertemplate": "variable=historical<br>index=%{x}<br>value=%{y}<extra></extra>",
         "legendgroup": "historical",
         "line": {
          "color": "#EF553B",
          "dash": "solid"
         },
         "marker": {
          "symbol": "circle"
         },
         "mode": "lines",
         "name": "historical",
         "orientation": "v",
         "showlegend": true,
         "type": "scatter",
         "x": [
          "1961-01-31T00:00:00",
          "1961-02-28T00:00:00",
          "1961-03-31T00:00:00",
          "1961-04-30T00:00:00",
          "1961-05-31T00:00:00",
          "1961-06-30T00:00:00",
          "1961-07-31T00:00:00",
          "1961-08-31T00:00:00",
          "1961-09-30T00:00:00",
          "1961-10-31T00:00:00",
          "1961-11-30T00:00:00",
          "1961-12-31T00:00:00",
          "1962-01-31T00:00:00",
          "1962-02-28T00:00:00",
          "1962-03-31T00:00:00",
          "1962-04-30T00:00:00",
          "1962-05-31T00:00:00",
          "1962-06-30T00:00:00",
          "1962-07-31T00:00:00",
          "1962-08-31T00:00:00",
          "1962-09-30T00:00:00",
          "1962-10-31T00:00:00",
          "1962-11-30T00:00:00",
          "1962-12-31T00:00:00",
          "1963-01-31T00:00:00",
          "1963-02-28T00:00:00",
          "1963-03-31T00:00:00",
          "1963-04-30T00:00:00",
          "1963-05-31T00:00:00",
          "1963-06-30T00:00:00",
          "1963-07-31T00:00:00",
          "1963-08-31T00:00:00",
          "1963-09-30T00:00:00",
          "1963-10-31T00:00:00",
          "1963-11-30T00:00:00",
          "1963-12-31T00:00:00",
          "1964-01-31T00:00:00",
          "1964-02-29T00:00:00",
          "1964-03-31T00:00:00",
          "1964-04-30T00:00:00",
          "1964-05-31T00:00:00",
          "1964-06-30T00:00:00",
          "1964-07-31T00:00:00",
          "1964-08-31T00:00:00",
          "1964-09-30T00:00:00",
          "1964-10-31T00:00:00",
          "1964-11-30T00:00:00",
          "1964-12-31T00:00:00",
          "1949-01-31T00:00:00",
          "1949-02-28T00:00:00",
          "1949-03-31T00:00:00",
          "1949-04-30T00:00:00",
          "1949-05-31T00:00:00",
          "1949-06-30T00:00:00",
          "1949-07-31T00:00:00",
          "1949-08-31T00:00:00",
          "1949-09-30T00:00:00",
          "1949-10-31T00:00:00",
          "1949-11-30T00:00:00",
          "1949-12-31T00:00:00",
          "1950-01-31T00:00:00",
          "1950-02-28T00:00:00",
          "1950-03-31T00:00:00",
          "1950-04-30T00:00:00",
          "1950-05-31T00:00:00",
          "1950-06-30T00:00:00",
          "1950-07-31T00:00:00",
          "1950-08-31T00:00:00",
          "1950-09-30T00:00:00",
          "1950-10-31T00:00:00",
          "1950-11-30T00:00:00",
          "1950-12-31T00:00:00",
          "1951-01-31T00:00:00",
          "1951-02-28T00:00:00",
          "1951-03-31T00:00:00",
          "1951-04-30T00:00:00",
          "1951-05-31T00:00:00",
          "1951-06-30T00:00:00",
          "1951-07-31T00:00:00",
          "1951-08-31T00:00:00",
          "1951-09-30T00:00:00",
          "1951-10-31T00:00:00",
          "1951-11-30T00:00:00",
          "1951-12-31T00:00:00",
          "1952-01-31T00:00:00",
          "1952-02-29T00:00:00",
          "1952-03-31T00:00:00",
          "1952-04-30T00:00:00",
          "1952-05-31T00:00:00",
          "1952-06-30T00:00:00",
          "1952-07-31T00:00:00",
          "1952-08-31T00:00:00",
          "1952-09-30T00:00:00",
          "1952-10-31T00:00:00",
          "1952-11-30T00:00:00",
          "1952-12-31T00:00:00",
          "1953-01-31T00:00:00",
          "1953-02-28T00:00:00",
          "1953-03-31T00:00:00",
          "1953-04-30T00:00:00",
          "1953-05-31T00:00:00",
          "1953-06-30T00:00:00",
          "1953-07-31T00:00:00",
          "1953-08-31T00:00:00",
          "1953-09-30T00:00:00",
          "1953-10-31T00:00:00",
          "1953-11-30T00:00:00",
          "1953-12-31T00:00:00",
          "1954-01-31T00:00:00",
          "1954-02-28T00:00:00",
          "1954-03-31T00:00:00",
          "1954-04-30T00:00:00",
          "1954-05-31T00:00:00",
          "1954-06-30T00:00:00",
          "1954-07-31T00:00:00",
          "1954-08-31T00:00:00",
          "1954-09-30T00:00:00",
          "1954-10-31T00:00:00",
          "1954-11-30T00:00:00",
          "1954-12-31T00:00:00",
          "1955-01-31T00:00:00",
          "1955-02-28T00:00:00",
          "1955-03-31T00:00:00",
          "1955-04-30T00:00:00",
          "1955-05-31T00:00:00",
          "1955-06-30T00:00:00",
          "1955-07-31T00:00:00",
          "1955-08-31T00:00:00",
          "1955-09-30T00:00:00",
          "1955-10-31T00:00:00",
          "1955-11-30T00:00:00",
          "1955-12-31T00:00:00",
          "1956-01-31T00:00:00",
          "1956-02-29T00:00:00",
          "1956-03-31T00:00:00",
          "1956-04-30T00:00:00",
          "1956-05-31T00:00:00",
          "1956-06-30T00:00:00",
          "1956-07-31T00:00:00",
          "1956-08-31T00:00:00",
          "1956-09-30T00:00:00",
          "1956-10-31T00:00:00",
          "1956-11-30T00:00:00",
          "1956-12-31T00:00:00",
          "1957-01-31T00:00:00",
          "1957-02-28T00:00:00",
          "1957-03-31T00:00:00",
          "1957-04-30T00:00:00",
          "1957-05-31T00:00:00",
          "1957-06-30T00:00:00",
          "1957-07-31T00:00:00",
          "1957-08-31T00:00:00",
          "1957-09-30T00:00:00",
          "1957-10-31T00:00:00",
          "1957-11-30T00:00:00",
          "1957-12-31T00:00:00",
          "1958-01-31T00:00:00",
          "1958-02-28T00:00:00",
          "1958-03-31T00:00:00",
          "1958-04-30T00:00:00",
          "1958-05-31T00:00:00",
          "1958-06-30T00:00:00",
          "1958-07-31T00:00:00",
          "1958-08-31T00:00:00",
          "1958-09-30T00:00:00",
          "1958-10-31T00:00:00",
          "1958-11-30T00:00:00",
          "1958-12-31T00:00:00",
          "1959-01-31T00:00:00",
          "1959-02-28T00:00:00",
          "1959-03-31T00:00:00",
          "1959-04-30T00:00:00",
          "1959-05-31T00:00:00",
          "1959-06-30T00:00:00",
          "1959-07-31T00:00:00",
          "1959-08-31T00:00:00",
          "1959-09-30T00:00:00",
          "1959-10-31T00:00:00",
          "1959-11-30T00:00:00",
          "1959-12-31T00:00:00",
          "1960-01-31T00:00:00",
          "1960-02-29T00:00:00",
          "1960-03-31T00:00:00",
          "1960-04-30T00:00:00",
          "1960-05-31T00:00:00",
          "1960-06-30T00:00:00",
          "1960-07-31T00:00:00",
          "1960-08-31T00:00:00",
          "1960-09-30T00:00:00",
          "1960-10-31T00:00:00",
          "1960-11-30T00:00:00",
          "1960-12-31T00:00:00"
         ],
         "xaxis": "x",
         "y": [
          null,
          null,
          null,
          null,
          null,
          null,
          null,
          null,
          null,
          null,
          null,
          null,
          null,
          null,
          null,
          null,
          null,
          null,
          null,
          null,
          null,
          null,
          null,
          null,
          null,
          null,
          null,
          null,
          null,
          null,
          null,
          null,
          null,
          null,
          null,
          null,
          null,
          null,
          null,
          null,
          null,
          null,
          null,
          null,
          null,
          null,
          null,
          null,
          4.718498871295094,
          4.770684624465665,
          4.882801922586371,
          4.859812404361672,
          4.795790545596741,
          4.90527477843843,
          4.997212273764115,
          4.997212273764115,
          4.912654885736052,
          4.77912349311153,
          4.6443908991413725,
          4.770684624465665,
          4.74493212836325,
          4.836281906951478,
          4.948759890378168,
          4.90527477843843,
          4.8283137373023015,
          5.003946305945459,
          5.135798437050262,
          5.135798437050262,
          5.062595033026967,
          4.890349128221754,
          4.736198448394496,
          4.941642422609304,
          4.976733742420574,
          5.0106352940962555,
          5.181783550292085,
          5.093750200806762,
          5.147494476813453,
          5.181783550292085,
          5.293304824724492,
          5.293304824724492,
          5.214935757608986,
          5.087596335232384,
          4.983606621708336,
          5.111987788356544,
          5.14166355650266,
          5.19295685089021,
          5.262690188904886,
          5.198497031265826,
          5.209486152841421,
          5.384495062789089,
          5.438079308923196,
          5.488937726156687,
          5.342334251964811,
          5.25227342804663,
          5.147494476813453,
          5.267858159063328,
          5.278114659230517,
          5.278114659230517,
          5.4638318050256105,
          5.459585514144159,
          5.43372200355424,
          5.493061443340548,
          5.575949103146316,
          5.605802066295998,
          5.4680601411351315,
          5.351858133476067,
          5.19295685089021,
          5.303304908059076,
          5.318119993844216,
          5.236441962829949,
          5.459585514144159,
          5.424950017481403,
          5.455321115357702,
          5.575949103146316,
          5.71042701737487,
          5.680172609017068,
          5.556828061699537,
          5.43372200355424,
          5.313205979041787,
          5.43372200355424,
          5.488937726156687,
          5.4510384535657,
          5.58724865840025,
          5.594711379601839,
          5.598421958998375,
          5.752572638825633,
          5.8971538676367405,
          5.849324779946859,
          5.7430031878094825,
          5.6131281063880705,
          5.4680601411351315,
          5.627621113690637,
          5.648974238161206,
          5.6240175061873385,
          5.75890177387728,
          5.746203190540153,
          5.762051382780177,
          5.924255797414532,
          6.023447592961033,
          6.003887067106539,
          5.872117789475416,
          5.723585101952381,
          5.602118820879701,
          5.723585101952381,
          5.752572638825633,
          5.707110264748875,
          5.87493073085203,
          5.8522024797744745,
          5.872117789475416,
          6.045005314036012,
          6.142037405587356,
          6.1463292576688975,
          6.0014148779611505,
          5.849324779946859,
          5.720311776607412,
          5.817111159963204,
          5.8289456176102075,
          5.762051382780177,
          5.8916442118257715,
          5.8522024797744745,
          5.8944028342648505,
          6.075346031088684,
          6.19644412779452,
          6.22455842927536,
          6.0014148779611505,
          5.883322388488279,
          5.736572297479192,
          5.820082930352362,
          5.886104031450156,
          5.834810737062605,
          6.0063531596017325,
          5.981414211254481,
          6.040254711277414,
          6.156978985585555,
          6.306275286948016,
          6.326149473155099,
          6.137727054086234,
          6.008813185442595,
          5.8916442118257715,
          6.003887067106539,
          6.0330862217988015,
          5.968707559985366,
          6.037870919922137,
          6.133398042996649,
          6.156978985585555,
          6.282266746896006,
          6.432940092739179,
          6.406879986069314,
          6.230481447578482,
          6.133398042996649,
          5.966146739123692,
          6.068425588244111
         ],
         "yaxis": "y"
        }
       ],
       "layout": {
        "legend": {
         "title": {
          "text": "variable"
         },
         "tracegroupgap": 0
        },
        "margin": {
         "t": 60
        },
        "template": {
         "data": {
          "bar": [
           {
            "error_x": {
             "color": "#f2f5fa"
            },
            "error_y": {
             "color": "#f2f5fa"
            },
            "marker": {
             "line": {
              "color": "rgb(17,17,17)",
              "width": 0.5
             },
             "pattern": {
              "fillmode": "overlay",
              "size": 10,
              "solidity": 0.2
             }
            },
            "type": "bar"
           }
          ],
          "barpolar": [
           {
            "marker": {
             "line": {
              "color": "rgb(17,17,17)",
              "width": 0.5
             },
             "pattern": {
              "fillmode": "overlay",
              "size": 10,
              "solidity": 0.2
             }
            },
            "type": "barpolar"
           }
          ],
          "carpet": [
           {
            "aaxis": {
             "endlinecolor": "#A2B1C6",
             "gridcolor": "#506784",
             "linecolor": "#506784",
             "minorgridcolor": "#506784",
             "startlinecolor": "#A2B1C6"
            },
            "baxis": {
             "endlinecolor": "#A2B1C6",
             "gridcolor": "#506784",
             "linecolor": "#506784",
             "minorgridcolor": "#506784",
             "startlinecolor": "#A2B1C6"
            },
            "type": "carpet"
           }
          ],
          "choropleth": [
           {
            "colorbar": {
             "outlinewidth": 0,
             "ticks": ""
            },
            "type": "choropleth"
           }
          ],
          "contour": [
           {
            "colorbar": {
             "outlinewidth": 0,
             "ticks": ""
            },
            "colorscale": [
             [
              0,
              "#0d0887"
             ],
             [
              0.1111111111111111,
              "#46039f"
             ],
             [
              0.2222222222222222,
              "#7201a8"
             ],
             [
              0.3333333333333333,
              "#9c179e"
             ],
             [
              0.4444444444444444,
              "#bd3786"
             ],
             [
              0.5555555555555556,
              "#d8576b"
             ],
             [
              0.6666666666666666,
              "#ed7953"
             ],
             [
              0.7777777777777778,
              "#fb9f3a"
             ],
             [
              0.8888888888888888,
              "#fdca26"
             ],
             [
              1,
              "#f0f921"
             ]
            ],
            "type": "contour"
           }
          ],
          "contourcarpet": [
           {
            "colorbar": {
             "outlinewidth": 0,
             "ticks": ""
            },
            "type": "contourcarpet"
           }
          ],
          "heatmap": [
           {
            "colorbar": {
             "outlinewidth": 0,
             "ticks": ""
            },
            "colorscale": [
             [
              0,
              "#0d0887"
             ],
             [
              0.1111111111111111,
              "#46039f"
             ],
             [
              0.2222222222222222,
              "#7201a8"
             ],
             [
              0.3333333333333333,
              "#9c179e"
             ],
             [
              0.4444444444444444,
              "#bd3786"
             ],
             [
              0.5555555555555556,
              "#d8576b"
             ],
             [
              0.6666666666666666,
              "#ed7953"
             ],
             [
              0.7777777777777778,
              "#fb9f3a"
             ],
             [
              0.8888888888888888,
              "#fdca26"
             ],
             [
              1,
              "#f0f921"
             ]
            ],
            "type": "heatmap"
           }
          ],
          "heatmapgl": [
           {
            "colorbar": {
             "outlinewidth": 0,
             "ticks": ""
            },
            "colorscale": [
             [
              0,
              "#0d0887"
             ],
             [
              0.1111111111111111,
              "#46039f"
             ],
             [
              0.2222222222222222,
              "#7201a8"
             ],
             [
              0.3333333333333333,
              "#9c179e"
             ],
             [
              0.4444444444444444,
              "#bd3786"
             ],
             [
              0.5555555555555556,
              "#d8576b"
             ],
             [
              0.6666666666666666,
              "#ed7953"
             ],
             [
              0.7777777777777778,
              "#fb9f3a"
             ],
             [
              0.8888888888888888,
              "#fdca26"
             ],
             [
              1,
              "#f0f921"
             ]
            ],
            "type": "heatmapgl"
           }
          ],
          "histogram": [
           {
            "marker": {
             "pattern": {
              "fillmode": "overlay",
              "size": 10,
              "solidity": 0.2
             }
            },
            "type": "histogram"
           }
          ],
          "histogram2d": [
           {
            "colorbar": {
             "outlinewidth": 0,
             "ticks": ""
            },
            "colorscale": [
             [
              0,
              "#0d0887"
             ],
             [
              0.1111111111111111,
              "#46039f"
             ],
             [
              0.2222222222222222,
              "#7201a8"
             ],
             [
              0.3333333333333333,
              "#9c179e"
             ],
             [
              0.4444444444444444,
              "#bd3786"
             ],
             [
              0.5555555555555556,
              "#d8576b"
             ],
             [
              0.6666666666666666,
              "#ed7953"
             ],
             [
              0.7777777777777778,
              "#fb9f3a"
             ],
             [
              0.8888888888888888,
              "#fdca26"
             ],
             [
              1,
              "#f0f921"
             ]
            ],
            "type": "histogram2d"
           }
          ],
          "histogram2dcontour": [
           {
            "colorbar": {
             "outlinewidth": 0,
             "ticks": ""
            },
            "colorscale": [
             [
              0,
              "#0d0887"
             ],
             [
              0.1111111111111111,
              "#46039f"
             ],
             [
              0.2222222222222222,
              "#7201a8"
             ],
             [
              0.3333333333333333,
              "#9c179e"
             ],
             [
              0.4444444444444444,
              "#bd3786"
             ],
             [
              0.5555555555555556,
              "#d8576b"
             ],
             [
              0.6666666666666666,
              "#ed7953"
             ],
             [
              0.7777777777777778,
              "#fb9f3a"
             ],
             [
              0.8888888888888888,
              "#fdca26"
             ],
             [
              1,
              "#f0f921"
             ]
            ],
            "type": "histogram2dcontour"
           }
          ],
          "mesh3d": [
           {
            "colorbar": {
             "outlinewidth": 0,
             "ticks": ""
            },
            "type": "mesh3d"
           }
          ],
          "parcoords": [
           {
            "line": {
             "colorbar": {
              "outlinewidth": 0,
              "ticks": ""
             }
            },
            "type": "parcoords"
           }
          ],
          "pie": [
           {
            "automargin": true,
            "type": "pie"
           }
          ],
          "scatter": [
           {
            "marker": {
             "line": {
              "color": "#283442"
             }
            },
            "type": "scatter"
           }
          ],
          "scatter3d": [
           {
            "line": {
             "colorbar": {
              "outlinewidth": 0,
              "ticks": ""
             }
            },
            "marker": {
             "colorbar": {
              "outlinewidth": 0,
              "ticks": ""
             }
            },
            "type": "scatter3d"
           }
          ],
          "scattercarpet": [
           {
            "marker": {
             "colorbar": {
              "outlinewidth": 0,
              "ticks": ""
             }
            },
            "type": "scattercarpet"
           }
          ],
          "scattergeo": [
           {
            "marker": {
             "colorbar": {
              "outlinewidth": 0,
              "ticks": ""
             }
            },
            "type": "scattergeo"
           }
          ],
          "scattergl": [
           {
            "marker": {
             "line": {
              "color": "#283442"
             }
            },
            "type": "scattergl"
           }
          ],
          "scattermapbox": [
           {
            "marker": {
             "colorbar": {
              "outlinewidth": 0,
              "ticks": ""
             }
            },
            "type": "scattermapbox"
           }
          ],
          "scatterpolar": [
           {
            "marker": {
             "colorbar": {
              "outlinewidth": 0,
              "ticks": ""
             }
            },
            "type": "scatterpolar"
           }
          ],
          "scatterpolargl": [
           {
            "marker": {
             "colorbar": {
              "outlinewidth": 0,
              "ticks": ""
             }
            },
            "type": "scatterpolargl"
           }
          ],
          "scatterternary": [
           {
            "marker": {
             "colorbar": {
              "outlinewidth": 0,
              "ticks": ""
             }
            },
            "type": "scatterternary"
           }
          ],
          "surface": [
           {
            "colorbar": {
             "outlinewidth": 0,
             "ticks": ""
            },
            "colorscale": [
             [
              0,
              "#0d0887"
             ],
             [
              0.1111111111111111,
              "#46039f"
             ],
             [
              0.2222222222222222,
              "#7201a8"
             ],
             [
              0.3333333333333333,
              "#9c179e"
             ],
             [
              0.4444444444444444,
              "#bd3786"
             ],
             [
              0.5555555555555556,
              "#d8576b"
             ],
             [
              0.6666666666666666,
              "#ed7953"
             ],
             [
              0.7777777777777778,
              "#fb9f3a"
             ],
             [
              0.8888888888888888,
              "#fdca26"
             ],
             [
              1,
              "#f0f921"
             ]
            ],
            "type": "surface"
           }
          ],
          "table": [
           {
            "cells": {
             "fill": {
              "color": "#506784"
             },
             "line": {
              "color": "rgb(17,17,17)"
             }
            },
            "header": {
             "fill": {
              "color": "#2a3f5f"
             },
             "line": {
              "color": "rgb(17,17,17)"
             }
            },
            "type": "table"
           }
          ]
         },
         "layout": {
          "annotationdefaults": {
           "arrowcolor": "#f2f5fa",
           "arrowhead": 0,
           "arrowwidth": 1
          },
          "autosize": false,
          "autotypenumbers": "strict",
          "coloraxis": {
           "colorbar": {
            "outlinewidth": 0,
            "ticks": ""
           }
          },
          "colorscale": {
           "diverging": [
            [
             0,
             "#8e0152"
            ],
            [
             0.1,
             "#c51b7d"
            ],
            [
             0.2,
             "#de77ae"
            ],
            [
             0.3,
             "#f1b6da"
            ],
            [
             0.4,
             "#fde0ef"
            ],
            [
             0.5,
             "#f7f7f7"
            ],
            [
             0.6,
             "#e6f5d0"
            ],
            [
             0.7,
             "#b8e186"
            ],
            [
             0.8,
             "#7fbc41"
            ],
            [
             0.9,
             "#4d9221"
            ],
            [
             1,
             "#276419"
            ]
           ],
           "sequential": [
            [
             0,
             "#0d0887"
            ],
            [
             0.1111111111111111,
             "#46039f"
            ],
            [
             0.2222222222222222,
             "#7201a8"
            ],
            [
             0.3333333333333333,
             "#9c179e"
            ],
            [
             0.4444444444444444,
             "#bd3786"
            ],
            [
             0.5555555555555556,
             "#d8576b"
            ],
            [
             0.6666666666666666,
             "#ed7953"
            ],
            [
             0.7777777777777778,
             "#fb9f3a"
            ],
            [
             0.8888888888888888,
             "#fdca26"
            ],
            [
             1,
             "#f0f921"
            ]
           ],
           "sequentialminus": [
            [
             0,
             "#0d0887"
            ],
            [
             0.1111111111111111,
             "#46039f"
            ],
            [
             0.2222222222222222,
             "#7201a8"
            ],
            [
             0.3333333333333333,
             "#9c179e"
            ],
            [
             0.4444444444444444,
             "#bd3786"
            ],
            [
             0.5555555555555556,
             "#d8576b"
            ],
            [
             0.6666666666666666,
             "#ed7953"
            ],
            [
             0.7777777777777778,
             "#fb9f3a"
            ],
            [
             0.8888888888888888,
             "#fdca26"
            ],
            [
             1,
             "#f0f921"
            ]
           ]
          },
          "colorway": [
           "#636efa",
           "#EF553B",
           "#00cc96",
           "#ab63fa",
           "#FFA15A",
           "#19d3f3",
           "#FF6692",
           "#B6E880",
           "#FF97FF",
           "#FECB52"
          ],
          "font": {
           "color": "#f2f5fa"
          },
          "geo": {
           "bgcolor": "rgb(17,17,17)",
           "lakecolor": "rgb(17,17,17)",
           "landcolor": "rgb(17,17,17)",
           "showlakes": true,
           "showland": true,
           "subunitcolor": "#506784"
          },
          "height": 500,
          "hoverlabel": {
           "align": "left"
          },
          "hovermode": "closest",
          "mapbox": {
           "style": "dark"
          },
          "paper_bgcolor": "rgb(17,17,17)",
          "plot_bgcolor": "rgb(17,17,17)",
          "polar": {
           "angularaxis": {
            "gridcolor": "#506784",
            "linecolor": "#506784",
            "ticks": ""
           },
           "bgcolor": "rgb(17,17,17)",
           "radialaxis": {
            "gridcolor": "#506784",
            "linecolor": "#506784",
            "ticks": ""
           }
          },
          "scene": {
           "xaxis": {
            "backgroundcolor": "rgb(17,17,17)",
            "gridcolor": "#506784",
            "gridwidth": 2,
            "linecolor": "#506784",
            "showbackground": true,
            "ticks": "",
            "zerolinecolor": "#C8D4E3"
           },
           "yaxis": {
            "backgroundcolor": "rgb(17,17,17)",
            "gridcolor": "#506784",
            "gridwidth": 2,
            "linecolor": "#506784",
            "showbackground": true,
            "ticks": "",
            "zerolinecolor": "#C8D4E3"
           },
           "zaxis": {
            "backgroundcolor": "rgb(17,17,17)",
            "gridcolor": "#506784",
            "gridwidth": 2,
            "linecolor": "#506784",
            "showbackground": true,
            "ticks": "",
            "zerolinecolor": "#C8D4E3"
           }
          },
          "shapedefaults": {
           "line": {
            "color": "#f2f5fa"
           }
          },
          "showlegend": true,
          "sliderdefaults": {
           "bgcolor": "#C8D4E3",
           "bordercolor": "rgb(17,17,17)",
           "borderwidth": 1,
           "tickwidth": 0
          },
          "ternary": {
           "aaxis": {
            "gridcolor": "#506784",
            "linecolor": "#506784",
            "ticks": ""
           },
           "baxis": {
            "gridcolor": "#506784",
            "linecolor": "#506784",
            "ticks": ""
           },
           "bgcolor": "rgb(17,17,17)",
           "caxis": {
            "gridcolor": "#506784",
            "linecolor": "#506784",
            "ticks": ""
           }
          },
          "title": {
           "x": 0.05
          },
          "updatemenudefaults": {
           "bgcolor": "#506784",
           "borderwidth": 0
          },
          "width": 1000,
          "xaxis": {
           "automargin": true,
           "gridcolor": "#283442",
           "linecolor": "#506784",
           "ticks": "",
           "title": {
            "standoff": 15
           },
           "zerolinecolor": "#283442",
           "zerolinewidth": 2
          },
          "yaxis": {
           "automargin": true,
           "gridcolor": "#283442",
           "linecolor": "#506784",
           "ticks": "",
           "title": {
            "standoff": 15
           },
           "zerolinecolor": "#283442",
           "zerolinewidth": 2
          }
         }
        },
        "xaxis": {
         "anchor": "y",
         "domain": [
          0,
          1
         ],
         "title": {
          "text": "index"
         }
        },
        "yaxis": {
         "anchor": "x",
         "domain": [
          0,
          1
         ],
         "title": {
          "text": "value"
         }
        }
       }
      }
     },
     "metadata": {},
     "output_type": "display_data"
    }
   ],
   "source": [
    "df_forecasts.plot()"
   ]
  },
  {
   "cell_type": "markdown",
   "id": "aff886d9",
   "metadata": {},
   "source": [
    "## Configuration\n",
    "\n",
    "```python\n",
    "p = 12\n",
    "d = 1\n",
    "q = 2\n",
    "\n",
    "model = ARIMA(series, order=(p, d, q))\n",
    "```\n",
    "\n",
    "| Parameter | Name                     | What it does                                                                   |\n",
    "| --------- | ------------------------ | ------------------------------------------------------------------------------ |\n",
    "| p         | AR (AutoRegressive) part | How many *lagged values* of the time series are used (past observations).      |\n",
    "| d         | I (Integrated) part      | How many times we difference the data to make it stationary.                   |\n",
    "| q         | MA (Moving Average) part | How many lagged *forecast errors* (residuals) are used to model the next step. |\n",
    "\n",
    "Why?"
   ]
  },
  {
   "cell_type": "markdown",
   "id": "f4ac7c97",
   "metadata": {},
   "source": []
  },
  {
   "cell_type": "code",
   "execution_count": 50,
   "id": "cb32f5ca",
   "metadata": {},
   "outputs": [],
   "source": [
    "series_diff = series.diff()"
   ]
  },
  {
   "cell_type": "code",
   "execution_count": 51,
   "id": "b649aa31",
   "metadata": {},
   "outputs": [],
   "source": [
    "df['series_diff'] = series_diff"
   ]
  },
  {
   "cell_type": "code",
   "execution_count": 53,
   "id": "d6e37630",
   "metadata": {},
   "outputs": [],
   "source": [
    "df = df.dropna()"
   ]
  },
  {
   "cell_type": "code",
   "execution_count": 54,
   "id": "84a96496",
   "metadata": {},
   "outputs": [
    {
     "data": {
      "text/html": [
       "<div>\n",
       "<style scoped>\n",
       "    .dataframe tbody tr th:only-of-type {\n",
       "        vertical-align: middle;\n",
       "    }\n",
       "\n",
       "    .dataframe tbody tr th {\n",
       "        vertical-align: top;\n",
       "    }\n",
       "\n",
       "    .dataframe thead th {\n",
       "        text-align: right;\n",
       "    }\n",
       "</style>\n",
       "<table border=\"1\" class=\"dataframe\">\n",
       "  <thead>\n",
       "    <tr style=\"text-align: right;\">\n",
       "      <th></th>\n",
       "      <th>values</th>\n",
       "      <th>series_diff</th>\n",
       "    </tr>\n",
       "  </thead>\n",
       "  <tbody>\n",
       "    <tr>\n",
       "      <th>1949-02-28</th>\n",
       "      <td>4.770685</td>\n",
       "      <td>0.052186</td>\n",
       "    </tr>\n",
       "    <tr>\n",
       "      <th>1949-03-31</th>\n",
       "      <td>4.882802</td>\n",
       "      <td>0.112117</td>\n",
       "    </tr>\n",
       "    <tr>\n",
       "      <th>1949-04-30</th>\n",
       "      <td>4.859812</td>\n",
       "      <td>-0.022990</td>\n",
       "    </tr>\n",
       "    <tr>\n",
       "      <th>1949-05-31</th>\n",
       "      <td>4.795791</td>\n",
       "      <td>-0.064022</td>\n",
       "    </tr>\n",
       "    <tr>\n",
       "      <th>1949-06-30</th>\n",
       "      <td>4.905275</td>\n",
       "      <td>0.109484</td>\n",
       "    </tr>\n",
       "    <tr>\n",
       "      <th>...</th>\n",
       "      <td>...</td>\n",
       "      <td>...</td>\n",
       "    </tr>\n",
       "    <tr>\n",
       "      <th>1960-08-31</th>\n",
       "      <td>6.406880</td>\n",
       "      <td>-0.026060</td>\n",
       "    </tr>\n",
       "    <tr>\n",
       "      <th>1960-09-30</th>\n",
       "      <td>6.230481</td>\n",
       "      <td>-0.176399</td>\n",
       "    </tr>\n",
       "    <tr>\n",
       "      <th>1960-10-31</th>\n",
       "      <td>6.133398</td>\n",
       "      <td>-0.097083</td>\n",
       "    </tr>\n",
       "    <tr>\n",
       "      <th>1960-11-30</th>\n",
       "      <td>5.966147</td>\n",
       "      <td>-0.167251</td>\n",
       "    </tr>\n",
       "    <tr>\n",
       "      <th>1960-12-31</th>\n",
       "      <td>6.068426</td>\n",
       "      <td>0.102279</td>\n",
       "    </tr>\n",
       "  </tbody>\n",
       "</table>\n",
       "<p>143 rows × 2 columns</p>\n",
       "</div>"
      ],
      "text/plain": [
       "              values  series_diff\n",
       "1949-02-28  4.770685     0.052186\n",
       "1949-03-31  4.882802     0.112117\n",
       "1949-04-30  4.859812    -0.022990\n",
       "1949-05-31  4.795791    -0.064022\n",
       "1949-06-30  4.905275     0.109484\n",
       "...              ...          ...\n",
       "1960-08-31  6.406880    -0.026060\n",
       "1960-09-30  6.230481    -0.176399\n",
       "1960-10-31  6.133398    -0.097083\n",
       "1960-11-30  5.966147    -0.167251\n",
       "1960-12-31  6.068426     0.102279\n",
       "\n",
       "[143 rows x 2 columns]"
      ]
     },
     "execution_count": 54,
     "metadata": {},
     "output_type": "execute_result"
    }
   ],
   "source": [
    "df"
   ]
  },
  {
   "cell_type": "code",
   "execution_count": 55,
   "id": "258f0b42",
   "metadata": {},
   "outputs": [
    {
     "data": {
      "application/vnd.plotly.v1+json": {
       "config": {
        "plotlyServerURL": "https://plot.ly"
       },
       "data": [
        {
         "hovertemplate": "variable=values<br>index=%{x}<br>value=%{y}<extra></extra>",
         "legendgroup": "values",
         "line": {
          "color": "#636efa",
          "dash": "solid"
         },
         "marker": {
          "symbol": "circle"
         },
         "mode": "lines",
         "name": "values",
         "orientation": "v",
         "showlegend": true,
         "type": "scatter",
         "x": [
          "1949-02-28T00:00:00",
          "1949-03-31T00:00:00",
          "1949-04-30T00:00:00",
          "1949-05-31T00:00:00",
          "1949-06-30T00:00:00",
          "1949-07-31T00:00:00",
          "1949-08-31T00:00:00",
          "1949-09-30T00:00:00",
          "1949-10-31T00:00:00",
          "1949-11-30T00:00:00",
          "1949-12-31T00:00:00",
          "1950-01-31T00:00:00",
          "1950-02-28T00:00:00",
          "1950-03-31T00:00:00",
          "1950-04-30T00:00:00",
          "1950-05-31T00:00:00",
          "1950-06-30T00:00:00",
          "1950-07-31T00:00:00",
          "1950-08-31T00:00:00",
          "1950-09-30T00:00:00",
          "1950-10-31T00:00:00",
          "1950-11-30T00:00:00",
          "1950-12-31T00:00:00",
          "1951-01-31T00:00:00",
          "1951-02-28T00:00:00",
          "1951-03-31T00:00:00",
          "1951-04-30T00:00:00",
          "1951-05-31T00:00:00",
          "1951-06-30T00:00:00",
          "1951-07-31T00:00:00",
          "1951-08-31T00:00:00",
          "1951-09-30T00:00:00",
          "1951-10-31T00:00:00",
          "1951-11-30T00:00:00",
          "1951-12-31T00:00:00",
          "1952-01-31T00:00:00",
          "1952-02-29T00:00:00",
          "1952-03-31T00:00:00",
          "1952-04-30T00:00:00",
          "1952-05-31T00:00:00",
          "1952-06-30T00:00:00",
          "1952-07-31T00:00:00",
          "1952-08-31T00:00:00",
          "1952-09-30T00:00:00",
          "1952-10-31T00:00:00",
          "1952-11-30T00:00:00",
          "1952-12-31T00:00:00",
          "1953-01-31T00:00:00",
          "1953-02-28T00:00:00",
          "1953-03-31T00:00:00",
          "1953-04-30T00:00:00",
          "1953-05-31T00:00:00",
          "1953-06-30T00:00:00",
          "1953-07-31T00:00:00",
          "1953-08-31T00:00:00",
          "1953-09-30T00:00:00",
          "1953-10-31T00:00:00",
          "1953-11-30T00:00:00",
          "1953-12-31T00:00:00",
          "1954-01-31T00:00:00",
          "1954-02-28T00:00:00",
          "1954-03-31T00:00:00",
          "1954-04-30T00:00:00",
          "1954-05-31T00:00:00",
          "1954-06-30T00:00:00",
          "1954-07-31T00:00:00",
          "1954-08-31T00:00:00",
          "1954-09-30T00:00:00",
          "1954-10-31T00:00:00",
          "1954-11-30T00:00:00",
          "1954-12-31T00:00:00",
          "1955-01-31T00:00:00",
          "1955-02-28T00:00:00",
          "1955-03-31T00:00:00",
          "1955-04-30T00:00:00",
          "1955-05-31T00:00:00",
          "1955-06-30T00:00:00",
          "1955-07-31T00:00:00",
          "1955-08-31T00:00:00",
          "1955-09-30T00:00:00",
          "1955-10-31T00:00:00",
          "1955-11-30T00:00:00",
          "1955-12-31T00:00:00",
          "1956-01-31T00:00:00",
          "1956-02-29T00:00:00",
          "1956-03-31T00:00:00",
          "1956-04-30T00:00:00",
          "1956-05-31T00:00:00",
          "1956-06-30T00:00:00",
          "1956-07-31T00:00:00",
          "1956-08-31T00:00:00",
          "1956-09-30T00:00:00",
          "1956-10-31T00:00:00",
          "1956-11-30T00:00:00",
          "1956-12-31T00:00:00",
          "1957-01-31T00:00:00",
          "1957-02-28T00:00:00",
          "1957-03-31T00:00:00",
          "1957-04-30T00:00:00",
          "1957-05-31T00:00:00",
          "1957-06-30T00:00:00",
          "1957-07-31T00:00:00",
          "1957-08-31T00:00:00",
          "1957-09-30T00:00:00",
          "1957-10-31T00:00:00",
          "1957-11-30T00:00:00",
          "1957-12-31T00:00:00",
          "1958-01-31T00:00:00",
          "1958-02-28T00:00:00",
          "1958-03-31T00:00:00",
          "1958-04-30T00:00:00",
          "1958-05-31T00:00:00",
          "1958-06-30T00:00:00",
          "1958-07-31T00:00:00",
          "1958-08-31T00:00:00",
          "1958-09-30T00:00:00",
          "1958-10-31T00:00:00",
          "1958-11-30T00:00:00",
          "1958-12-31T00:00:00",
          "1959-01-31T00:00:00",
          "1959-02-28T00:00:00",
          "1959-03-31T00:00:00",
          "1959-04-30T00:00:00",
          "1959-05-31T00:00:00",
          "1959-06-30T00:00:00",
          "1959-07-31T00:00:00",
          "1959-08-31T00:00:00",
          "1959-09-30T00:00:00",
          "1959-10-31T00:00:00",
          "1959-11-30T00:00:00",
          "1959-12-31T00:00:00",
          "1960-01-31T00:00:00",
          "1960-02-29T00:00:00",
          "1960-03-31T00:00:00",
          "1960-04-30T00:00:00",
          "1960-05-31T00:00:00",
          "1960-06-30T00:00:00",
          "1960-07-31T00:00:00",
          "1960-08-31T00:00:00",
          "1960-09-30T00:00:00",
          "1960-10-31T00:00:00",
          "1960-11-30T00:00:00",
          "1960-12-31T00:00:00"
         ],
         "xaxis": "x",
         "y": [
          4.770684624465665,
          4.882801922586371,
          4.859812404361672,
          4.795790545596741,
          4.90527477843843,
          4.997212273764115,
          4.997212273764115,
          4.912654885736052,
          4.77912349311153,
          4.6443908991413725,
          4.770684624465665,
          4.74493212836325,
          4.836281906951478,
          4.948759890378168,
          4.90527477843843,
          4.8283137373023015,
          5.003946305945459,
          5.135798437050262,
          5.135798437050262,
          5.062595033026967,
          4.890349128221754,
          4.736198448394496,
          4.941642422609304,
          4.976733742420574,
          5.0106352940962555,
          5.181783550292085,
          5.093750200806762,
          5.147494476813453,
          5.181783550292085,
          5.293304824724492,
          5.293304824724492,
          5.214935757608986,
          5.087596335232384,
          4.983606621708336,
          5.111987788356544,
          5.14166355650266,
          5.19295685089021,
          5.262690188904886,
          5.198497031265826,
          5.209486152841421,
          5.384495062789089,
          5.438079308923196,
          5.488937726156687,
          5.342334251964811,
          5.25227342804663,
          5.147494476813453,
          5.267858159063328,
          5.278114659230517,
          5.278114659230517,
          5.4638318050256105,
          5.459585514144159,
          5.43372200355424,
          5.493061443340548,
          5.575949103146316,
          5.605802066295998,
          5.4680601411351315,
          5.351858133476067,
          5.19295685089021,
          5.303304908059076,
          5.318119993844216,
          5.236441962829949,
          5.459585514144159,
          5.424950017481403,
          5.455321115357702,
          5.575949103146316,
          5.71042701737487,
          5.680172609017068,
          5.556828061699537,
          5.43372200355424,
          5.313205979041787,
          5.43372200355424,
          5.488937726156687,
          5.4510384535657,
          5.58724865840025,
          5.594711379601839,
          5.598421958998375,
          5.752572638825633,
          5.8971538676367405,
          5.849324779946859,
          5.7430031878094825,
          5.6131281063880705,
          5.4680601411351315,
          5.627621113690637,
          5.648974238161206,
          5.6240175061873385,
          5.75890177387728,
          5.746203190540153,
          5.762051382780177,
          5.924255797414532,
          6.023447592961033,
          6.003887067106539,
          5.872117789475416,
          5.723585101952381,
          5.602118820879701,
          5.723585101952381,
          5.752572638825633,
          5.707110264748875,
          5.87493073085203,
          5.8522024797744745,
          5.872117789475416,
          6.045005314036012,
          6.142037405587356,
          6.1463292576688975,
          6.0014148779611505,
          5.849324779946859,
          5.720311776607412,
          5.817111159963204,
          5.8289456176102075,
          5.762051382780177,
          5.8916442118257715,
          5.8522024797744745,
          5.8944028342648505,
          6.075346031088684,
          6.19644412779452,
          6.22455842927536,
          6.0014148779611505,
          5.883322388488279,
          5.736572297479192,
          5.820082930352362,
          5.886104031450156,
          5.834810737062605,
          6.0063531596017325,
          5.981414211254481,
          6.040254711277414,
          6.156978985585555,
          6.306275286948016,
          6.326149473155099,
          6.137727054086234,
          6.008813185442595,
          5.8916442118257715,
          6.003887067106539,
          6.0330862217988015,
          5.968707559985366,
          6.037870919922137,
          6.133398042996649,
          6.156978985585555,
          6.282266746896006,
          6.432940092739179,
          6.406879986069314,
          6.230481447578482,
          6.133398042996649,
          5.966146739123692,
          6.068425588244111
         ],
         "yaxis": "y"
        },
        {
         "hovertemplate": "variable=series_diff<br>index=%{x}<br>value=%{y}<extra></extra>",
         "legendgroup": "series_diff",
         "line": {
          "color": "#EF553B",
          "dash": "solid"
         },
         "marker": {
          "symbol": "circle"
         },
         "mode": "lines",
         "name": "series_diff",
         "orientation": "v",
         "showlegend": true,
         "type": "scatter",
         "x": [
          "1949-02-28T00:00:00",
          "1949-03-31T00:00:00",
          "1949-04-30T00:00:00",
          "1949-05-31T00:00:00",
          "1949-06-30T00:00:00",
          "1949-07-31T00:00:00",
          "1949-08-31T00:00:00",
          "1949-09-30T00:00:00",
          "1949-10-31T00:00:00",
          "1949-11-30T00:00:00",
          "1949-12-31T00:00:00",
          "1950-01-31T00:00:00",
          "1950-02-28T00:00:00",
          "1950-03-31T00:00:00",
          "1950-04-30T00:00:00",
          "1950-05-31T00:00:00",
          "1950-06-30T00:00:00",
          "1950-07-31T00:00:00",
          "1950-08-31T00:00:00",
          "1950-09-30T00:00:00",
          "1950-10-31T00:00:00",
          "1950-11-30T00:00:00",
          "1950-12-31T00:00:00",
          "1951-01-31T00:00:00",
          "1951-02-28T00:00:00",
          "1951-03-31T00:00:00",
          "1951-04-30T00:00:00",
          "1951-05-31T00:00:00",
          "1951-06-30T00:00:00",
          "1951-07-31T00:00:00",
          "1951-08-31T00:00:00",
          "1951-09-30T00:00:00",
          "1951-10-31T00:00:00",
          "1951-11-30T00:00:00",
          "1951-12-31T00:00:00",
          "1952-01-31T00:00:00",
          "1952-02-29T00:00:00",
          "1952-03-31T00:00:00",
          "1952-04-30T00:00:00",
          "1952-05-31T00:00:00",
          "1952-06-30T00:00:00",
          "1952-07-31T00:00:00",
          "1952-08-31T00:00:00",
          "1952-09-30T00:00:00",
          "1952-10-31T00:00:00",
          "1952-11-30T00:00:00",
          "1952-12-31T00:00:00",
          "1953-01-31T00:00:00",
          "1953-02-28T00:00:00",
          "1953-03-31T00:00:00",
          "1953-04-30T00:00:00",
          "1953-05-31T00:00:00",
          "1953-06-30T00:00:00",
          "1953-07-31T00:00:00",
          "1953-08-31T00:00:00",
          "1953-09-30T00:00:00",
          "1953-10-31T00:00:00",
          "1953-11-30T00:00:00",
          "1953-12-31T00:00:00",
          "1954-01-31T00:00:00",
          "1954-02-28T00:00:00",
          "1954-03-31T00:00:00",
          "1954-04-30T00:00:00",
          "1954-05-31T00:00:00",
          "1954-06-30T00:00:00",
          "1954-07-31T00:00:00",
          "1954-08-31T00:00:00",
          "1954-09-30T00:00:00",
          "1954-10-31T00:00:00",
          "1954-11-30T00:00:00",
          "1954-12-31T00:00:00",
          "1955-01-31T00:00:00",
          "1955-02-28T00:00:00",
          "1955-03-31T00:00:00",
          "1955-04-30T00:00:00",
          "1955-05-31T00:00:00",
          "1955-06-30T00:00:00",
          "1955-07-31T00:00:00",
          "1955-08-31T00:00:00",
          "1955-09-30T00:00:00",
          "1955-10-31T00:00:00",
          "1955-11-30T00:00:00",
          "1955-12-31T00:00:00",
          "1956-01-31T00:00:00",
          "1956-02-29T00:00:00",
          "1956-03-31T00:00:00",
          "1956-04-30T00:00:00",
          "1956-05-31T00:00:00",
          "1956-06-30T00:00:00",
          "1956-07-31T00:00:00",
          "1956-08-31T00:00:00",
          "1956-09-30T00:00:00",
          "1956-10-31T00:00:00",
          "1956-11-30T00:00:00",
          "1956-12-31T00:00:00",
          "1957-01-31T00:00:00",
          "1957-02-28T00:00:00",
          "1957-03-31T00:00:00",
          "1957-04-30T00:00:00",
          "1957-05-31T00:00:00",
          "1957-06-30T00:00:00",
          "1957-07-31T00:00:00",
          "1957-08-31T00:00:00",
          "1957-09-30T00:00:00",
          "1957-10-31T00:00:00",
          "1957-11-30T00:00:00",
          "1957-12-31T00:00:00",
          "1958-01-31T00:00:00",
          "1958-02-28T00:00:00",
          "1958-03-31T00:00:00",
          "1958-04-30T00:00:00",
          "1958-05-31T00:00:00",
          "1958-06-30T00:00:00",
          "1958-07-31T00:00:00",
          "1958-08-31T00:00:00",
          "1958-09-30T00:00:00",
          "1958-10-31T00:00:00",
          "1958-11-30T00:00:00",
          "1958-12-31T00:00:00",
          "1959-01-31T00:00:00",
          "1959-02-28T00:00:00",
          "1959-03-31T00:00:00",
          "1959-04-30T00:00:00",
          "1959-05-31T00:00:00",
          "1959-06-30T00:00:00",
          "1959-07-31T00:00:00",
          "1959-08-31T00:00:00",
          "1959-09-30T00:00:00",
          "1959-10-31T00:00:00",
          "1959-11-30T00:00:00",
          "1959-12-31T00:00:00",
          "1960-01-31T00:00:00",
          "1960-02-29T00:00:00",
          "1960-03-31T00:00:00",
          "1960-04-30T00:00:00",
          "1960-05-31T00:00:00",
          "1960-06-30T00:00:00",
          "1960-07-31T00:00:00",
          "1960-08-31T00:00:00",
          "1960-09-30T00:00:00",
          "1960-10-31T00:00:00",
          "1960-11-30T00:00:00",
          "1960-12-31T00:00:00"
         ],
         "xaxis": "x2",
         "y": [
          0.05218575317057095,
          0.11211729812070548,
          -0.022989518224698635,
          -0.0640218587649306,
          0.10948423284168829,
          0.09193749532568507,
          0,
          -0.08455738802806234,
          -0.13353139262452274,
          -0.13473259397015713,
          0.12629372532429262,
          -0.025752496102414923,
          0.09134977858822779,
          0.11247798342669046,
          -0.04348511193973881,
          -0.07696104113612812,
          0.17563256864315768,
          0.13185213110480287,
          0,
          -0.07320340402329517,
          -0.17224590480521318,
          -0.15415067982725805,
          0.2054439742148082,
          0.03509131981127034,
          0.03390155167568132,
          0.17114825619582952,
          -0.08803334948532271,
          0.053744276006690406,
          0.034289073478632304,
          0.11152127443240722,
          0,
          -0.0783690671155064,
          -0.12733942237660223,
          -0.10398971352404729,
          0.1283811666482073,
          0.02967576814611661,
          0.05129329438755015,
          0.06973333801467518,
          -0.06419315763905953,
          0.010989121575595284,
          0.1750089099476675,
          0.05358424613410673,
          0.05085841723349116,
          -0.1466034741918758,
          -0.09006082391818104,
          -0.10477895123317715,
          0.12036368224987548,
          0.010256500167188598,
          0,
          0.18571714579509369,
          -0.004246290881451564,
          -0.02586351058991898,
          0.05933943978630829,
          0.08288765980576773,
          0.029852963149681777,
          -0.13774192516086625,
          -0.11620200765906485,
          -0.15890128258585623,
          0.11034805716886531,
          0.014815085785140347,
          -0.08167803101426685,
          0.2231435513142097,
          -0.034635496662756005,
          0.03037109787629877,
          0.12062798778861428,
          0.1344779142285537,
          -0.03025440835780202,
          -0.1233445473175303,
          -0.1231060581452974,
          -0.1205160245124528,
          0.1205160245124528,
          0.05521572260244678,
          -0.03789927259098658,
          0.1362102048345495,
          0.007462721201589417,
          0.0037105793965359624,
          0.15415067982725805,
          0.14458122881110747,
          -0.047829087689881256,
          -0.1063215921373768,
          -0.12987508142141202,
          -0.14506796525293897,
          0.1595609725555054,
          0.021353124470569362,
          -0.02495673197386772,
          0.13488426768994177,
          -0.012698583337127367,
          0.015848192240023984,
          0.1622044146343553,
          0.09919179554650093,
          -0.019560525854494415,
          -0.13176927763112278,
          -0.14853268752303528,
          -0.12146628107267965,
          0.12146628107267965,
          0.028987536873252395,
          -0.04546237407675768,
          0.16782046610315504,
          -0.02272825107755594,
          0.019915309700941464,
          0.17288752456059608,
          0.09703209155134385,
          0.004291852081541592,
          -0.144914379707747,
          -0.1520900980142912,
          -0.12901300333944743,
          0.0967993833557923,
          0.011834457647003305,
          -0.06689423483003054,
          0.12959282904559455,
          -0.039441732051296974,
          0.04220035449037596,
          0.18094319682383375,
          0.12109809670583616,
          0.02811430148083982,
          -0.2231435513142097,
          -0.11809248947287188,
          -0.14675009100908643,
          0.0835106328731694,
          0.06602110109779424,
          -0.051293294387551036,
          0.17154242253912777,
          -0.024938948347251966,
          0.058840500022933284,
          0.11672427430814114,
          0.14929630136246086,
          0.019874186207083255,
          -0.18842241906886503,
          -0.12891386864363952,
          -0.1171689736168231,
          0.11224285528076727,
          0.029199154692262752,
          -0.06437866181343566,
          0.06916335993677158,
          0.09552712307451117,
          0.023580942588906417,
          0.12528776131045127,
          0.15067334584317305,
          -0.026060106669865135,
          -0.1763985384908322,
          -0.0970834045818334,
          -0.1672513038729564,
          0.10227884912041851
         ],
         "yaxis": "y2"
        }
       ],
       "layout": {
        "annotations": [
         {
          "font": {},
          "showarrow": false,
          "text": "variable=values",
          "x": 0.245,
          "xanchor": "center",
          "xref": "paper",
          "y": 1,
          "yanchor": "bottom",
          "yref": "paper"
         },
         {
          "font": {},
          "showarrow": false,
          "text": "variable=series_diff",
          "x": 0.755,
          "xanchor": "center",
          "xref": "paper",
          "y": 1,
          "yanchor": "bottom",
          "yref": "paper"
         }
        ],
        "legend": {
         "title": {
          "text": "variable"
         },
         "tracegroupgap": 0
        },
        "margin": {
         "t": 60
        },
        "template": {
         "data": {
          "bar": [
           {
            "error_x": {
             "color": "#f2f5fa"
            },
            "error_y": {
             "color": "#f2f5fa"
            },
            "marker": {
             "line": {
              "color": "rgb(17,17,17)",
              "width": 0.5
             },
             "pattern": {
              "fillmode": "overlay",
              "size": 10,
              "solidity": 0.2
             }
            },
            "type": "bar"
           }
          ],
          "barpolar": [
           {
            "marker": {
             "line": {
              "color": "rgb(17,17,17)",
              "width": 0.5
             },
             "pattern": {
              "fillmode": "overlay",
              "size": 10,
              "solidity": 0.2
             }
            },
            "type": "barpolar"
           }
          ],
          "carpet": [
           {
            "aaxis": {
             "endlinecolor": "#A2B1C6",
             "gridcolor": "#506784",
             "linecolor": "#506784",
             "minorgridcolor": "#506784",
             "startlinecolor": "#A2B1C6"
            },
            "baxis": {
             "endlinecolor": "#A2B1C6",
             "gridcolor": "#506784",
             "linecolor": "#506784",
             "minorgridcolor": "#506784",
             "startlinecolor": "#A2B1C6"
            },
            "type": "carpet"
           }
          ],
          "choropleth": [
           {
            "colorbar": {
             "outlinewidth": 0,
             "ticks": ""
            },
            "type": "choropleth"
           }
          ],
          "contour": [
           {
            "colorbar": {
             "outlinewidth": 0,
             "ticks": ""
            },
            "colorscale": [
             [
              0,
              "#0d0887"
             ],
             [
              0.1111111111111111,
              "#46039f"
             ],
             [
              0.2222222222222222,
              "#7201a8"
             ],
             [
              0.3333333333333333,
              "#9c179e"
             ],
             [
              0.4444444444444444,
              "#bd3786"
             ],
             [
              0.5555555555555556,
              "#d8576b"
             ],
             [
              0.6666666666666666,
              "#ed7953"
             ],
             [
              0.7777777777777778,
              "#fb9f3a"
             ],
             [
              0.8888888888888888,
              "#fdca26"
             ],
             [
              1,
              "#f0f921"
             ]
            ],
            "type": "contour"
           }
          ],
          "contourcarpet": [
           {
            "colorbar": {
             "outlinewidth": 0,
             "ticks": ""
            },
            "type": "contourcarpet"
           }
          ],
          "heatmap": [
           {
            "colorbar": {
             "outlinewidth": 0,
             "ticks": ""
            },
            "colorscale": [
             [
              0,
              "#0d0887"
             ],
             [
              0.1111111111111111,
              "#46039f"
             ],
             [
              0.2222222222222222,
              "#7201a8"
             ],
             [
              0.3333333333333333,
              "#9c179e"
             ],
             [
              0.4444444444444444,
              "#bd3786"
             ],
             [
              0.5555555555555556,
              "#d8576b"
             ],
             [
              0.6666666666666666,
              "#ed7953"
             ],
             [
              0.7777777777777778,
              "#fb9f3a"
             ],
             [
              0.8888888888888888,
              "#fdca26"
             ],
             [
              1,
              "#f0f921"
             ]
            ],
            "type": "heatmap"
           }
          ],
          "heatmapgl": [
           {
            "colorbar": {
             "outlinewidth": 0,
             "ticks": ""
            },
            "colorscale": [
             [
              0,
              "#0d0887"
             ],
             [
              0.1111111111111111,
              "#46039f"
             ],
             [
              0.2222222222222222,
              "#7201a8"
             ],
             [
              0.3333333333333333,
              "#9c179e"
             ],
             [
              0.4444444444444444,
              "#bd3786"
             ],
             [
              0.5555555555555556,
              "#d8576b"
             ],
             [
              0.6666666666666666,
              "#ed7953"
             ],
             [
              0.7777777777777778,
              "#fb9f3a"
             ],
             [
              0.8888888888888888,
              "#fdca26"
             ],
             [
              1,
              "#f0f921"
             ]
            ],
            "type": "heatmapgl"
           }
          ],
          "histogram": [
           {
            "marker": {
             "pattern": {
              "fillmode": "overlay",
              "size": 10,
              "solidity": 0.2
             }
            },
            "type": "histogram"
           }
          ],
          "histogram2d": [
           {
            "colorbar": {
             "outlinewidth": 0,
             "ticks": ""
            },
            "colorscale": [
             [
              0,
              "#0d0887"
             ],
             [
              0.1111111111111111,
              "#46039f"
             ],
             [
              0.2222222222222222,
              "#7201a8"
             ],
             [
              0.3333333333333333,
              "#9c179e"
             ],
             [
              0.4444444444444444,
              "#bd3786"
             ],
             [
              0.5555555555555556,
              "#d8576b"
             ],
             [
              0.6666666666666666,
              "#ed7953"
             ],
             [
              0.7777777777777778,
              "#fb9f3a"
             ],
             [
              0.8888888888888888,
              "#fdca26"
             ],
             [
              1,
              "#f0f921"
             ]
            ],
            "type": "histogram2d"
           }
          ],
          "histogram2dcontour": [
           {
            "colorbar": {
             "outlinewidth": 0,
             "ticks": ""
            },
            "colorscale": [
             [
              0,
              "#0d0887"
             ],
             [
              0.1111111111111111,
              "#46039f"
             ],
             [
              0.2222222222222222,
              "#7201a8"
             ],
             [
              0.3333333333333333,
              "#9c179e"
             ],
             [
              0.4444444444444444,
              "#bd3786"
             ],
             [
              0.5555555555555556,
              "#d8576b"
             ],
             [
              0.6666666666666666,
              "#ed7953"
             ],
             [
              0.7777777777777778,
              "#fb9f3a"
             ],
             [
              0.8888888888888888,
              "#fdca26"
             ],
             [
              1,
              "#f0f921"
             ]
            ],
            "type": "histogram2dcontour"
           }
          ],
          "mesh3d": [
           {
            "colorbar": {
             "outlinewidth": 0,
             "ticks": ""
            },
            "type": "mesh3d"
           }
          ],
          "parcoords": [
           {
            "line": {
             "colorbar": {
              "outlinewidth": 0,
              "ticks": ""
             }
            },
            "type": "parcoords"
           }
          ],
          "pie": [
           {
            "automargin": true,
            "type": "pie"
           }
          ],
          "scatter": [
           {
            "marker": {
             "line": {
              "color": "#283442"
             }
            },
            "type": "scatter"
           }
          ],
          "scatter3d": [
           {
            "line": {
             "colorbar": {
              "outlinewidth": 0,
              "ticks": ""
             }
            },
            "marker": {
             "colorbar": {
              "outlinewidth": 0,
              "ticks": ""
             }
            },
            "type": "scatter3d"
           }
          ],
          "scattercarpet": [
           {
            "marker": {
             "colorbar": {
              "outlinewidth": 0,
              "ticks": ""
             }
            },
            "type": "scattercarpet"
           }
          ],
          "scattergeo": [
           {
            "marker": {
             "colorbar": {
              "outlinewidth": 0,
              "ticks": ""
             }
            },
            "type": "scattergeo"
           }
          ],
          "scattergl": [
           {
            "marker": {
             "line": {
              "color": "#283442"
             }
            },
            "type": "scattergl"
           }
          ],
          "scattermapbox": [
           {
            "marker": {
             "colorbar": {
              "outlinewidth": 0,
              "ticks": ""
             }
            },
            "type": "scattermapbox"
           }
          ],
          "scatterpolar": [
           {
            "marker": {
             "colorbar": {
              "outlinewidth": 0,
              "ticks": ""
             }
            },
            "type": "scatterpolar"
           }
          ],
          "scatterpolargl": [
           {
            "marker": {
             "colorbar": {
              "outlinewidth": 0,
              "ticks": ""
             }
            },
            "type": "scatterpolargl"
           }
          ],
          "scatterternary": [
           {
            "marker": {
             "colorbar": {
              "outlinewidth": 0,
              "ticks": ""
             }
            },
            "type": "scatterternary"
           }
          ],
          "surface": [
           {
            "colorbar": {
             "outlinewidth": 0,
             "ticks": ""
            },
            "colorscale": [
             [
              0,
              "#0d0887"
             ],
             [
              0.1111111111111111,
              "#46039f"
             ],
             [
              0.2222222222222222,
              "#7201a8"
             ],
             [
              0.3333333333333333,
              "#9c179e"
             ],
             [
              0.4444444444444444,
              "#bd3786"
             ],
             [
              0.5555555555555556,
              "#d8576b"
             ],
             [
              0.6666666666666666,
              "#ed7953"
             ],
             [
              0.7777777777777778,
              "#fb9f3a"
             ],
             [
              0.8888888888888888,
              "#fdca26"
             ],
             [
              1,
              "#f0f921"
             ]
            ],
            "type": "surface"
           }
          ],
          "table": [
           {
            "cells": {
             "fill": {
              "color": "#506784"
             },
             "line": {
              "color": "rgb(17,17,17)"
             }
            },
            "header": {
             "fill": {
              "color": "#2a3f5f"
             },
             "line": {
              "color": "rgb(17,17,17)"
             }
            },
            "type": "table"
           }
          ]
         },
         "layout": {
          "annotationdefaults": {
           "arrowcolor": "#f2f5fa",
           "arrowhead": 0,
           "arrowwidth": 1
          },
          "autosize": false,
          "autotypenumbers": "strict",
          "coloraxis": {
           "colorbar": {
            "outlinewidth": 0,
            "ticks": ""
           }
          },
          "colorscale": {
           "diverging": [
            [
             0,
             "#8e0152"
            ],
            [
             0.1,
             "#c51b7d"
            ],
            [
             0.2,
             "#de77ae"
            ],
            [
             0.3,
             "#f1b6da"
            ],
            [
             0.4,
             "#fde0ef"
            ],
            [
             0.5,
             "#f7f7f7"
            ],
            [
             0.6,
             "#e6f5d0"
            ],
            [
             0.7,
             "#b8e186"
            ],
            [
             0.8,
             "#7fbc41"
            ],
            [
             0.9,
             "#4d9221"
            ],
            [
             1,
             "#276419"
            ]
           ],
           "sequential": [
            [
             0,
             "#0d0887"
            ],
            [
             0.1111111111111111,
             "#46039f"
            ],
            [
             0.2222222222222222,
             "#7201a8"
            ],
            [
             0.3333333333333333,
             "#9c179e"
            ],
            [
             0.4444444444444444,
             "#bd3786"
            ],
            [
             0.5555555555555556,
             "#d8576b"
            ],
            [
             0.6666666666666666,
             "#ed7953"
            ],
            [
             0.7777777777777778,
             "#fb9f3a"
            ],
            [
             0.8888888888888888,
             "#fdca26"
            ],
            [
             1,
             "#f0f921"
            ]
           ],
           "sequentialminus": [
            [
             0,
             "#0d0887"
            ],
            [
             0.1111111111111111,
             "#46039f"
            ],
            [
             0.2222222222222222,
             "#7201a8"
            ],
            [
             0.3333333333333333,
             "#9c179e"
            ],
            [
             0.4444444444444444,
             "#bd3786"
            ],
            [
             0.5555555555555556,
             "#d8576b"
            ],
            [
             0.6666666666666666,
             "#ed7953"
            ],
            [
             0.7777777777777778,
             "#fb9f3a"
            ],
            [
             0.8888888888888888,
             "#fdca26"
            ],
            [
             1,
             "#f0f921"
            ]
           ]
          },
          "colorway": [
           "#636efa",
           "#EF553B",
           "#00cc96",
           "#ab63fa",
           "#FFA15A",
           "#19d3f3",
           "#FF6692",
           "#B6E880",
           "#FF97FF",
           "#FECB52"
          ],
          "font": {
           "color": "#f2f5fa"
          },
          "geo": {
           "bgcolor": "rgb(17,17,17)",
           "lakecolor": "rgb(17,17,17)",
           "landcolor": "rgb(17,17,17)",
           "showlakes": true,
           "showland": true,
           "subunitcolor": "#506784"
          },
          "height": 500,
          "hoverlabel": {
           "align": "left"
          },
          "hovermode": "closest",
          "mapbox": {
           "style": "dark"
          },
          "paper_bgcolor": "rgb(17,17,17)",
          "plot_bgcolor": "rgb(17,17,17)",
          "polar": {
           "angularaxis": {
            "gridcolor": "#506784",
            "linecolor": "#506784",
            "ticks": ""
           },
           "bgcolor": "rgb(17,17,17)",
           "radialaxis": {
            "gridcolor": "#506784",
            "linecolor": "#506784",
            "ticks": ""
           }
          },
          "scene": {
           "xaxis": {
            "backgroundcolor": "rgb(17,17,17)",
            "gridcolor": "#506784",
            "gridwidth": 2,
            "linecolor": "#506784",
            "showbackground": true,
            "ticks": "",
            "zerolinecolor": "#C8D4E3"
           },
           "yaxis": {
            "backgroundcolor": "rgb(17,17,17)",
            "gridcolor": "#506784",
            "gridwidth": 2,
            "linecolor": "#506784",
            "showbackground": true,
            "ticks": "",
            "zerolinecolor": "#C8D4E3"
           },
           "zaxis": {
            "backgroundcolor": "rgb(17,17,17)",
            "gridcolor": "#506784",
            "gridwidth": 2,
            "linecolor": "#506784",
            "showbackground": true,
            "ticks": "",
            "zerolinecolor": "#C8D4E3"
           }
          },
          "shapedefaults": {
           "line": {
            "color": "#f2f5fa"
           }
          },
          "showlegend": true,
          "sliderdefaults": {
           "bgcolor": "#C8D4E3",
           "bordercolor": "rgb(17,17,17)",
           "borderwidth": 1,
           "tickwidth": 0
          },
          "ternary": {
           "aaxis": {
            "gridcolor": "#506784",
            "linecolor": "#506784",
            "ticks": ""
           },
           "baxis": {
            "gridcolor": "#506784",
            "linecolor": "#506784",
            "ticks": ""
           },
           "bgcolor": "rgb(17,17,17)",
           "caxis": {
            "gridcolor": "#506784",
            "linecolor": "#506784",
            "ticks": ""
           }
          },
          "title": {
           "x": 0.05
          },
          "updatemenudefaults": {
           "bgcolor": "#506784",
           "borderwidth": 0
          },
          "width": 1000,
          "xaxis": {
           "automargin": true,
           "gridcolor": "#283442",
           "linecolor": "#506784",
           "ticks": "",
           "title": {
            "standoff": 15
           },
           "zerolinecolor": "#283442",
           "zerolinewidth": 2
          },
          "yaxis": {
           "automargin": true,
           "gridcolor": "#283442",
           "linecolor": "#506784",
           "ticks": "",
           "title": {
            "standoff": 15
           },
           "zerolinecolor": "#283442",
           "zerolinewidth": 2
          }
         }
        },
        "xaxis": {
         "anchor": "y",
         "domain": [
          0,
          0.49
         ],
         "title": {
          "text": "index"
         }
        },
        "xaxis2": {
         "anchor": "y2",
         "domain": [
          0.51,
          1
         ],
         "matches": "x",
         "title": {
          "text": "index"
         }
        },
        "yaxis": {
         "anchor": "x",
         "domain": [
          0,
          1
         ],
         "title": {
          "text": "value"
         }
        },
        "yaxis2": {
         "anchor": "x2",
         "domain": [
          0,
          1
         ],
         "showticklabels": false
        }
       }
      }
     },
     "metadata": {},
     "output_type": "display_data"
    }
   ],
   "source": [
    "fig = df.plot(facet_col = 'variable')\n",
    "fig.update_yaxes(matches=None)"
   ]
  },
  {
   "cell_type": "code",
   "execution_count": 60,
   "id": "a6915639",
   "metadata": {},
   "outputs": [
    {
     "data": {
      "text/plain": [
       "(np.float64(-1.8549921957299533),\n",
       " np.float64(0.35352116777130144),\n",
       " 12,\n",
       " 130,\n",
       " {'1%': np.float64(-3.4816817173418295),\n",
       "  '5%': np.float64(-2.8840418343195267),\n",
       "  '10%': np.float64(-2.578770059171598)},\n",
       " np.float64(-440.29474279152817))"
      ]
     },
     "execution_count": 60,
     "metadata": {},
     "output_type": "execute_result"
    }
   ],
   "source": [
    "from statsmodels.tsa.stattools import adfuller\n",
    "adfuller(x=df['values'], maxlag=12)"
   ]
  },
  {
   "cell_type": "code",
   "execution_count": 61,
   "id": "75145ddf",
   "metadata": {},
   "outputs": [
    {
     "data": {
      "text/plain": [
       "(np.float64(-3.0530320109154627),\n",
       " np.float64(0.030229987648696697),\n",
       " 12,\n",
       " 130,\n",
       " {'1%': np.float64(-3.4816817173418295),\n",
       "  '5%': np.float64(-2.8840418343195267),\n",
       "  '10%': np.float64(-2.578770059171598)},\n",
       " np.float64(-448.718127711991))"
      ]
     },
     "execution_count": 61,
     "metadata": {},
     "output_type": "execute_result"
    }
   ],
   "source": [
    "adfuller(x=df['series_diff'],maxlag=12)"
   ]
  }
 ],
 "metadata": {
  "kernelspec": {
   "display_name": "base",
   "language": "python",
   "name": "python3"
  },
  "language_info": {
   "codemirror_mode": {
    "name": "ipython",
    "version": 3
   },
   "file_extension": ".py",
   "mimetype": "text/x-python",
   "name": "python",
   "nbconvert_exporter": "python",
   "pygments_lexer": "ipython3",
   "version": "3.13.5"
  }
 },
 "nbformat": 4,
 "nbformat_minor": 5
}
