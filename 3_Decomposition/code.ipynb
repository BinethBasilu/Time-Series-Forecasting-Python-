{
 "cells": [
  {
   "cell_type": "code",
   "execution_count": 1,
   "id": "f7ef5073",
   "metadata": {},
   "outputs": [],
   "source": [
    "path = '../data/fuel_type_data_california.parquet'"
   ]
  },
  {
   "cell_type": "code",
   "execution_count": 2,
   "id": "09dc7358",
   "metadata": {},
   "outputs": [],
   "source": [
    "import pandas as pd"
   ]
  },
  {
   "cell_type": "code",
   "execution_count": 3,
   "id": "2d964876",
   "metadata": {},
   "outputs": [
    {
     "data": {
      "text/html": [
       "<div>\n",
       "<style scoped>\n",
       "    .dataframe tbody tr th:only-of-type {\n",
       "        vertical-align: middle;\n",
       "    }\n",
       "\n",
       "    .dataframe tbody tr th {\n",
       "        vertical-align: top;\n",
       "    }\n",
       "\n",
       "    .dataframe thead th {\n",
       "        text-align: right;\n",
       "    }\n",
       "</style>\n",
       "<table border=\"1\" class=\"dataframe\">\n",
       "  <thead>\n",
       "    <tr style=\"text-align: right;\">\n",
       "      <th></th>\n",
       "      <th>period</th>\n",
       "      <th>respondent</th>\n",
       "      <th>respondent-name</th>\n",
       "      <th>fueltype</th>\n",
       "      <th>type-name</th>\n",
       "      <th>value</th>\n",
       "      <th>value-units</th>\n",
       "    </tr>\n",
       "  </thead>\n",
       "  <tbody>\n",
       "    <tr>\n",
       "      <th>0</th>\n",
       "      <td>2025-04-22 20:00:00-07:00</td>\n",
       "      <td>CAL</td>\n",
       "      <td>California</td>\n",
       "      <td>BAT</td>\n",
       "      <td>Battery storage</td>\n",
       "      <td>179</td>\n",
       "      <td>megawatthours</td>\n",
       "    </tr>\n",
       "    <tr>\n",
       "      <th>1</th>\n",
       "      <td>2025-04-22 20:00:00-07:00</td>\n",
       "      <td>CAL</td>\n",
       "      <td>California</td>\n",
       "      <td>COL</td>\n",
       "      <td>Coal</td>\n",
       "      <td>216</td>\n",
       "      <td>megawatthours</td>\n",
       "    </tr>\n",
       "    <tr>\n",
       "      <th>2</th>\n",
       "      <td>2025-04-22 20:00:00-07:00</td>\n",
       "      <td>CAL</td>\n",
       "      <td>California</td>\n",
       "      <td>GEO</td>\n",
       "      <td>Geothermal</td>\n",
       "      <td>457</td>\n",
       "      <td>megawatthours</td>\n",
       "    </tr>\n",
       "    <tr>\n",
       "      <th>3</th>\n",
       "      <td>2025-04-22 20:00:00-07:00</td>\n",
       "      <td>CAL</td>\n",
       "      <td>California</td>\n",
       "      <td>NG</td>\n",
       "      <td>Natural Gas</td>\n",
       "      <td>8601</td>\n",
       "      <td>megawatthours</td>\n",
       "    </tr>\n",
       "    <tr>\n",
       "      <th>4</th>\n",
       "      <td>2025-04-22 20:00:00-07:00</td>\n",
       "      <td>CAL</td>\n",
       "      <td>California</td>\n",
       "      <td>NUC</td>\n",
       "      <td>Nuclear</td>\n",
       "      <td>1134</td>\n",
       "      <td>megawatthours</td>\n",
       "    </tr>\n",
       "    <tr>\n",
       "      <th>...</th>\n",
       "      <td>...</td>\n",
       "      <td>...</td>\n",
       "      <td>...</td>\n",
       "      <td>...</td>\n",
       "      <td>...</td>\n",
       "      <td>...</td>\n",
       "      <td>...</td>\n",
       "    </tr>\n",
       "    <tr>\n",
       "      <th>452543</th>\n",
       "      <td>2018-12-31 17:00:00-07:00</td>\n",
       "      <td>CAL</td>\n",
       "      <td>California</td>\n",
       "      <td>OIL</td>\n",
       "      <td>Petroleum</td>\n",
       "      <td>88</td>\n",
       "      <td>megawatthours</td>\n",
       "    </tr>\n",
       "    <tr>\n",
       "      <th>452544</th>\n",
       "      <td>2018-12-31 17:00:00-07:00</td>\n",
       "      <td>CAL</td>\n",
       "      <td>California</td>\n",
       "      <td>OTH</td>\n",
       "      <td>Other</td>\n",
       "      <td>697</td>\n",
       "      <td>megawatthours</td>\n",
       "    </tr>\n",
       "    <tr>\n",
       "      <th>452545</th>\n",
       "      <td>2018-12-31 17:00:00-07:00</td>\n",
       "      <td>CAL</td>\n",
       "      <td>California</td>\n",
       "      <td>SUN</td>\n",
       "      <td>Solar</td>\n",
       "      <td>1595</td>\n",
       "      <td>megawatthours</td>\n",
       "    </tr>\n",
       "    <tr>\n",
       "      <th>452546</th>\n",
       "      <td>2018-12-31 17:00:00-07:00</td>\n",
       "      <td>CAL</td>\n",
       "      <td>California</td>\n",
       "      <td>WAT</td>\n",
       "      <td>Hydro</td>\n",
       "      <td>2880</td>\n",
       "      <td>megawatthours</td>\n",
       "    </tr>\n",
       "    <tr>\n",
       "      <th>452547</th>\n",
       "      <td>2018-12-31 17:00:00-07:00</td>\n",
       "      <td>CAL</td>\n",
       "      <td>California</td>\n",
       "      <td>WND</td>\n",
       "      <td>Wind</td>\n",
       "      <td>2628</td>\n",
       "      <td>megawatthours</td>\n",
       "    </tr>\n",
       "  </tbody>\n",
       "</table>\n",
       "<p>452548 rows × 7 columns</p>\n",
       "</div>"
      ],
      "text/plain": [
       "                          period respondent respondent-name fueltype  \\\n",
       "0      2025-04-22 20:00:00-07:00        CAL      California      BAT   \n",
       "1      2025-04-22 20:00:00-07:00        CAL      California      COL   \n",
       "2      2025-04-22 20:00:00-07:00        CAL      California      GEO   \n",
       "3      2025-04-22 20:00:00-07:00        CAL      California       NG   \n",
       "4      2025-04-22 20:00:00-07:00        CAL      California      NUC   \n",
       "...                          ...        ...             ...      ...   \n",
       "452543 2018-12-31 17:00:00-07:00        CAL      California      OIL   \n",
       "452544 2018-12-31 17:00:00-07:00        CAL      California      OTH   \n",
       "452545 2018-12-31 17:00:00-07:00        CAL      California      SUN   \n",
       "452546 2018-12-31 17:00:00-07:00        CAL      California      WAT   \n",
       "452547 2018-12-31 17:00:00-07:00        CAL      California      WND   \n",
       "\n",
       "              type-name  value    value-units  \n",
       "0       Battery storage    179  megawatthours  \n",
       "1                  Coal    216  megawatthours  \n",
       "2            Geothermal    457  megawatthours  \n",
       "3           Natural Gas   8601  megawatthours  \n",
       "4               Nuclear   1134  megawatthours  \n",
       "...                 ...    ...            ...  \n",
       "452543        Petroleum     88  megawatthours  \n",
       "452544            Other    697  megawatthours  \n",
       "452545            Solar   1595  megawatthours  \n",
       "452546            Hydro   2880  megawatthours  \n",
       "452547             Wind   2628  megawatthours  \n",
       "\n",
       "[452548 rows x 7 columns]"
      ]
     },
     "execution_count": 3,
     "metadata": {},
     "output_type": "execute_result"
    }
   ],
   "source": [
    "df_d = pd.read_parquet(path)\n",
    "df_d"
   ]
  },
  {
   "cell_type": "code",
   "execution_count": 4,
   "id": "212440d3",
   "metadata": {},
   "outputs": [
    {
     "data": {
      "text/html": [
       "<style type=\"text/css\">\n",
       "</style>\n",
       "<table id=\"T_2ae00\">\n",
       "  <thead>\n",
       "    <tr>\n",
       "      <th class=\"blank level0\" >&nbsp;</th>\n",
       "      <th id=\"T_2ae00_level0_col0\" class=\"col_heading level0 col0\" >fueltype</th>\n",
       "      <th id=\"T_2ae00_level0_col1\" class=\"col_heading level0 col1\" >type-name</th>\n",
       "    </tr>\n",
       "  </thead>\n",
       "  <tbody>\n",
       "    <tr>\n",
       "      <th id=\"T_2ae00_level0_row0\" class=\"row_heading level0 row0\" >0</th>\n",
       "      <td id=\"T_2ae00_row0_col0\" class=\"data row0 col0\" >BAT</td>\n",
       "      <td id=\"T_2ae00_row0_col1\" class=\"data row0 col1\" >Battery storage</td>\n",
       "    </tr>\n",
       "    <tr>\n",
       "      <th id=\"T_2ae00_level0_row1\" class=\"row_heading level0 row1\" >1</th>\n",
       "      <td id=\"T_2ae00_row1_col0\" class=\"data row1 col0\" >COL</td>\n",
       "      <td id=\"T_2ae00_row1_col1\" class=\"data row1 col1\" >Coal</td>\n",
       "    </tr>\n",
       "    <tr>\n",
       "      <th id=\"T_2ae00_level0_row2\" class=\"row_heading level0 row2\" >2</th>\n",
       "      <td id=\"T_2ae00_row2_col0\" class=\"data row2 col0\" >GEO</td>\n",
       "      <td id=\"T_2ae00_row2_col1\" class=\"data row2 col1\" >Geothermal</td>\n",
       "    </tr>\n",
       "    <tr>\n",
       "      <th id=\"T_2ae00_level0_row3\" class=\"row_heading level0 row3\" >3</th>\n",
       "      <td id=\"T_2ae00_row3_col0\" class=\"data row3 col0\" >NG</td>\n",
       "      <td id=\"T_2ae00_row3_col1\" class=\"data row3 col1\" >Natural Gas</td>\n",
       "    </tr>\n",
       "    <tr>\n",
       "      <th id=\"T_2ae00_level0_row4\" class=\"row_heading level0 row4\" >4</th>\n",
       "      <td id=\"T_2ae00_row4_col0\" class=\"data row4 col0\" >NUC</td>\n",
       "      <td id=\"T_2ae00_row4_col1\" class=\"data row4 col1\" >Nuclear</td>\n",
       "    </tr>\n",
       "    <tr>\n",
       "      <th id=\"T_2ae00_level0_row5\" class=\"row_heading level0 row5\" >5</th>\n",
       "      <td id=\"T_2ae00_row5_col0\" class=\"data row5 col0\" >OIL</td>\n",
       "      <td id=\"T_2ae00_row5_col1\" class=\"data row5 col1\" >Petroleum</td>\n",
       "    </tr>\n",
       "    <tr>\n",
       "      <th id=\"T_2ae00_level0_row6\" class=\"row_heading level0 row6\" >6</th>\n",
       "      <td id=\"T_2ae00_row6_col0\" class=\"data row6 col0\" >OTH</td>\n",
       "      <td id=\"T_2ae00_row6_col1\" class=\"data row6 col1\" >Other</td>\n",
       "    </tr>\n",
       "    <tr>\n",
       "      <th id=\"T_2ae00_level0_row7\" class=\"row_heading level0 row7\" >7</th>\n",
       "      <td id=\"T_2ae00_row7_col0\" class=\"data row7 col0\" >PS</td>\n",
       "      <td id=\"T_2ae00_row7_col1\" class=\"data row7 col1\" >Pumped storage</td>\n",
       "    </tr>\n",
       "    <tr>\n",
       "      <th id=\"T_2ae00_level0_row8\" class=\"row_heading level0 row8\" >8</th>\n",
       "      <td id=\"T_2ae00_row8_col0\" class=\"data row8 col0\" >SNB</td>\n",
       "      <td id=\"T_2ae00_row8_col1\" class=\"data row8 col1\" >Solar with integrated battery storage</td>\n",
       "    </tr>\n",
       "    <tr>\n",
       "      <th id=\"T_2ae00_level0_row9\" class=\"row_heading level0 row9\" >9</th>\n",
       "      <td id=\"T_2ae00_row9_col0\" class=\"data row9 col0\" >SUN</td>\n",
       "      <td id=\"T_2ae00_row9_col1\" class=\"data row9 col1\" >Solar</td>\n",
       "    </tr>\n",
       "    <tr>\n",
       "      <th id=\"T_2ae00_level0_row10\" class=\"row_heading level0 row10\" >10</th>\n",
       "      <td id=\"T_2ae00_row10_col0\" class=\"data row10 col0\" >WAT</td>\n",
       "      <td id=\"T_2ae00_row10_col1\" class=\"data row10 col1\" >Hydro</td>\n",
       "    </tr>\n",
       "    <tr>\n",
       "      <th id=\"T_2ae00_level0_row11\" class=\"row_heading level0 row11\" >11</th>\n",
       "      <td id=\"T_2ae00_row11_col0\" class=\"data row11 col0\" >WND</td>\n",
       "      <td id=\"T_2ae00_row11_col1\" class=\"data row11 col1\" >Wind</td>\n",
       "    </tr>\n",
       "  </tbody>\n",
       "</table>\n"
      ],
      "text/plain": [
       "<pandas.io.formats.style.Styler at 0x1d85ea53e00>"
      ]
     },
     "execution_count": 4,
     "metadata": {},
     "output_type": "execute_result"
    }
   ],
   "source": [
    "df_d[['fueltype', 'type-name']].drop_duplicates().style"
   ]
  },
  {
   "cell_type": "code",
   "execution_count": 5,
   "id": "987157a8",
   "metadata": {},
   "outputs": [
    {
     "data": {
      "text/html": [
       "<div>\n",
       "<style scoped>\n",
       "    .dataframe tbody tr th:only-of-type {\n",
       "        vertical-align: middle;\n",
       "    }\n",
       "\n",
       "    .dataframe tbody tr th {\n",
       "        vertical-align: top;\n",
       "    }\n",
       "\n",
       "    .dataframe thead th {\n",
       "        text-align: right;\n",
       "    }\n",
       "</style>\n",
       "<table border=\"1\" class=\"dataframe\">\n",
       "  <thead>\n",
       "    <tr style=\"text-align: right;\">\n",
       "      <th></th>\n",
       "      <th>value</th>\n",
       "    </tr>\n",
       "    <tr>\n",
       "      <th>period</th>\n",
       "      <th></th>\n",
       "    </tr>\n",
       "  </thead>\n",
       "  <tbody>\n",
       "    <tr>\n",
       "      <th>2019-01-31 00:00:00-07:00</th>\n",
       "      <td>1533631</td>\n",
       "    </tr>\n",
       "    <tr>\n",
       "      <th>2019-02-28 00:00:00-07:00</th>\n",
       "      <td>1681819</td>\n",
       "    </tr>\n",
       "    <tr>\n",
       "      <th>2019-03-31 00:00:00-07:00</th>\n",
       "      <td>2463585</td>\n",
       "    </tr>\n",
       "    <tr>\n",
       "      <th>2019-04-30 00:00:00-07:00</th>\n",
       "      <td>2901632</td>\n",
       "    </tr>\n",
       "    <tr>\n",
       "      <th>2019-05-31 00:00:00-07:00</th>\n",
       "      <td>3036029</td>\n",
       "    </tr>\n",
       "    <tr>\n",
       "      <th>...</th>\n",
       "      <td>...</td>\n",
       "    </tr>\n",
       "    <tr>\n",
       "      <th>2024-08-31 00:00:00-07:00</th>\n",
       "      <td>5529172</td>\n",
       "    </tr>\n",
       "    <tr>\n",
       "      <th>2024-09-30 00:00:00-07:00</th>\n",
       "      <td>4935014</td>\n",
       "    </tr>\n",
       "    <tr>\n",
       "      <th>2024-10-31 00:00:00-07:00</th>\n",
       "      <td>4141628</td>\n",
       "    </tr>\n",
       "    <tr>\n",
       "      <th>2024-11-30 00:00:00-07:00</th>\n",
       "      <td>2952150</td>\n",
       "    </tr>\n",
       "    <tr>\n",
       "      <th>2024-12-31 00:00:00-07:00</th>\n",
       "      <td>2669105</td>\n",
       "    </tr>\n",
       "  </tbody>\n",
       "</table>\n",
       "<p>72 rows × 1 columns</p>\n",
       "</div>"
      ],
      "text/plain": [
       "                             value\n",
       "period                            \n",
       "2019-01-31 00:00:00-07:00  1533631\n",
       "2019-02-28 00:00:00-07:00  1681819\n",
       "2019-03-31 00:00:00-07:00  2463585\n",
       "2019-04-30 00:00:00-07:00  2901632\n",
       "2019-05-31 00:00:00-07:00  3036029\n",
       "...                            ...\n",
       "2024-08-31 00:00:00-07:00  5529172\n",
       "2024-09-30 00:00:00-07:00  4935014\n",
       "2024-10-31 00:00:00-07:00  4141628\n",
       "2024-11-30 00:00:00-07:00  2952150\n",
       "2024-12-31 00:00:00-07:00  2669105\n",
       "\n",
       "[72 rows x 1 columns]"
      ]
     },
     "execution_count": 5,
     "metadata": {},
     "output_type": "execute_result"
    }
   ],
   "source": [
    "df = (df_d\n",
    ".query('fueltype==\"SUN\"')\n",
    ".set_index('period')['value'].to_frame()\n",
    ".sort_index()\n",
    ".loc['2019':'2024']\n",
    ".resample('ME')\n",
    ".sum()\n",
    ")\n",
    "df"
   ]
  },
  {
   "cell_type": "code",
   "execution_count": 6,
   "id": "b25509ce",
   "metadata": {},
   "outputs": [
    {
     "data": {
      "text/html": [
       "<div>\n",
       "<style scoped>\n",
       "    .dataframe tbody tr th:only-of-type {\n",
       "        vertical-align: middle;\n",
       "    }\n",
       "\n",
       "    .dataframe tbody tr th {\n",
       "        vertical-align: top;\n",
       "    }\n",
       "\n",
       "    .dataframe thead th {\n",
       "        text-align: right;\n",
       "    }\n",
       "</style>\n",
       "<table border=\"1\" class=\"dataframe\">\n",
       "  <thead>\n",
       "    <tr style=\"text-align: right;\">\n",
       "      <th></th>\n",
       "      <th>values</th>\n",
       "    </tr>\n",
       "    <tr>\n",
       "      <th>period</th>\n",
       "      <th></th>\n",
       "    </tr>\n",
       "  </thead>\n",
       "  <tbody>\n",
       "    <tr>\n",
       "      <th>2019-01-31 00:00:00-07:00</th>\n",
       "      <td>1533631</td>\n",
       "    </tr>\n",
       "    <tr>\n",
       "      <th>2019-02-28 00:00:00-07:00</th>\n",
       "      <td>1681819</td>\n",
       "    </tr>\n",
       "    <tr>\n",
       "      <th>2019-03-31 00:00:00-07:00</th>\n",
       "      <td>2463585</td>\n",
       "    </tr>\n",
       "    <tr>\n",
       "      <th>2019-04-30 00:00:00-07:00</th>\n",
       "      <td>2901632</td>\n",
       "    </tr>\n",
       "    <tr>\n",
       "      <th>2019-05-31 00:00:00-07:00</th>\n",
       "      <td>3036029</td>\n",
       "    </tr>\n",
       "    <tr>\n",
       "      <th>...</th>\n",
       "      <td>...</td>\n",
       "    </tr>\n",
       "    <tr>\n",
       "      <th>2024-08-31 00:00:00-07:00</th>\n",
       "      <td>5529172</td>\n",
       "    </tr>\n",
       "    <tr>\n",
       "      <th>2024-09-30 00:00:00-07:00</th>\n",
       "      <td>4935014</td>\n",
       "    </tr>\n",
       "    <tr>\n",
       "      <th>2024-10-31 00:00:00-07:00</th>\n",
       "      <td>4141628</td>\n",
       "    </tr>\n",
       "    <tr>\n",
       "      <th>2024-11-30 00:00:00-07:00</th>\n",
       "      <td>2952150</td>\n",
       "    </tr>\n",
       "    <tr>\n",
       "      <th>2024-12-31 00:00:00-07:00</th>\n",
       "      <td>2669105</td>\n",
       "    </tr>\n",
       "  </tbody>\n",
       "</table>\n",
       "<p>72 rows × 1 columns</p>\n",
       "</div>"
      ],
      "text/plain": [
       "                            values\n",
       "period                            \n",
       "2019-01-31 00:00:00-07:00  1533631\n",
       "2019-02-28 00:00:00-07:00  1681819\n",
       "2019-03-31 00:00:00-07:00  2463585\n",
       "2019-04-30 00:00:00-07:00  2901632\n",
       "2019-05-31 00:00:00-07:00  3036029\n",
       "...                            ...\n",
       "2024-08-31 00:00:00-07:00  5529172\n",
       "2024-09-30 00:00:00-07:00  4935014\n",
       "2024-10-31 00:00:00-07:00  4141628\n",
       "2024-11-30 00:00:00-07:00  2952150\n",
       "2024-12-31 00:00:00-07:00  2669105\n",
       "\n",
       "[72 rows x 1 columns]"
      ]
     },
     "execution_count": 6,
     "metadata": {},
     "output_type": "execute_result"
    }
   ],
   "source": [
    "df.columns = ['values']\n",
    "df"
   ]
  },
  {
   "cell_type": "code",
   "execution_count": 7,
   "id": "b5bf17d0",
   "metadata": {},
   "outputs": [
    {
     "data": {
      "text/plain": [
       "period\n",
       "2019-01-31 00:00:00-07:00    1533631\n",
       "2019-02-28 00:00:00-07:00    1681819\n",
       "2019-03-31 00:00:00-07:00    2463585\n",
       "2019-04-30 00:00:00-07:00    2901632\n",
       "2019-05-31 00:00:00-07:00    3036029\n",
       "                              ...   \n",
       "2024-08-31 00:00:00-07:00    5529172\n",
       "2024-09-30 00:00:00-07:00    4935014\n",
       "2024-10-31 00:00:00-07:00    4141628\n",
       "2024-11-30 00:00:00-07:00    2952150\n",
       "2024-12-31 00:00:00-07:00    2669105\n",
       "Freq: ME, Name: values, Length: 72, dtype: int64"
      ]
     },
     "execution_count": 7,
     "metadata": {},
     "output_type": "execute_result"
    }
   ],
   "source": [
    "series = df[\"values\"]\n",
    "series"
   ]
  },
  {
   "cell_type": "markdown",
   "id": "527f836c",
   "metadata": {},
   "source": [
    "#### Individual component behaviour based on model"
   ]
  },
  {
   "cell_type": "markdown",
   "id": "0267258f",
   "metadata": {},
   "source": [
    "###### componenets:<br>Trend(T)<br>Seasonality(s)<br>Residual or Irregular Component(I)\n",
    "\n",
    "###### Models:<br>Additive model:Yt = Tt+St+et<br>Multiplicative model: Yt = Tt*St*et "
   ]
  },
  {
   "cell_type": "code",
   "execution_count": 8,
   "id": "ce0beaac",
   "metadata": {},
   "outputs": [],
   "source": [
    "import statsmodels.api as sm"
   ]
  },
  {
   "cell_type": "code",
   "execution_count": 9,
   "id": "440460f2",
   "metadata": {},
   "outputs": [
    {
     "name": "stdout",
     "output_type": "stream",
     "text": [
      "\u001b[1;31mSignature:\u001b[0m\n",
      "\u001b[0msm\u001b[0m\u001b[1;33m.\u001b[0m\u001b[0mtsa\u001b[0m\u001b[1;33m.\u001b[0m\u001b[0mseasonal_decompose\u001b[0m\u001b[1;33m(\u001b[0m\u001b[1;33m\n",
      "\u001b[0m    \u001b[0mx\u001b[0m\u001b[1;33m,\u001b[0m\u001b[1;33m\n",
      "\u001b[0m    \u001b[0mmodel\u001b[0m\u001b[1;33m=\u001b[0m\u001b[1;34m'additive'\u001b[0m\u001b[1;33m,\u001b[0m\u001b[1;33m\n",
      "\u001b[0m    \u001b[0mfilt\u001b[0m\u001b[1;33m=\u001b[0m\u001b[1;32mNone\u001b[0m\u001b[1;33m,\u001b[0m\u001b[1;33m\n",
      "\u001b[0m    \u001b[0mperiod\u001b[0m\u001b[1;33m=\u001b[0m\u001b[1;32mNone\u001b[0m\u001b[1;33m,\u001b[0m\u001b[1;33m\n",
      "\u001b[0m    \u001b[0mtwo_sided\u001b[0m\u001b[1;33m=\u001b[0m\u001b[1;32mTrue\u001b[0m\u001b[1;33m,\u001b[0m\u001b[1;33m\n",
      "\u001b[0m    \u001b[0mextrapolate_trend\u001b[0m\u001b[1;33m=\u001b[0m\u001b[1;36m0\u001b[0m\u001b[1;33m,\u001b[0m\u001b[1;33m\n",
      "\u001b[0m\u001b[1;33m)\u001b[0m\u001b[1;33m\u001b[0m\u001b[1;33m\u001b[0m\u001b[0m\n",
      "\u001b[1;31mDocstring:\u001b[0m\n",
      "Seasonal decomposition using moving averages.\n",
      "\n",
      "Parameters\n",
      "----------\n",
      "x : array_like\n",
      "    Time series. If 2d, individual series are in columns. x must contain 2\n",
      "    complete cycles.\n",
      "model : {\"additive\", \"multiplicative\"}, optional\n",
      "    Type of seasonal component. Abbreviations are accepted.\n",
      "filt : array_like, optional\n",
      "    The filter coefficients for filtering out the seasonal component.\n",
      "    The concrete moving average method used in filtering is determined by\n",
      "    two_sided.\n",
      "period : int, optional\n",
      "    Period of the series (e.g., 1 for annual, 4 for quarterly, etc). Must\n",
      "    be used if x is not a pandas object or if the index of x does not have\n",
      "    a frequency. Overrides default periodicity of x if x is a pandas\n",
      "    object with a timeseries index.\n",
      "two_sided : bool, optional\n",
      "    The moving average method used in filtering.\n",
      "    If True (default), a centered moving average is computed using the\n",
      "    filt. If False, the filter coefficients are for past values only.\n",
      "extrapolate_trend : int or 'freq', optional\n",
      "    If set to > 0, the trend resulting from the convolution is\n",
      "    linear least-squares extrapolated on both ends (or the single one\n",
      "    if two_sided is False) considering this many (+1) closest points.\n",
      "    If set to 'freq', use `freq` closest points. Setting this parameter\n",
      "    results in no NaN values in trend or resid components.\n",
      "\n",
      "Returns\n",
      "-------\n",
      "DecomposeResult\n",
      "    A object with seasonal, trend, and resid attributes.\n",
      "\n",
      "See Also\n",
      "--------\n",
      "statsmodels.tsa.filters.bk_filter.bkfilter\n",
      "    Baxter-King filter.\n",
      "statsmodels.tsa.filters.cf_filter.cffilter\n",
      "    Christiano-Fitzgerald asymmetric, random walk filter.\n",
      "statsmodels.tsa.filters.hp_filter.hpfilter\n",
      "    Hodrick-Prescott filter.\n",
      "statsmodels.tsa.filters.convolution_filter\n",
      "    Linear filtering via convolution.\n",
      "statsmodels.tsa.seasonal.STL\n",
      "    Season-Trend decomposition using LOESS.\n",
      "\n",
      "Notes\n",
      "-----\n",
      "This is a naive decomposition. More sophisticated methods should\n",
      "be preferred.\n",
      "\n",
      "The additive model is Y[t] = T[t] + S[t] + e[t]\n",
      "\n",
      "The multiplicative model is Y[t] = T[t] * S[t] * e[t]\n",
      "\n",
      "The results are obtained by first estimating the trend by applying\n",
      "a convolution filter to the data. The trend is then removed from the\n",
      "series and the average of this de-trended series for each period is\n",
      "the returned seasonal component.\n",
      "\u001b[1;31mFile:\u001b[0m      c:\\users\\basil\\anaconda\\lib\\site-packages\\statsmodels\\tsa\\seasonal.py\n",
      "\u001b[1;31mType:\u001b[0m      function"
     ]
    }
   ],
   "source": [
    "sm.tsa.seasonal_decompose?"
   ]
  },
  {
   "cell_type": "markdown",
   "id": "9e69cedc",
   "metadata": {},
   "source": [
    "#### Additive Model"
   ]
  },
  {
   "cell_type": "code",
   "execution_count": 10,
   "id": "5a289fcd",
   "metadata": {},
   "outputs": [
    {
     "data": {
      "image/png": "[encoded data removed]",
      "text/plain": [
       "<Figure size 640x480 with 4 Axes>"
      ]
     },
     "metadata": {},
     "output_type": "display_data"
    }
   ],
   "source": [
    "result = sm.tsa.seasonal_decompose(series,model='additive',period=12)\n",
    "result.plot();"
   ]
  },
  {
   "cell_type": "code",
   "execution_count": 11,
   "id": "d7b950e1",
   "metadata": {},
   "outputs": [
    {
     "data": {
      "image/png": "[encoded data removed]",
      "text/plain": [
       "<Figure size 640x480 with 4 Axes>"
      ]
     },
     "metadata": {},
     "output_type": "display_data"
    }
   ],
   "source": [
    "result = sm.tsa.seasonal_decompose(series,model='multiplicative',period=12)\n",
    "result.plot();"
   ]
  },
  {
   "cell_type": "markdown",
   "id": "beb5e40c",
   "metadata": {},
   "source": [
    "#### Math calculation"
   ]
  },
  {
   "cell_type": "markdown",
   "id": "c7ed244f",
   "metadata": {},
   "source": [
    "##### Additive Model"
   ]
  },
  {
   "cell_type": "code",
   "execution_count": 12,
   "id": "4b997562",
   "metadata": {},
   "outputs": [
    {
     "data": {
      "text/plain": [
       "<statsmodels.tsa.seasonal.DecomposeResult at 0x1d8647c79d0>"
      ]
     },
     "execution_count": 12,
     "metadata": {},
     "output_type": "execute_result"
    }
   ],
   "source": [
    "result = sm.tsa.seasonal_decompose(series,model='additive',period=12)\n",
    "result"
   ]
  },
  {
   "cell_type": "code",
   "execution_count": 13,
   "id": "4f380c3e",
   "metadata": {},
   "outputs": [
    {
     "data": {
      "text/html": [
       "<div>\n",
       "<style scoped>\n",
       "    .dataframe tbody tr th:only-of-type {\n",
       "        vertical-align: middle;\n",
       "    }\n",
       "\n",
       "    .dataframe tbody tr th {\n",
       "        vertical-align: top;\n",
       "    }\n",
       "\n",
       "    .dataframe thead th {\n",
       "        text-align: right;\n",
       "    }\n",
       "</style>\n",
       "<table border=\"1\" class=\"dataframe\">\n",
       "  <thead>\n",
       "    <tr style=\"text-align: right;\">\n",
       "      <th></th>\n",
       "      <th>values</th>\n",
       "      <th>trend</th>\n",
       "      <th>seasonal</th>\n",
       "      <th>residual</th>\n",
       "    </tr>\n",
       "    <tr>\n",
       "      <th>period</th>\n",
       "      <th></th>\n",
       "      <th></th>\n",
       "      <th></th>\n",
       "      <th></th>\n",
       "    </tr>\n",
       "  </thead>\n",
       "  <tbody>\n",
       "    <tr>\n",
       "      <th>2019-07-31 00:00:00-07:00</th>\n",
       "      <td>3642935</td>\n",
       "      <td>2.627490e+06</td>\n",
       "      <td>1.079584e+06</td>\n",
       "      <td>-64138.611111</td>\n",
       "    </tr>\n",
       "    <tr>\n",
       "      <th>2019-08-31 00:00:00-07:00</th>\n",
       "      <td>3518060</td>\n",
       "      <td>2.656524e+06</td>\n",
       "      <td>7.548708e+05</td>\n",
       "      <td>106664.805556</td>\n",
       "    </tr>\n",
       "    <tr>\n",
       "      <th>2019-09-30 00:00:00-07:00</th>\n",
       "      <td>2955493</td>\n",
       "      <td>2.671304e+06</td>\n",
       "      <td>2.218577e+05</td>\n",
       "      <td>62330.847222</td>\n",
       "    </tr>\n",
       "    <tr>\n",
       "      <th>2019-10-31 00:00:00-07:00</th>\n",
       "      <td>3114174</td>\n",
       "      <td>2.659257e+06</td>\n",
       "      <td>-3.136406e+04</td>\n",
       "      <td>486281.063889</td>\n",
       "    </tr>\n",
       "    <tr>\n",
       "      <th>2019-11-30 00:00:00-07:00</th>\n",
       "      <td>1772165</td>\n",
       "      <td>2.672932e+06</td>\n",
       "      <td>-8.245175e+05</td>\n",
       "      <td>-76249.544444</td>\n",
       "    </tr>\n",
       "    <tr>\n",
       "      <th>2019-12-31 00:00:00-07:00</th>\n",
       "      <td>1246203</td>\n",
       "      <td>2.693040e+06</td>\n",
       "      <td>-1.436805e+06</td>\n",
       "      <td>-10032.319444</td>\n",
       "    </tr>\n",
       "    <tr>\n",
       "      <th>2020-01-31 00:00:00-07:00</th>\n",
       "      <td>1720159</td>\n",
       "      <td>2.707545e+06</td>\n",
       "      <td>-1.193623e+06</td>\n",
       "      <td>206237.097222</td>\n",
       "    </tr>\n",
       "    <tr>\n",
       "      <th>2020-02-29 00:00:00-07:00</th>\n",
       "      <td>2192122</td>\n",
       "      <td>2.714702e+06</td>\n",
       "      <td>-7.825423e+05</td>\n",
       "      <td>259962.388889</td>\n",
       "    </tr>\n",
       "    <tr>\n",
       "      <th>2020-03-31 00:00:00-07:00</th>\n",
       "      <td>2308003</td>\n",
       "      <td>2.700097e+06</td>\n",
       "      <td>-3.249668e+05</td>\n",
       "      <td>-67126.969444</td>\n",
       "    </tr>\n",
       "    <tr>\n",
       "      <th>2020-04-30 00:00:00-07:00</th>\n",
       "      <td>2768076</td>\n",
       "      <td>2.667874e+06</td>\n",
       "      <td>3.729425e+05</td>\n",
       "      <td>-272740.911111</td>\n",
       "    </tr>\n",
       "  </tbody>\n",
       "</table>\n",
       "</div>"
      ],
      "text/plain": [
       "                            values         trend      seasonal       residual\n",
       "period                                                                       \n",
       "2019-07-31 00:00:00-07:00  3642935  2.627490e+06  1.079584e+06  -64138.611111\n",
       "2019-08-31 00:00:00-07:00  3518060  2.656524e+06  7.548708e+05  106664.805556\n",
       "2019-09-30 00:00:00-07:00  2955493  2.671304e+06  2.218577e+05   62330.847222\n",
       "2019-10-31 00:00:00-07:00  3114174  2.659257e+06 -3.136406e+04  486281.063889\n",
       "2019-11-30 00:00:00-07:00  1772165  2.672932e+06 -8.245175e+05  -76249.544444\n",
       "2019-12-31 00:00:00-07:00  1246203  2.693040e+06 -1.436805e+06  -10032.319444\n",
       "2020-01-31 00:00:00-07:00  1720159  2.707545e+06 -1.193623e+06  206237.097222\n",
       "2020-02-29 00:00:00-07:00  2192122  2.714702e+06 -7.825423e+05  259962.388889\n",
       "2020-03-31 00:00:00-07:00  2308003  2.700097e+06 -3.249668e+05  -67126.969444\n",
       "2020-04-30 00:00:00-07:00  2768076  2.667874e+06  3.729425e+05 -272740.911111"
      ]
     },
     "execution_count": 13,
     "metadata": {},
     "output_type": "execute_result"
    }
   ],
   "source": [
    "r = (df\n",
    " .assign(\n",
    "    trend = result.trend,\n",
    "    seasonal = result.seasonal,\n",
    "    residual = result.resid)\n",
    " .dropna())\n",
    "\n",
    "r.head(10)"
   ]
  },
  {
   "cell_type": "code",
   "execution_count": 14,
   "id": "63e5a55b",
   "metadata": {},
   "outputs": [
    {
     "data": {
      "text/html": [
       "<div>\n",
       "<style scoped>\n",
       "    .dataframe tbody tr th:only-of-type {\n",
       "        vertical-align: middle;\n",
       "    }\n",
       "\n",
       "    .dataframe tbody tr th {\n",
       "        vertical-align: top;\n",
       "    }\n",
       "\n",
       "    .dataframe thead th {\n",
       "        text-align: right;\n",
       "    }\n",
       "</style>\n",
       "<table border=\"1\" class=\"dataframe\">\n",
       "  <thead>\n",
       "    <tr style=\"text-align: right;\">\n",
       "      <th></th>\n",
       "      <th>values</th>\n",
       "      <th>trend</th>\n",
       "      <th>seasonal</th>\n",
       "      <th>residual</th>\n",
       "      <th>model_result</th>\n",
       "    </tr>\n",
       "    <tr>\n",
       "      <th>period</th>\n",
       "      <th></th>\n",
       "      <th></th>\n",
       "      <th></th>\n",
       "      <th></th>\n",
       "      <th></th>\n",
       "    </tr>\n",
       "  </thead>\n",
       "  <tbody>\n",
       "    <tr>\n",
       "      <th>2019-07-31 00:00:00-07:00</th>\n",
       "      <td>3642935</td>\n",
       "      <td>2.627490e+06</td>\n",
       "      <td>1.079584e+06</td>\n",
       "      <td>-64138.611111</td>\n",
       "      <td>3642935.0</td>\n",
       "    </tr>\n",
       "    <tr>\n",
       "      <th>2019-08-31 00:00:00-07:00</th>\n",
       "      <td>3518060</td>\n",
       "      <td>2.656524e+06</td>\n",
       "      <td>7.548708e+05</td>\n",
       "      <td>106664.805556</td>\n",
       "      <td>3518060.0</td>\n",
       "    </tr>\n",
       "    <tr>\n",
       "      <th>2019-09-30 00:00:00-07:00</th>\n",
       "      <td>2955493</td>\n",
       "      <td>2.671304e+06</td>\n",
       "      <td>2.218577e+05</td>\n",
       "      <td>62330.847222</td>\n",
       "      <td>2955493.0</td>\n",
       "    </tr>\n",
       "    <tr>\n",
       "      <th>2019-10-31 00:00:00-07:00</th>\n",
       "      <td>3114174</td>\n",
       "      <td>2.659257e+06</td>\n",
       "      <td>-3.136406e+04</td>\n",
       "      <td>486281.063889</td>\n",
       "      <td>3114174.0</td>\n",
       "    </tr>\n",
       "    <tr>\n",
       "      <th>2019-11-30 00:00:00-07:00</th>\n",
       "      <td>1772165</td>\n",
       "      <td>2.672932e+06</td>\n",
       "      <td>-8.245175e+05</td>\n",
       "      <td>-76249.544444</td>\n",
       "      <td>1772165.0</td>\n",
       "    </tr>\n",
       "    <tr>\n",
       "      <th>2019-12-31 00:00:00-07:00</th>\n",
       "      <td>1246203</td>\n",
       "      <td>2.693040e+06</td>\n",
       "      <td>-1.436805e+06</td>\n",
       "      <td>-10032.319444</td>\n",
       "      <td>1246203.0</td>\n",
       "    </tr>\n",
       "    <tr>\n",
       "      <th>2020-01-31 00:00:00-07:00</th>\n",
       "      <td>1720159</td>\n",
       "      <td>2.707545e+06</td>\n",
       "      <td>-1.193623e+06</td>\n",
       "      <td>206237.097222</td>\n",
       "      <td>1720159.0</td>\n",
       "    </tr>\n",
       "    <tr>\n",
       "      <th>2020-02-29 00:00:00-07:00</th>\n",
       "      <td>2192122</td>\n",
       "      <td>2.714702e+06</td>\n",
       "      <td>-7.825423e+05</td>\n",
       "      <td>259962.388889</td>\n",
       "      <td>2192122.0</td>\n",
       "    </tr>\n",
       "    <tr>\n",
       "      <th>2020-03-31 00:00:00-07:00</th>\n",
       "      <td>2308003</td>\n",
       "      <td>2.700097e+06</td>\n",
       "      <td>-3.249668e+05</td>\n",
       "      <td>-67126.969444</td>\n",
       "      <td>2308003.0</td>\n",
       "    </tr>\n",
       "    <tr>\n",
       "      <th>2020-04-30 00:00:00-07:00</th>\n",
       "      <td>2768076</td>\n",
       "      <td>2.667874e+06</td>\n",
       "      <td>3.729425e+05</td>\n",
       "      <td>-272740.911111</td>\n",
       "      <td>2768076.0</td>\n",
       "    </tr>\n",
       "  </tbody>\n",
       "</table>\n",
       "</div>"
      ],
      "text/plain": [
       "                            values         trend      seasonal       residual  \\\n",
       "period                                                                          \n",
       "2019-07-31 00:00:00-07:00  3642935  2.627490e+06  1.079584e+06  -64138.611111   \n",
       "2019-08-31 00:00:00-07:00  3518060  2.656524e+06  7.548708e+05  106664.805556   \n",
       "2019-09-30 00:00:00-07:00  2955493  2.671304e+06  2.218577e+05   62330.847222   \n",
       "2019-10-31 00:00:00-07:00  3114174  2.659257e+06 -3.136406e+04  486281.063889   \n",
       "2019-11-30 00:00:00-07:00  1772165  2.672932e+06 -8.245175e+05  -76249.544444   \n",
       "2019-12-31 00:00:00-07:00  1246203  2.693040e+06 -1.436805e+06  -10032.319444   \n",
       "2020-01-31 00:00:00-07:00  1720159  2.707545e+06 -1.193623e+06  206237.097222   \n",
       "2020-02-29 00:00:00-07:00  2192122  2.714702e+06 -7.825423e+05  259962.388889   \n",
       "2020-03-31 00:00:00-07:00  2308003  2.700097e+06 -3.249668e+05  -67126.969444   \n",
       "2020-04-30 00:00:00-07:00  2768076  2.667874e+06  3.729425e+05 -272740.911111   \n",
       "\n",
       "                           model_result  \n",
       "period                                   \n",
       "2019-07-31 00:00:00-07:00     3642935.0  \n",
       "2019-08-31 00:00:00-07:00     3518060.0  \n",
       "2019-09-30 00:00:00-07:00     2955493.0  \n",
       "2019-10-31 00:00:00-07:00     3114174.0  \n",
       "2019-11-30 00:00:00-07:00     1772165.0  \n",
       "2019-12-31 00:00:00-07:00     1246203.0  \n",
       "2020-01-31 00:00:00-07:00     1720159.0  \n",
       "2020-02-29 00:00:00-07:00     2192122.0  \n",
       "2020-03-31 00:00:00-07:00     2308003.0  \n",
       "2020-04-30 00:00:00-07:00     2768076.0  "
      ]
     },
     "execution_count": 14,
     "metadata": {},
     "output_type": "execute_result"
    }
   ],
   "source": [
    "r['model_result'] = r.trend + r.seasonal + r.residual\n",
    "r.head(10)"
   ]
  },
  {
   "cell_type": "code",
   "execution_count": 15,
   "id": "81be6b3c",
   "metadata": {},
   "outputs": [],
   "source": [
    "dfs={}"
   ]
  },
  {
   "cell_type": "code",
   "execution_count": 16,
   "id": "3d224982",
   "metadata": {},
   "outputs": [],
   "source": [
    "dfs['additive']=r"
   ]
  },
  {
   "cell_type": "markdown",
   "id": "99cae3d7",
   "metadata": {},
   "source": [
    "#### Multiplicative model"
   ]
  },
  {
   "cell_type": "code",
   "execution_count": 17,
   "id": "e0871e55",
   "metadata": {},
   "outputs": [],
   "source": [
    "result = sm.tsa.seasonal_decompose(series,model='multiplicative',period=12)\n"
   ]
  },
  {
   "cell_type": "code",
   "execution_count": 18,
   "id": "f33436f4",
   "metadata": {},
   "outputs": [
    {
     "data": {
      "text/html": [
       "<div>\n",
       "<style scoped>\n",
       "    .dataframe tbody tr th:only-of-type {\n",
       "        vertical-align: middle;\n",
       "    }\n",
       "\n",
       "    .dataframe tbody tr th {\n",
       "        vertical-align: top;\n",
       "    }\n",
       "\n",
       "    .dataframe thead th {\n",
       "        text-align: right;\n",
       "    }\n",
       "</style>\n",
       "<table border=\"1\" class=\"dataframe\">\n",
       "  <thead>\n",
       "    <tr style=\"text-align: right;\">\n",
       "      <th></th>\n",
       "      <th>values</th>\n",
       "      <th>trend</th>\n",
       "      <th>seasonal</th>\n",
       "      <th>residual</th>\n",
       "    </tr>\n",
       "    <tr>\n",
       "      <th>period</th>\n",
       "      <th></th>\n",
       "      <th></th>\n",
       "      <th></th>\n",
       "      <th></th>\n",
       "    </tr>\n",
       "  </thead>\n",
       "  <tbody>\n",
       "    <tr>\n",
       "      <th>2019-07-31 00:00:00-07:00</th>\n",
       "      <td>3642935</td>\n",
       "      <td>2.627490e+06</td>\n",
       "      <td>1.353946</td>\n",
       "      <td>1.024021</td>\n",
       "    </tr>\n",
       "    <tr>\n",
       "      <th>2019-08-31 00:00:00-07:00</th>\n",
       "      <td>3518060</td>\n",
       "      <td>2.656524e+06</td>\n",
       "      <td>1.246044</td>\n",
       "      <td>1.062811</td>\n",
       "    </tr>\n",
       "    <tr>\n",
       "      <th>2019-09-30 00:00:00-07:00</th>\n",
       "      <td>2955493</td>\n",
       "      <td>2.671304e+06</td>\n",
       "      <td>1.068914</td>\n",
       "      <td>1.035056</td>\n",
       "    </tr>\n",
       "    <tr>\n",
       "      <th>2019-10-31 00:00:00-07:00</th>\n",
       "      <td>3114174</td>\n",
       "      <td>2.659257e+06</td>\n",
       "      <td>0.992595</td>\n",
       "      <td>1.179806</td>\n",
       "    </tr>\n",
       "    <tr>\n",
       "      <th>2019-11-30 00:00:00-07:00</th>\n",
       "      <td>1772165</td>\n",
       "      <td>2.672932e+06</td>\n",
       "      <td>0.735015</td>\n",
       "      <td>0.902028</td>\n",
       "    </tr>\n",
       "    <tr>\n",
       "      <th>2019-12-31 00:00:00-07:00</th>\n",
       "      <td>1246203</td>\n",
       "      <td>2.693040e+06</td>\n",
       "      <td>0.546378</td>\n",
       "      <td>0.846940</td>\n",
       "    </tr>\n",
       "    <tr>\n",
       "      <th>2020-01-31 00:00:00-07:00</th>\n",
       "      <td>1720159</td>\n",
       "      <td>2.707545e+06</td>\n",
       "      <td>0.632452</td>\n",
       "      <td>1.004536</td>\n",
       "    </tr>\n",
       "    <tr>\n",
       "      <th>2020-02-29 00:00:00-07:00</th>\n",
       "      <td>2192122</td>\n",
       "      <td>2.714702e+06</td>\n",
       "      <td>0.766042</td>\n",
       "      <td>1.054120</td>\n",
       "    </tr>\n",
       "    <tr>\n",
       "      <th>2020-03-31 00:00:00-07:00</th>\n",
       "      <td>2308003</td>\n",
       "      <td>2.700097e+06</td>\n",
       "      <td>0.903809</td>\n",
       "      <td>0.945759</td>\n",
       "    </tr>\n",
       "    <tr>\n",
       "      <th>2020-04-30 00:00:00-07:00</th>\n",
       "      <td>2768076</td>\n",
       "      <td>2.667874e+06</td>\n",
       "      <td>1.112342</td>\n",
       "      <td>0.932769</td>\n",
       "    </tr>\n",
       "  </tbody>\n",
       "</table>\n",
       "</div>"
      ],
      "text/plain": [
       "                            values         trend  seasonal  residual\n",
       "period                                                              \n",
       "2019-07-31 00:00:00-07:00  3642935  2.627490e+06  1.353946  1.024021\n",
       "2019-08-31 00:00:00-07:00  3518060  2.656524e+06  1.246044  1.062811\n",
       "2019-09-30 00:00:00-07:00  2955493  2.671304e+06  1.068914  1.035056\n",
       "2019-10-31 00:00:00-07:00  3114174  2.659257e+06  0.992595  1.179806\n",
       "2019-11-30 00:00:00-07:00  1772165  2.672932e+06  0.735015  0.902028\n",
       "2019-12-31 00:00:00-07:00  1246203  2.693040e+06  0.546378  0.846940\n",
       "2020-01-31 00:00:00-07:00  1720159  2.707545e+06  0.632452  1.004536\n",
       "2020-02-29 00:00:00-07:00  2192122  2.714702e+06  0.766042  1.054120\n",
       "2020-03-31 00:00:00-07:00  2308003  2.700097e+06  0.903809  0.945759\n",
       "2020-04-30 00:00:00-07:00  2768076  2.667874e+06  1.112342  0.932769"
      ]
     },
     "execution_count": 18,
     "metadata": {},
     "output_type": "execute_result"
    }
   ],
   "source": [
    "r = (df\n",
    " .assign(\n",
    "    trend = result.trend,\n",
    "    seasonal = result.seasonal,\n",
    "    residual = result.resid)\n",
    " .dropna())\n",
    "r.head(10)"
   ]
  },
  {
   "cell_type": "code",
   "execution_count": 19,
   "id": "212c58ac",
   "metadata": {},
   "outputs": [
    {
     "data": {
      "text/html": [
       "<div>\n",
       "<style scoped>\n",
       "    .dataframe tbody tr th:only-of-type {\n",
       "        vertical-align: middle;\n",
       "    }\n",
       "\n",
       "    .dataframe tbody tr th {\n",
       "        vertical-align: top;\n",
       "    }\n",
       "\n",
       "    .dataframe thead th {\n",
       "        text-align: right;\n",
       "    }\n",
       "</style>\n",
       "<table border=\"1\" class=\"dataframe\">\n",
       "  <thead>\n",
       "    <tr style=\"text-align: right;\">\n",
       "      <th></th>\n",
       "      <th>values</th>\n",
       "      <th>trend</th>\n",
       "      <th>seasonal</th>\n",
       "      <th>residual</th>\n",
       "      <th>model_result</th>\n",
       "    </tr>\n",
       "    <tr>\n",
       "      <th>period</th>\n",
       "      <th></th>\n",
       "      <th></th>\n",
       "      <th></th>\n",
       "      <th></th>\n",
       "      <th></th>\n",
       "    </tr>\n",
       "  </thead>\n",
       "  <tbody>\n",
       "    <tr>\n",
       "      <th>2019-07-31 00:00:00-07:00</th>\n",
       "      <td>3642935</td>\n",
       "      <td>2.627490e+06</td>\n",
       "      <td>1.353946</td>\n",
       "      <td>1.024021</td>\n",
       "      <td>3642935.0</td>\n",
       "    </tr>\n",
       "    <tr>\n",
       "      <th>2019-08-31 00:00:00-07:00</th>\n",
       "      <td>3518060</td>\n",
       "      <td>2.656524e+06</td>\n",
       "      <td>1.246044</td>\n",
       "      <td>1.062811</td>\n",
       "      <td>3518060.0</td>\n",
       "    </tr>\n",
       "    <tr>\n",
       "      <th>2019-09-30 00:00:00-07:00</th>\n",
       "      <td>2955493</td>\n",
       "      <td>2.671304e+06</td>\n",
       "      <td>1.068914</td>\n",
       "      <td>1.035056</td>\n",
       "      <td>2955493.0</td>\n",
       "    </tr>\n",
       "    <tr>\n",
       "      <th>2019-10-31 00:00:00-07:00</th>\n",
       "      <td>3114174</td>\n",
       "      <td>2.659257e+06</td>\n",
       "      <td>0.992595</td>\n",
       "      <td>1.179806</td>\n",
       "      <td>3114174.0</td>\n",
       "    </tr>\n",
       "    <tr>\n",
       "      <th>2019-11-30 00:00:00-07:00</th>\n",
       "      <td>1772165</td>\n",
       "      <td>2.672932e+06</td>\n",
       "      <td>0.735015</td>\n",
       "      <td>0.902028</td>\n",
       "      <td>1772165.0</td>\n",
       "    </tr>\n",
       "    <tr>\n",
       "      <th>2019-12-31 00:00:00-07:00</th>\n",
       "      <td>1246203</td>\n",
       "      <td>2.693040e+06</td>\n",
       "      <td>0.546378</td>\n",
       "      <td>0.846940</td>\n",
       "      <td>1246203.0</td>\n",
       "    </tr>\n",
       "    <tr>\n",
       "      <th>2020-01-31 00:00:00-07:00</th>\n",
       "      <td>1720159</td>\n",
       "      <td>2.707545e+06</td>\n",
       "      <td>0.632452</td>\n",
       "      <td>1.004536</td>\n",
       "      <td>1720159.0</td>\n",
       "    </tr>\n",
       "    <tr>\n",
       "      <th>2020-02-29 00:00:00-07:00</th>\n",
       "      <td>2192122</td>\n",
       "      <td>2.714702e+06</td>\n",
       "      <td>0.766042</td>\n",
       "      <td>1.054120</td>\n",
       "      <td>2192122.0</td>\n",
       "    </tr>\n",
       "    <tr>\n",
       "      <th>2020-03-31 00:00:00-07:00</th>\n",
       "      <td>2308003</td>\n",
       "      <td>2.700097e+06</td>\n",
       "      <td>0.903809</td>\n",
       "      <td>0.945759</td>\n",
       "      <td>2308003.0</td>\n",
       "    </tr>\n",
       "    <tr>\n",
       "      <th>2020-04-30 00:00:00-07:00</th>\n",
       "      <td>2768076</td>\n",
       "      <td>2.667874e+06</td>\n",
       "      <td>1.112342</td>\n",
       "      <td>0.932769</td>\n",
       "      <td>2768076.0</td>\n",
       "    </tr>\n",
       "  </tbody>\n",
       "</table>\n",
       "</div>"
      ],
      "text/plain": [
       "                            values         trend  seasonal  residual  \\\n",
       "period                                                                 \n",
       "2019-07-31 00:00:00-07:00  3642935  2.627490e+06  1.353946  1.024021   \n",
       "2019-08-31 00:00:00-07:00  3518060  2.656524e+06  1.246044  1.062811   \n",
       "2019-09-30 00:00:00-07:00  2955493  2.671304e+06  1.068914  1.035056   \n",
       "2019-10-31 00:00:00-07:00  3114174  2.659257e+06  0.992595  1.179806   \n",
       "2019-11-30 00:00:00-07:00  1772165  2.672932e+06  0.735015  0.902028   \n",
       "2019-12-31 00:00:00-07:00  1246203  2.693040e+06  0.546378  0.846940   \n",
       "2020-01-31 00:00:00-07:00  1720159  2.707545e+06  0.632452  1.004536   \n",
       "2020-02-29 00:00:00-07:00  2192122  2.714702e+06  0.766042  1.054120   \n",
       "2020-03-31 00:00:00-07:00  2308003  2.700097e+06  0.903809  0.945759   \n",
       "2020-04-30 00:00:00-07:00  2768076  2.667874e+06  1.112342  0.932769   \n",
       "\n",
       "                           model_result  \n",
       "period                                   \n",
       "2019-07-31 00:00:00-07:00     3642935.0  \n",
       "2019-08-31 00:00:00-07:00     3518060.0  \n",
       "2019-09-30 00:00:00-07:00     2955493.0  \n",
       "2019-10-31 00:00:00-07:00     3114174.0  \n",
       "2019-11-30 00:00:00-07:00     1772165.0  \n",
       "2019-12-31 00:00:00-07:00     1246203.0  \n",
       "2020-01-31 00:00:00-07:00     1720159.0  \n",
       "2020-02-29 00:00:00-07:00     2192122.0  \n",
       "2020-03-31 00:00:00-07:00     2308003.0  \n",
       "2020-04-30 00:00:00-07:00     2768076.0  "
      ]
     },
     "execution_count": 19,
     "metadata": {},
     "output_type": "execute_result"
    }
   ],
   "source": [
    "r['model_result'] = r.trend*r.seasonal*r.residual\n",
    "r.head(10)"
   ]
  },
  {
   "cell_type": "code",
   "execution_count": 20,
   "id": "d393bbaf",
   "metadata": {},
   "outputs": [],
   "source": [
    "\n",
    "dfs['multiplicative'] = r"
   ]
  },
  {
   "cell_type": "markdown",
   "id": "3cbb137f",
   "metadata": {},
   "source": [
    "#### Visual comparison"
   ]
  },
  {
   "cell_type": "code",
   "execution_count": 21,
   "id": "c5eec582",
   "metadata": {},
   "outputs": [
    {
     "data": {
      "text/html": [
       "<div>\n",
       "<style scoped>\n",
       "    .dataframe tbody tr th:only-of-type {\n",
       "        vertical-align: middle;\n",
       "    }\n",
       "\n",
       "    .dataframe tbody tr th {\n",
       "        vertical-align: top;\n",
       "    }\n",
       "\n",
       "    .dataframe thead th {\n",
       "        text-align: right;\n",
       "    }\n",
       "</style>\n",
       "<table border=\"1\" class=\"dataframe\">\n",
       "  <thead>\n",
       "    <tr style=\"text-align: right;\">\n",
       "      <th></th>\n",
       "      <th>month</th>\n",
       "      <th>model</th>\n",
       "      <th>component</th>\n",
       "      <th>value</th>\n",
       "    </tr>\n",
       "  </thead>\n",
       "  <tbody>\n",
       "    <tr>\n",
       "      <th>0</th>\n",
       "      <td>2019-07-31 00:00:00-07:00</td>\n",
       "      <td>additive</td>\n",
       "      <td>values</td>\n",
       "      <td>3642935.0</td>\n",
       "    </tr>\n",
       "    <tr>\n",
       "      <th>1</th>\n",
       "      <td>2019-08-31 00:00:00-07:00</td>\n",
       "      <td>additive</td>\n",
       "      <td>values</td>\n",
       "      <td>3518060.0</td>\n",
       "    </tr>\n",
       "    <tr>\n",
       "      <th>2</th>\n",
       "      <td>2019-09-30 00:00:00-07:00</td>\n",
       "      <td>additive</td>\n",
       "      <td>values</td>\n",
       "      <td>2955493.0</td>\n",
       "    </tr>\n",
       "    <tr>\n",
       "      <th>3</th>\n",
       "      <td>2019-10-31 00:00:00-07:00</td>\n",
       "      <td>additive</td>\n",
       "      <td>values</td>\n",
       "      <td>3114174.0</td>\n",
       "    </tr>\n",
       "    <tr>\n",
       "      <th>4</th>\n",
       "      <td>2019-11-30 00:00:00-07:00</td>\n",
       "      <td>additive</td>\n",
       "      <td>values</td>\n",
       "      <td>1772165.0</td>\n",
       "    </tr>\n",
       "    <tr>\n",
       "      <th>...</th>\n",
       "      <td>...</td>\n",
       "      <td>...</td>\n",
       "      <td>...</td>\n",
       "      <td>...</td>\n",
       "    </tr>\n",
       "    <tr>\n",
       "      <th>595</th>\n",
       "      <td>2024-02-29 00:00:00-07:00</td>\n",
       "      <td>multiplicative</td>\n",
       "      <td>model_result</td>\n",
       "      <td>2685249.0</td>\n",
       "    </tr>\n",
       "    <tr>\n",
       "      <th>596</th>\n",
       "      <td>2024-03-31 00:00:00-07:00</td>\n",
       "      <td>multiplicative</td>\n",
       "      <td>model_result</td>\n",
       "      <td>3450581.0</td>\n",
       "    </tr>\n",
       "    <tr>\n",
       "      <th>597</th>\n",
       "      <td>2024-04-30 00:00:00-07:00</td>\n",
       "      <td>multiplicative</td>\n",
       "      <td>model_result</td>\n",
       "      <td>4421340.0</td>\n",
       "    </tr>\n",
       "    <tr>\n",
       "      <th>598</th>\n",
       "      <td>2024-05-31 00:00:00-07:00</td>\n",
       "      <td>multiplicative</td>\n",
       "      <td>model_result</td>\n",
       "      <td>5449656.0</td>\n",
       "    </tr>\n",
       "    <tr>\n",
       "      <th>599</th>\n",
       "      <td>2024-06-30 00:00:00-07:00</td>\n",
       "      <td>multiplicative</td>\n",
       "      <td>model_result</td>\n",
       "      <td>5674214.0</td>\n",
       "    </tr>\n",
       "  </tbody>\n",
       "</table>\n",
       "<p>600 rows × 4 columns</p>\n",
       "</div>"
      ],
      "text/plain": [
       "                        month           model     component      value\n",
       "0   2019-07-31 00:00:00-07:00        additive        values  3642935.0\n",
       "1   2019-08-31 00:00:00-07:00        additive        values  3518060.0\n",
       "2   2019-09-30 00:00:00-07:00        additive        values  2955493.0\n",
       "3   2019-10-31 00:00:00-07:00        additive        values  3114174.0\n",
       "4   2019-11-30 00:00:00-07:00        additive        values  1772165.0\n",
       "..                        ...             ...           ...        ...\n",
       "595 2024-02-29 00:00:00-07:00  multiplicative  model_result  2685249.0\n",
       "596 2024-03-31 00:00:00-07:00  multiplicative  model_result  3450581.0\n",
       "597 2024-04-30 00:00:00-07:00  multiplicative  model_result  4421340.0\n",
       "598 2024-05-31 00:00:00-07:00  multiplicative  model_result  5449656.0\n",
       "599 2024-06-30 00:00:00-07:00  multiplicative  model_result  5674214.0\n",
       "\n",
       "[600 rows x 4 columns]"
      ]
     },
     "execution_count": 21,
     "metadata": {},
     "output_type": "execute_result"
    }
   ],
   "source": [
    "df = pd.concat(dfs, axis=1).melt(ignore_index=False).reset_index()\n",
    "df.columns = [\"month\",\"model\",\"component\",\"value\"]\n",
    "\n",
    "df"
   ]
  },
  {
   "cell_type": "code",
   "execution_count": 22,
   "id": "d3f3c3e4",
   "metadata": {},
   "outputs": [
    {
     "data": {
      "text/plain": [
       "array(['values', 'trend', 'seasonal', 'residual', 'model_result'],\n",
       "      dtype=object)"
      ]
     },
     "execution_count": 22,
     "metadata": {},
     "output_type": "execute_result"
    }
   ],
   "source": [
    "df['component'].unique()"
   ]
  },
  {
   "cell_type": "code",
   "execution_count": 23,
   "id": "fc23a27e",
   "metadata": {},
   "outputs": [
    {
     "data": {
      "application/vnd.plotly.v1+json": {
       "config": {
        "plotlyServerURL": "https://plot.ly"
       },
       "data": [
        {
         "hovertemplate": "component=values<br>model=additive<br>month=%{x}<br>value=%{y}<extra></extra>",
         "legendgroup": "values",
         "line": {
          "color": "#636efa",
          "dash": "solid"
         },
         "marker": {
          "symbol": "circle"
         },
         "mode": "lines",
         "name": "values",
         "orientation": "v",
         "showlegend": true,
         "type": "scatter",
         "x": [
          "2019-07-31T00:00:00-07:00",
          "2019-08-31T00:00:00-07:00",
          "2019-09-30T00:00:00-07:00",
          "2019-10-31T00:00:00-07:00",
          "2019-11-30T00:00:00-07:00",
          "2019-12-31T00:00:00-07:00",
          "2020-01-31T00:00:00-07:00",
          "2020-02-29T00:00:00-07:00",
          "2020-03-31T00:00:00-07:00",
          "2020-04-30T00:00:00-07:00",
          "2020-05-31T00:00:00-07:00",
          "2020-06-30T00:00:00-07:00",
          "2020-07-31T00:00:00-07:00",
          "2020-08-31T00:00:00-07:00",
          "2020-09-30T00:00:00-07:00",
          "2020-10-31T00:00:00-07:00",
          "2020-11-30T00:00:00-07:00",
          "2020-12-31T00:00:00-07:00",
          "2021-01-31T00:00:00-07:00",
          "2021-02-28T00:00:00-07:00",
          "2021-03-31T00:00:00-07:00",
          "2021-04-30T00:00:00-07:00",
          "2021-05-31T00:00:00-07:00",
          "2021-06-30T00:00:00-07:00",
          "2021-07-31T00:00:00-07:00",
          "2021-08-31T00:00:00-07:00",
          "2021-09-30T00:00:00-07:00",
          "2021-10-31T00:00:00-07:00",
          "2021-11-30T00:00:00-07:00",
          "2021-12-31T00:00:00-07:00",
          "2022-01-31T00:00:00-07:00",
          "2022-02-28T00:00:00-07:00",
          "2022-03-31T00:00:00-07:00",
          "2022-04-30T00:00:00-07:00",
          "2022-05-31T00:00:00-07:00",
          "2022-06-30T00:00:00-07:00",
          "2022-07-31T00:00:00-07:00",
          "2022-08-31T00:00:00-07:00",
          "2022-09-30T00:00:00-07:00",
          "2022-10-31T00:00:00-07:00",
          "2022-11-30T00:00:00-07:00",
          "2022-12-31T00:00:00-07:00",
          "2023-01-31T00:00:00-07:00",
          "2023-02-28T00:00:00-07:00",
          "2023-03-31T00:00:00-07:00",
          "2023-04-30T00:00:00-07:00",
          "2023-05-31T00:00:00-07:00",
          "2023-06-30T00:00:00-07:00",
          "2023-07-31T00:00:00-07:00",
          "2023-08-31T00:00:00-07:00",
          "2023-09-30T00:00:00-07:00",
          "2023-10-31T00:00:00-07:00",
          "2023-11-30T00:00:00-07:00",
          "2023-12-31T00:00:00-07:00",
          "2024-01-31T00:00:00-07:00",
          "2024-02-29T00:00:00-07:00",
          "2024-03-31T00:00:00-07:00",
          "2024-04-30T00:00:00-07:00",
          "2024-05-31T00:00:00-07:00",
          "2024-06-30T00:00:00-07:00"
         ],
         "xaxis": "x9",
         "y": [
          3642935,
          3518060,
          2955493,
          3114174,
          1772165,
          1246203,
          1720159,
          2192122,
          2308003,
          2768076,
          3497785,
          3591734,
          3970194,
          3362571,
          2760458,
          2535873,
          2132297,
          1784261,
          1919370,
          2440232,
          3084269,
          3774506,
          4095243,
          3991499,
          3811300,
          3778309,
          3340321,
          2829270,
          2334142,
          1603654,
          2266763,
          2671413,
          3355259,
          3782407,
          4463314,
          4595133,
          4466896,
          4157159,
          3548294,
          3294318,
          2573685,
          1849940,
          1983720,
          2418378,
          2663436,
          3730056,
          4326003,
          4653991,
          4889517,
          4415001,
          4044403,
          3713671,
          2873139,
          2328138,
          2301958,
          2685249,
          3450581,
          4421340,
          5449656,
          5674214
         ],
         "yaxis": "y9"
        },
        {
         "hovertemplate": "component=values<br>model=multiplicative<br>month=%{x}<br>value=%{y}<extra></extra>",
         "legendgroup": "values",
         "line": {
          "color": "#636efa",
          "dash": "solid"
         },
         "marker": {
          "symbol": "circle"
         },
         "mode": "lines",
         "name": "values",
         "orientation": "v",
         "showlegend": false,
         "type": "scatter",
         "x": [
          "2019-07-31T00:00:00-07:00",
          "2019-08-31T00:00:00-07:00",
          "2019-09-30T00:00:00-07:00",
          "2019-10-31T00:00:00-07:00",
          "2019-11-30T00:00:00-07:00",
          "2019-12-31T00:00:00-07:00",
          "2020-01-31T00:00:00-07:00",
          "2020-02-29T00:00:00-07:00",
          "2020-03-31T00:00:00-07:00",
          "2020-04-30T00:00:00-07:00",
          "2020-05-31T00:00:00-07:00",
          "2020-06-30T00:00:00-07:00",
          "2020-07-31T00:00:00-07:00",
          "2020-08-31T00:00:00-07:00",
          "2020-09-30T00:00:00-07:00",
          "2020-10-31T00:00:00-07:00",
          "2020-11-30T00:00:00-07:00",
          "2020-12-31T00:00:00-07:00",
          "2021-01-31T00:00:00-07:00",
          "2021-02-28T00:00:00-07:00",
          "2021-03-31T00:00:00-07:00",
          "2021-04-30T00:00:00-07:00",
          "2021-05-31T00:00:00-07:00",
          "2021-06-30T00:00:00-07:00",
          "2021-07-31T00:00:00-07:00",
          "2021-08-31T00:00:00-07:00",
          "2021-09-30T00:00:00-07:00",
          "2021-10-31T00:00:00-07:00",
          "2021-11-30T00:00:00-07:00",
          "2021-12-31T00:00:00-07:00",
          "2022-01-31T00:00:00-07:00",
          "2022-02-28T00:00:00-07:00",
          "2022-03-31T00:00:00-07:00",
          "2022-04-30T00:00:00-07:00",
          "2022-05-31T00:00:00-07:00",
          "2022-06-30T00:00:00-07:00",
          "2022-07-31T00:00:00-07:00",
          "2022-08-31T00:00:00-07:00",
          "2022-09-30T00:00:00-07:00",
          "2022-10-31T00:00:00-07:00",
          "2022-11-30T00:00:00-07:00",
          "2022-12-31T00:00:00-07:00",
          "2023-01-31T00:00:00-07:00",
          "2023-02-28T00:00:00-07:00",
          "2023-03-31T00:00:00-07:00",
          "2023-04-30T00:00:00-07:00",
          "2023-05-31T00:00:00-07:00",
          "2023-06-30T00:00:00-07:00",
          "2023-07-31T00:00:00-07:00",
          "2023-08-31T00:00:00-07:00",
          "2023-09-30T00:00:00-07:00",
          "2023-10-31T00:00:00-07:00",
          "2023-11-30T00:00:00-07:00",
          "2023-12-31T00:00:00-07:00",
          "2024-01-31T00:00:00-07:00",
          "2024-02-29T00:00:00-07:00",
          "2024-03-31T00:00:00-07:00",
          "2024-04-30T00:00:00-07:00",
          "2024-05-31T00:00:00-07:00",
          "2024-06-30T00:00:00-07:00"
         ],
         "xaxis": "x10",
         "y": [
          3642935,
          3518060,
          2955493,
          3114174,
          1772165,
          1246203,
          1720159,
          2192122,
          2308003,
          2768076,
          3497785,
          3591734,
          3970194,
          3362571,
          2760458,
          2535873,
          2132297,
          1784261,
          1919370,
          2440232,
          3084269,
          3774506,
          4095243,
          3991499,
          3811300,
          3778309,
          3340321,
          2829270,
          2334142,
          1603654,
          2266763,
          2671413,
          3355259,
          3782407,
          4463314,
          4595133,
          4466896,
          4157159,
          3548294,
          3294318,
          2573685,
          1849940,
          1983720,
          2418378,
          2663436,
          3730056,
          4326003,
          4653991,
          4889517,
          4415001,
          4044403,
          3713671,
          2873139,
          2328138,
          2301958,
          2685249,
          3450581,
          4421340,
          5449656,
          5674214
         ],
         "yaxis": "y10"
        },
        {
         "hovertemplate": "component=trend<br>model=additive<br>month=%{x}<br>value=%{y}<extra></extra>",
         "legendgroup": "trend",
         "line": {
          "color": "#EF553B",
          "dash": "solid"
         },
         "marker": {
          "symbol": "circle"
         },
         "mode": "lines",
         "name": "trend",
         "orientation": "v",
         "showlegend": true,
         "type": "scatter",
         "x": [
          "2019-07-31T00:00:00-07:00",
          "2019-08-31T00:00:00-07:00",
          "2019-09-30T00:00:00-07:00",
          "2019-10-31T00:00:00-07:00",
          "2019-11-30T00:00:00-07:00",
          "2019-12-31T00:00:00-07:00",
          "2020-01-31T00:00:00-07:00",
          "2020-02-29T00:00:00-07:00",
          "2020-03-31T00:00:00-07:00",
          "2020-04-30T00:00:00-07:00",
          "2020-05-31T00:00:00-07:00",
          "2020-06-30T00:00:00-07:00",
          "2020-07-31T00:00:00-07:00",
          "2020-08-31T00:00:00-07:00",
          "2020-09-30T00:00:00-07:00",
          "2020-10-31T00:00:00-07:00",
          "2020-11-30T00:00:00-07:00",
          "2020-12-31T00:00:00-07:00",
          "2021-01-31T00:00:00-07:00",
          "2021-02-28T00:00:00-07:00",
          "2021-03-31T00:00:00-07:00",
          "2021-04-30T00:00:00-07:00",
          "2021-05-31T00:00:00-07:00",
          "2021-06-30T00:00:00-07:00",
          "2021-07-31T00:00:00-07:00",
          "2021-08-31T00:00:00-07:00",
          "2021-09-30T00:00:00-07:00",
          "2021-10-31T00:00:00-07:00",
          "2021-11-30T00:00:00-07:00",
          "2021-12-31T00:00:00-07:00",
          "2022-01-31T00:00:00-07:00",
          "2022-02-28T00:00:00-07:00",
          "2022-03-31T00:00:00-07:00",
          "2022-04-30T00:00:00-07:00",
          "2022-05-31T00:00:00-07:00",
          "2022-06-30T00:00:00-07:00",
          "2022-07-31T00:00:00-07:00",
          "2022-08-31T00:00:00-07:00",
          "2022-09-30T00:00:00-07:00",
          "2022-10-31T00:00:00-07:00",
          "2022-11-30T00:00:00-07:00",
          "2022-12-31T00:00:00-07:00",
          "2023-01-31T00:00:00-07:00",
          "2023-02-28T00:00:00-07:00",
          "2023-03-31T00:00:00-07:00",
          "2023-04-30T00:00:00-07:00",
          "2023-05-31T00:00:00-07:00",
          "2023-06-30T00:00:00-07:00",
          "2023-07-31T00:00:00-07:00",
          "2023-08-31T00:00:00-07:00",
          "2023-09-30T00:00:00-07:00",
          "2023-10-31T00:00:00-07:00",
          "2023-11-30T00:00:00-07:00",
          "2023-12-31T00:00:00-07:00",
          "2024-01-31T00:00:00-07:00",
          "2024-02-29T00:00:00-07:00",
          "2024-03-31T00:00:00-07:00",
          "2024-04-30T00:00:00-07:00",
          "2024-05-31T00:00:00-07:00",
          "2024-06-30T00:00:00-07:00"
         ],
         "xaxis": "x7",
         "y": [
          2627489.75,
          2656524.375,
          2671304.4166666665,
          2659257,
          2672932,
          2693040.458333333,
          2707544.875,
          2714701.958333333,
          2700096.791666667,
          2667874.458333333,
          2658784.083333333,
          2696208.6666666665,
          2726928.208333333,
          2745566.583333333,
          2788248.916666667,
          2862527.9166666665,
          2929356.583333333,
          2970907.5416666665,
          2980943.833333333,
          2991645.6666666665,
          3033129.0416666665,
          3069514.875,
          3090149.958333333,
          3091034.875,
          3097984.2916666665,
          3122091.5416666665,
          3143015.333333333,
          3154635.7916666665,
          3170301.291666666,
          3210789,
          3263256.9166666665,
          3306358.833333333,
          3330809.7916666665,
          3358852.333333333,
          3388210.291666666,
          3408453.1666666665,
          3406921.625,
          3384585.0416666665,
          3345215.958333333,
          3314208.708333333,
          3306306.125,
          3303037.25,
          3323098.875,
          3351451.5,
          3382866.125,
          3421010.375,
          3450960.6666666665,
          3483362.833333333,
          3516547.6666666665,
          3540927.208333333,
          3584844.5416666665,
          3646445.75,
          3722068.1249999995,
          3811396.2916666665,
          3878189.208333333,
          3948896.6249999995,
          4032429.208333333,
          4087369.5416666665,
          4108493.208333333,
          4125992.2916666665
         ],
         "yaxis": "y7"
        },
        {
         "hovertemplate": "component=trend<br>model=multiplicative<br>month=%{x}<br>value=%{y}<extra></extra>",
         "legendgroup": "trend",
         "line": {
          "color": "#EF553B",
          "dash": "solid"
         },
         "marker": {
          "symbol": "circle"
         },
         "mode": "lines",
         "name": "trend",
         "orientation": "v",
         "showlegend": false,
         "type": "scatter",
         "x": [
          "2019-07-31T00:00:00-07:00",
          "2019-08-31T00:00:00-07:00",
          "2019-09-30T00:00:00-07:00",
          "2019-10-31T00:00:00-07:00",
          "2019-11-30T00:00:00-07:00",
          "2019-12-31T00:00:00-07:00",
          "2020-01-31T00:00:00-07:00",
          "2020-02-29T00:00:00-07:00",
          "2020-03-31T00:00:00-07:00",
          "2020-04-30T00:00:00-07:00",
          "2020-05-31T00:00:00-07:00",
          "2020-06-30T00:00:00-07:00",
          "2020-07-31T00:00:00-07:00",
          "2020-08-31T00:00:00-07:00",
          "2020-09-30T00:00:00-07:00",
          "2020-10-31T00:00:00-07:00",
          "2020-11-30T00:00:00-07:00",
          "2020-12-31T00:00:00-07:00",
          "2021-01-31T00:00:00-07:00",
          "2021-02-28T00:00:00-07:00",
          "2021-03-31T00:00:00-07:00",
          "2021-04-30T00:00:00-07:00",
          "2021-05-31T00:00:00-07:00",
          "2021-06-30T00:00:00-07:00",
          "2021-07-31T00:00:00-07:00",
          "2021-08-31T00:00:00-07:00",
          "2021-09-30T00:00:00-07:00",
          "2021-10-31T00:00:00-07:00",
          "2021-11-30T00:00:00-07:00",
          "2021-12-31T00:00:00-07:00",
          "2022-01-31T00:00:00-07:00",
          "2022-02-28T00:00:00-07:00",
          "2022-03-31T00:00:00-07:00",
          "2022-04-30T00:00:00-07:00",
          "2022-05-31T00:00:00-07:00",
          "2022-06-30T00:00:00-07:00",
          "2022-07-31T00:00:00-07:00",
          "2022-08-31T00:00:00-07:00",
          "2022-09-30T00:00:00-07:00",
          "2022-10-31T00:00:00-07:00",
          "2022-11-30T00:00:00-07:00",
          "2022-12-31T00:00:00-07:00",
          "2023-01-31T00:00:00-07:00",
          "2023-02-28T00:00:00-07:00",
          "2023-03-31T00:00:00-07:00",
          "2023-04-30T00:00:00-07:00",
          "2023-05-31T00:00:00-07:00",
          "2023-06-30T00:00:00-07:00",
          "2023-07-31T00:00:00-07:00",
          "2023-08-31T00:00:00-07:00",
          "2023-09-30T00:00:00-07:00",
          "2023-10-31T00:00:00-07:00",
          "2023-11-30T00:00:00-07:00",
          "2023-12-31T00:00:00-07:00",
          "2024-01-31T00:00:00-07:00",
          "2024-02-29T00:00:00-07:00",
          "2024-03-31T00:00:00-07:00",
          "2024-04-30T00:00:00-07:00",
          "2024-05-31T00:00:00-07:00",
          "2024-06-30T00:00:00-07:00"
         ],
         "xaxis": "x8",
         "y": [
          2627489.75,
          2656524.375,
          2671304.4166666665,
          2659257,
          2672932,
          2693040.458333333,
          2707544.875,
          2714701.958333333,
          2700096.791666667,
          2667874.458333333,
          2658784.083333333,
          2696208.6666666665,
          2726928.208333333,
          2745566.583333333,
          2788248.916666667,
          2862527.9166666665,
          2929356.583333333,
          2970907.5416666665,
          2980943.833333333,
          2991645.6666666665,
          3033129.0416666665,
          3069514.875,
          3090149.958333333,
          3091034.875,
          3097984.2916666665,
          3122091.5416666665,
          3143015.333333333,
          3154635.7916666665,
          3170301.291666666,
          3210789,
          3263256.9166666665,
          3306358.833333333,
          3330809.7916666665,
          3358852.333333333,
          3388210.291666666,
          3408453.1666666665,
          3406921.625,
          3384585.0416666665,
          3345215.958333333,
          3314208.708333333,
          3306306.125,
          3303037.25,
          3323098.875,
          3351451.5,
          3382866.125,
          3421010.375,
          3450960.6666666665,
          3483362.833333333,
          3516547.6666666665,
          3540927.208333333,
          3584844.5416666665,
          3646445.75,
          3722068.1249999995,
          3811396.2916666665,
          3878189.208333333,
          3948896.6249999995,
          4032429.208333333,
          4087369.5416666665,
          4108493.208333333,
          4125992.2916666665
         ],
         "yaxis": "y8"
        },
        {
         "hovertemplate": "component=seasonal<br>model=additive<br>month=%{x}<br>value=%{y}<extra></extra>",
         "legendgroup": "seasonal",
         "line": {
          "color": "#00cc96",
          "dash": "solid"
         },
         "marker": {
          "symbol": "circle"
         },
         "mode": "lines",
         "name": "seasonal",
         "orientation": "v",
         "showlegend": true,
         "type": "scatter",
         "x": [
          "2019-07-31T00:00:00-07:00",
          "2019-08-31T00:00:00-07:00",
          "2019-09-30T00:00:00-07:00",
          "2019-10-31T00:00:00-07:00",
          "2019-11-30T00:00:00-07:00",
          "2019-12-31T00:00:00-07:00",
          "2020-01-31T00:00:00-07:00",
          "2020-02-29T00:00:00-07:00",
          "2020-03-31T00:00:00-07:00",
          "2020-04-30T00:00:00-07:00",
          "2020-05-31T00:00:00-07:00",
          "2020-06-30T00:00:00-07:00",
          "2020-07-31T00:00:00-07:00",
          "2020-08-31T00:00:00-07:00",
          "2020-09-30T00:00:00-07:00",
          "2020-10-31T00:00:00-07:00",
          "2020-11-30T00:00:00-07:00",
          "2020-12-31T00:00:00-07:00",
          "2021-01-31T00:00:00-07:00",
          "2021-02-28T00:00:00-07:00",
          "2021-03-31T00:00:00-07:00",
          "2021-04-30T00:00:00-07:00",
          "2021-05-31T00:00:00-07:00",
          "2021-06-30T00:00:00-07:00",
          "2021-07-31T00:00:00-07:00",
          "2021-08-31T00:00:00-07:00",
          "2021-09-30T00:00:00-07:00",
          "2021-10-31T00:00:00-07:00",
          "2021-11-30T00:00:00-07:00",
          "2021-12-31T00:00:00-07:00",
          "2022-01-31T00:00:00-07:00",
          "2022-02-28T00:00:00-07:00",
          "2022-03-31T00:00:00-07:00",
          "2022-04-30T00:00:00-07:00",
          "2022-05-31T00:00:00-07:00",
          "2022-06-30T00:00:00-07:00",
          "2022-07-31T00:00:00-07:00",
          "2022-08-31T00:00:00-07:00",
          "2022-09-30T00:00:00-07:00",
          "2022-10-31T00:00:00-07:00",
          "2022-11-30T00:00:00-07:00",
          "2022-12-31T00:00:00-07:00",
          "2023-01-31T00:00:00-07:00",
          "2023-02-28T00:00:00-07:00",
          "2023-03-31T00:00:00-07:00",
          "2023-04-30T00:00:00-07:00",
          "2023-05-31T00:00:00-07:00",
          "2023-06-30T00:00:00-07:00",
          "2023-07-31T00:00:00-07:00",
          "2023-08-31T00:00:00-07:00",
          "2023-09-30T00:00:00-07:00",
          "2023-10-31T00:00:00-07:00",
          "2023-11-30T00:00:00-07:00",
          "2023-12-31T00:00:00-07:00",
          "2024-01-31T00:00:00-07:00",
          "2024-02-29T00:00:00-07:00",
          "2024-03-31T00:00:00-07:00",
          "2024-04-30T00:00:00-07:00",
          "2024-05-31T00:00:00-07:00",
          "2024-06-30T00:00:00-07:00"
         ],
         "xaxis": "x5",
         "y": [
          1079583.861111111,
          754870.8194444445,
          221857.7361111111,
          -31364.063888888915,
          -824517.4555555554,
          -1436805.138888889,
          -1193622.9722222225,
          -782542.3472222221,
          -324966.82222222234,
          372942.45277777774,
          1025670.3277777779,
          1138893.6027777777,
          1079583.861111111,
          754870.8194444445,
          221857.7361111111,
          -31364.063888888915,
          -824517.4555555554,
          -1436805.138888889,
          -1193622.9722222225,
          -782542.3472222221,
          -324966.82222222234,
          372942.45277777774,
          1025670.3277777779,
          1138893.6027777777,
          1079583.861111111,
          754870.8194444445,
          221857.7361111111,
          -31364.063888888915,
          -824517.4555555554,
          -1436805.138888889,
          -1193622.9722222225,
          -782542.3472222221,
          -324966.82222222234,
          372942.45277777774,
          1025670.3277777779,
          1138893.6027777777,
          1079583.861111111,
          754870.8194444445,
          221857.7361111111,
          -31364.063888888915,
          -824517.4555555554,
          -1436805.138888889,
          -1193622.9722222225,
          -782542.3472222221,
          -324966.82222222234,
          372942.45277777774,
          1025670.3277777779,
          1138893.6027777777,
          1079583.861111111,
          754870.8194444445,
          221857.7361111111,
          -31364.063888888915,
          -824517.4555555554,
          -1436805.138888889,
          -1193622.9722222225,
          -782542.3472222221,
          -324966.82222222234,
          372942.45277777774,
          1025670.3277777779,
          1138893.6027777777
         ],
         "yaxis": "y5"
        },
        {
         "hovertemplate": "component=seasonal<br>model=multiplicative<br>month=%{x}<br>value=%{y}<extra></extra>",
         "legendgroup": "seasonal",
         "line": {
          "color": "#00cc96",
          "dash": "solid"
         },
         "marker": {
          "symbol": "circle"
         },
         "mode": "lines",
         "name": "seasonal",
         "orientation": "v",
         "showlegend": false,
         "type": "scatter",
         "x": [
          "2019-07-31T00:00:00-07:00",
          "2019-08-31T00:00:00-07:00",
          "2019-09-30T00:00:00-07:00",
          "2019-10-31T00:00:00-07:00",
          "2019-11-30T00:00:00-07:00",
          "2019-12-31T00:00:00-07:00",
          "2020-01-31T00:00:00-07:00",
          "2020-02-29T00:00:00-07:00",
          "2020-03-31T00:00:00-07:00",
          "2020-04-30T00:00:00-07:00",
          "2020-05-31T00:00:00-07:00",
          "2020-06-30T00:00:00-07:00",
          "2020-07-31T00:00:00-07:00",
          "2020-08-31T00:00:00-07:00",
          "2020-09-30T00:00:00-07:00",
          "2020-10-31T00:00:00-07:00",
          "2020-11-30T00:00:00-07:00",
          "2020-12-31T00:00:00-07:00",
          "2021-01-31T00:00:00-07:00",
          "2021-02-28T00:00:00-07:00",
          "2021-03-31T00:00:00-07:00",
          "2021-04-30T00:00:00-07:00",
          "2021-05-31T00:00:00-07:00",
          "2021-06-30T00:00:00-07:00",
          "2021-07-31T00:00:00-07:00",
          "2021-08-31T00:00:00-07:00",
          "2021-09-30T00:00:00-07:00",
          "2021-10-31T00:00:00-07:00",
          "2021-11-30T00:00:00-07:00",
          "2021-12-31T00:00:00-07:00",
          "2022-01-31T00:00:00-07:00",
          "2022-02-28T00:00:00-07:00",
          "2022-03-31T00:00:00-07:00",
          "2022-04-30T00:00:00-07:00",
          "2022-05-31T00:00:00-07:00",
          "2022-06-30T00:00:00-07:00",
          "2022-07-31T00:00:00-07:00",
          "2022-08-31T00:00:00-07:00",
          "2022-09-30T00:00:00-07:00",
          "2022-10-31T00:00:00-07:00",
          "2022-11-30T00:00:00-07:00",
          "2022-12-31T00:00:00-07:00",
          "2023-01-31T00:00:00-07:00",
          "2023-02-28T00:00:00-07:00",
          "2023-03-31T00:00:00-07:00",
          "2023-04-30T00:00:00-07:00",
          "2023-05-31T00:00:00-07:00",
          "2023-06-30T00:00:00-07:00",
          "2023-07-31T00:00:00-07:00",
          "2023-08-31T00:00:00-07:00",
          "2023-09-30T00:00:00-07:00",
          "2023-10-31T00:00:00-07:00",
          "2023-11-30T00:00:00-07:00",
          "2023-12-31T00:00:00-07:00",
          "2024-01-31T00:00:00-07:00",
          "2024-02-29T00:00:00-07:00",
          "2024-03-31T00:00:00-07:00",
          "2024-04-30T00:00:00-07:00",
          "2024-05-31T00:00:00-07:00",
          "2024-06-30T00:00:00-07:00"
         ],
         "xaxis": "x6",
         "y": [
          1.3539460411616655,
          1.246044374117544,
          1.0689138339381026,
          0.9925950086771089,
          0.7350149151616091,
          0.5463781265652433,
          0.6324519475627834,
          0.7660415546984258,
          0.9038085439059794,
          1.1123419441976479,
          1.3067624009872199,
          1.33570130902667,
          1.3539460411616655,
          1.246044374117544,
          1.0689138339381026,
          0.9925950086771089,
          0.7350149151616091,
          0.5463781265652433,
          0.6324519475627834,
          0.7660415546984258,
          0.9038085439059794,
          1.1123419441976479,
          1.3067624009872199,
          1.33570130902667,
          1.3539460411616655,
          1.246044374117544,
          1.0689138339381026,
          0.9925950086771089,
          0.7350149151616091,
          0.5463781265652433,
          0.6324519475627834,
          0.7660415546984258,
          0.9038085439059794,
          1.1123419441976479,
          1.3067624009872199,
          1.33570130902667,
          1.3539460411616655,
          1.246044374117544,
          1.0689138339381026,
          0.9925950086771089,
          0.7350149151616091,
          0.5463781265652433,
          0.6324519475627834,
          0.7660415546984258,
          0.9038085439059794,
          1.1123419441976479,
          1.3067624009872199,
          1.33570130902667,
          1.3539460411616655,
          1.246044374117544,
          1.0689138339381026,
          0.9925950086771089,
          0.7350149151616091,
          0.5463781265652433,
          0.6324519475627834,
          0.7660415546984258,
          0.9038085439059794,
          1.1123419441976479,
          1.3067624009872199,
          1.33570130902667
         ],
         "yaxis": "y6"
        },
        {
         "hovertemplate": "component=residual<br>model=additive<br>month=%{x}<br>value=%{y}<extra></extra>",
         "legendgroup": "residual",
         "line": {
          "color": "#ab63fa",
          "dash": "solid"
         },
         "marker": {
          "symbol": "circle"
         },
         "mode": "lines",
         "name": "residual",
         "orientation": "v",
         "showlegend": true,
         "type": "scatter",
         "x": [
          "2019-07-31T00:00:00-07:00",
          "2019-08-31T00:00:00-07:00",
          "2019-09-30T00:00:00-07:00",
          "2019-10-31T00:00:00-07:00",
          "2019-11-30T00:00:00-07:00",
          "2019-12-31T00:00:00-07:00",
          "2020-01-31T00:00:00-07:00",
          "2020-02-29T00:00:00-07:00",
          "2020-03-31T00:00:00-07:00",
          "2020-04-30T00:00:00-07:00",
          "2020-05-31T00:00:00-07:00",
          "2020-06-30T00:00:00-07:00",
          "2020-07-31T00:00:00-07:00",
          "2020-08-31T00:00:00-07:00",
          "2020-09-30T00:00:00-07:00",
          "2020-10-31T00:00:00-07:00",
          "2020-11-30T00:00:00-07:00",
          "2020-12-31T00:00:00-07:00",
          "2021-01-31T00:00:00-07:00",
          "2021-02-28T00:00:00-07:00",
          "2021-03-31T00:00:00-07:00",
          "2021-04-30T00:00:00-07:00",
          "2021-05-31T00:00:00-07:00",
          "2021-06-30T00:00:00-07:00",
          "2021-07-31T00:00:00-07:00",
          "2021-08-31T00:00:00-07:00",
          "2021-09-30T00:00:00-07:00",
          "2021-10-31T00:00:00-07:00",
          "2021-11-30T00:00:00-07:00",
          "2021-12-31T00:00:00-07:00",
          "2022-01-31T00:00:00-07:00",
          "2022-02-28T00:00:00-07:00",
          "2022-03-31T00:00:00-07:00",
          "2022-04-30T00:00:00-07:00",
          "2022-05-31T00:00:00-07:00",
          "2022-06-30T00:00:00-07:00",
          "2022-07-31T00:00:00-07:00",
          "2022-08-31T00:00:00-07:00",
          "2022-09-30T00:00:00-07:00",
          "2022-10-31T00:00:00-07:00",
          "2022-11-30T00:00:00-07:00",
          "2022-12-31T00:00:00-07:00",
          "2023-01-31T00:00:00-07:00",
          "2023-02-28T00:00:00-07:00",
          "2023-03-31T00:00:00-07:00",
          "2023-04-30T00:00:00-07:00",
          "2023-05-31T00:00:00-07:00",
          "2023-06-30T00:00:00-07:00",
          "2023-07-31T00:00:00-07:00",
          "2023-08-31T00:00:00-07:00",
          "2023-09-30T00:00:00-07:00",
          "2023-10-31T00:00:00-07:00",
          "2023-11-30T00:00:00-07:00",
          "2023-12-31T00:00:00-07:00",
          "2024-01-31T00:00:00-07:00",
          "2024-02-29T00:00:00-07:00",
          "2024-03-31T00:00:00-07:00",
          "2024-04-30T00:00:00-07:00",
          "2024-05-31T00:00:00-07:00",
          "2024-06-30T00:00:00-07:00"
         ],
         "xaxis": "x3",
         "y": [
          -64138.61111111101,
          106664.8055555555,
          62330.84722222239,
          486281.0638888889,
          -76249.54444444459,
          -10032.31944444403,
          206237.09722222248,
          259962.3888888891,
          -67126.96944444464,
          -272740.91111111076,
          -186669.41111111094,
          -243368.26944444422,
          163681.93055555597,
          -137866.40277777752,
          -249648.65277777807,
          -295290.8527777776,
          27457.872222222388,
          250158.59722222248,
          132049.13888888946,
          231128.68055555562,
          376106.78055555583,
          332048.67222222226,
          -20577.286111110938,
          -238429.4777777777,
          -366268.1527777775,
          -98653.36111111101,
          -24552.069444444118,
          -294001.7277777776,
          -11641.836111110635,
          -170329.861111111,
          197129.05555555597,
          147596.5138888891,
          349416.03055555583,
          50612.21388888924,
          49433.38055555604,
          47786.23055555578,
          -19609.486111111008,
          17703.138888888992,
          -18779.694444444118,
          11473.355555555892,
          91896.33055555541,
          -16292.111111111008,
          -145755.90277777752,
          -150531.15277777787,
          -394463.30277777766,
          -63896.82777777774,
          -150627.99444444443,
          31734.56388888927,
          293385.4722222225,
          119202.97222222248,
          237700.7222222224,
          98589.31388888892,
          -24411.669444444124,
          -46453.15277777752,
          -382608.23611111054,
          -481105.2777777774,
          -256881.38611111068,
          -38971.99444444425,
          315492.46388888906,
          409328.1055555558
         ],
         "yaxis": "y3"
        },
        {
         "hovertemplate": "component=residual<br>model=multiplicative<br>month=%{x}<br>value=%{y}<extra></extra>",
         "legendgroup": "residual",
         "line": {
          "color": "#ab63fa",
          "dash": "solid"
         },
         "marker": {
          "symbol": "circle"
         },
         "mode": "lines",
         "name": "residual",
         "orientation": "v",
         "showlegend": false,
         "type": "scatter",
         "x": [
          "2019-07-31T00:00:00-07:00",
          "2019-08-31T00:00:00-07:00",
          "2019-09-30T00:00:00-07:00",
          "2019-10-31T00:00:00-07:00",
          "2019-11-30T00:00:00-07:00",
          "2019-12-31T00:00:00-07:00",
          "2020-01-31T00:00:00-07:00",
          "2020-02-29T00:00:00-07:00",
          "2020-03-31T00:00:00-07:00",
          "2020-04-30T00:00:00-07:00",
          "2020-05-31T00:00:00-07:00",
          "2020-06-30T00:00:00-07:00",
          "2020-07-31T00:00:00-07:00",
          "2020-08-31T00:00:00-07:00",
          "2020-09-30T00:00:00-07:00",
          "2020-10-31T00:00:00-07:00",
          "2020-11-30T00:00:00-07:00",
          "2020-12-31T00:00:00-07:00",
          "2021-01-31T00:00:00-07:00",
          "2021-02-28T00:00:00-07:00",
          "2021-03-31T00:00:00-07:00",
          "2021-04-30T00:00:00-07:00",
          "2021-05-31T00:00:00-07:00",
          "2021-06-30T00:00:00-07:00",
          "2021-07-31T00:00:00-07:00",
          "2021-08-31T00:00:00-07:00",
          "2021-09-30T00:00:00-07:00",
          "2021-10-31T00:00:00-07:00",
          "2021-11-30T00:00:00-07:00",
          "2021-12-31T00:00:00-07:00",
          "2022-01-31T00:00:00-07:00",
          "2022-02-28T00:00:00-07:00",
          "2022-03-31T00:00:00-07:00",
          "2022-04-30T00:00:00-07:00",
          "2022-05-31T00:00:00-07:00",
          "2022-06-30T00:00:00-07:00",
          "2022-07-31T00:00:00-07:00",
          "2022-08-31T00:00:00-07:00",
          "2022-09-30T00:00:00-07:00",
          "2022-10-31T00:00:00-07:00",
          "2022-11-30T00:00:00-07:00",
          "2022-12-31T00:00:00-07:00",
          "2023-01-31T00:00:00-07:00",
          "2023-02-28T00:00:00-07:00",
          "2023-03-31T00:00:00-07:00",
          "2023-04-30T00:00:00-07:00",
          "2023-05-31T00:00:00-07:00",
          "2023-06-30T00:00:00-07:00",
          "2023-07-31T00:00:00-07:00",
          "2023-08-31T00:00:00-07:00",
          "2023-09-30T00:00:00-07:00",
          "2023-10-31T00:00:00-07:00",
          "2023-11-30T00:00:00-07:00",
          "2023-12-31T00:00:00-07:00",
          "2024-01-31T00:00:00-07:00",
          "2024-02-29T00:00:00-07:00",
          "2024-03-31T00:00:00-07:00",
          "2024-04-30T00:00:00-07:00",
          "2024-05-31T00:00:00-07:00",
          "2024-06-30T00:00:00-07:00"
         ],
         "xaxis": "x4",
         "y": [
          1.0240214057489385,
          1.0628107247158023,
          1.0350560188030316,
          1.17980566288609,
          0.9020281535530718,
          0.8469399320213096,
          1.0045357433109279,
          1.0541204418617267,
          0.9457592414812845,
          0.9327694351909105,
          1.0067309272968128,
          0.997335582422826,
          1.0753173856468194,
          0.9828923934842193,
          0.926204536664905,
          0.8924947742317653,
          0.9903285590085328,
          1.099198031479914,
          1.0180693786562727,
          1.064801452633068,
          1.1250839232633727,
          1.1054829882789785,
          1.0141530267676244,
          0.9667691159227673,
          0.9086414968693611,
          0.9712215973829397,
          0.9942577991726231,
          0.9035518536269806,
          1.0016836466937948,
          0.9141250301172752,
          1.0983160083329542,
          1.0547237392788245,
          1.1145505609266328,
          1.0123694556186438,
          1.0080694504180268,
          1.0093258667053584,
          0.9683722631000447,
          0.9857293685260834,
          0.9923222726193042,
          1.0014138143354872,
          1.0590493005374464,
          1.0250637293115268,
          0.9438643310250151,
          0.9419739993732663,
          0.8711260717974428,
          0.9802179401678782,
          0.959290573263898,
          1.0002705300072428,
          1.0269471525277796,
          1.0006456197838975,
          1.0554590766330791,
          1.0260335988126204,
          1.0502100441000974,
          1.1179729809629173,
          0.9385142425677732,
          0.887680070746056,
          0.9467799064242098,
          0.9724598846365327,
          1.01505572614658,
          1.0295986088347482
         ],
         "yaxis": "y4"
        },
        {
         "hovertemplate": "component=model_result<br>model=additive<br>month=%{x}<br>value=%{y}<extra></extra>",
         "legendgroup": "model_result",
         "line": {
          "color": "#FFA15A",
          "dash": "solid"
         },
         "marker": {
          "symbol": "circle"
         },
         "mode": "lines",
         "name": "model_result",
         "orientation": "v",
         "showlegend": true,
         "type": "scatter",
         "x": [
          "2019-07-31T00:00:00-07:00",
          "2019-08-31T00:00:00-07:00",
          "2019-09-30T00:00:00-07:00",
          "2019-10-31T00:00:00-07:00",
          "2019-11-30T00:00:00-07:00",
          "2019-12-31T00:00:00-07:00",
          "2020-01-31T00:00:00-07:00",
          "2020-02-29T00:00:00-07:00",
          "2020-03-31T00:00:00-07:00",
          "2020-04-30T00:00:00-07:00",
          "2020-05-31T00:00:00-07:00",
          "2020-06-30T00:00:00-07:00",
          "2020-07-31T00:00:00-07:00",
          "2020-08-31T00:00:00-07:00",
          "2020-09-30T00:00:00-07:00",
          "2020-10-31T00:00:00-07:00",
          "2020-11-30T00:00:00-07:00",
          "2020-12-31T00:00:00-07:00",
          "2021-01-31T00:00:00-07:00",
          "2021-02-28T00:00:00-07:00",
          "2021-03-31T00:00:00-07:00",
          "2021-04-30T00:00:00-07:00",
          "2021-05-31T00:00:00-07:00",
          "2021-06-30T00:00:00-07:00",
          "2021-07-31T00:00:00-07:00",
          "2021-08-31T00:00:00-07:00",
          "2021-09-30T00:00:00-07:00",
          "2021-10-31T00:00:00-07:00",
          "2021-11-30T00:00:00-07:00",
          "2021-12-31T00:00:00-07:00",
          "2022-01-31T00:00:00-07:00",
          "2022-02-28T00:00:00-07:00",
          "2022-03-31T00:00:00-07:00",
          "2022-04-30T00:00:00-07:00",
          "2022-05-31T00:00:00-07:00",
          "2022-06-30T00:00:00-07:00",
          "2022-07-31T00:00:00-07:00",
          "2022-08-31T00:00:00-07:00",
          "2022-09-30T00:00:00-07:00",
          "2022-10-31T00:00:00-07:00",
          "2022-11-30T00:00:00-07:00",
          "2022-12-31T00:00:00-07:00",
          "2023-01-31T00:00:00-07:00",
          "2023-02-28T00:00:00-07:00",
          "2023-03-31T00:00:00-07:00",
          "2023-04-30T00:00:00-07:00",
          "2023-05-31T00:00:00-07:00",
          "2023-06-30T00:00:00-07:00",
          "2023-07-31T00:00:00-07:00",
          "2023-08-31T00:00:00-07:00",
          "2023-09-30T00:00:00-07:00",
          "2023-10-31T00:00:00-07:00",
          "2023-11-30T00:00:00-07:00",
          "2023-12-31T00:00:00-07:00",
          "2024-01-31T00:00:00-07:00",
          "2024-02-29T00:00:00-07:00",
          "2024-03-31T00:00:00-07:00",
          "2024-04-30T00:00:00-07:00",
          "2024-05-31T00:00:00-07:00",
          "2024-06-30T00:00:00-07:00"
         ],
         "xaxis": "x",
         "y": [
          3642935,
          3518060,
          2955493,
          3114174,
          1772165,
          1246203,
          1720159,
          2192122,
          2308003,
          2768076,
          3497785,
          3591734,
          3970194,
          3362571,
          2760458,
          2535873,
          2132297,
          1784261,
          1919370,
          2440232,
          3084269,
          3774506,
          4095243,
          3991498.9999999995,
          3811300,
          3778309,
          3340321,
          2829270,
          2334142,
          1603654,
          2266763,
          2671413,
          3355259,
          3782407,
          4463314,
          4595133,
          4466896,
          4157159,
          3548294,
          3294318,
          2573685,
          1849940,
          1983720,
          2418378,
          2663436,
          3730056,
          4326003,
          4653991,
          4889517,
          4415001,
          4044403,
          3713671,
          2873139,
          2328138,
          2301958,
          2685249,
          3450581,
          4421340,
          5449656,
          5674214
         ],
         "yaxis": "y"
        },
        {
         "hovertemplate": "component=model_result<br>model=multiplicative<br>month=%{x}<br>value=%{y}<extra></extra>",
         "legendgroup": "model_result",
         "line": {
          "color": "#FFA15A",
          "dash": "solid"
         },
         "marker": {
          "symbol": "circle"
         },
         "mode": "lines",
         "name": "model_result",
         "orientation": "v",
         "showlegend": false,
         "type": "scatter",
         "x": [
          "2019-07-31T00:00:00-07:00",
          "2019-08-31T00:00:00-07:00",
          "2019-09-30T00:00:00-07:00",
          "2019-10-31T00:00:00-07:00",
          "2019-11-30T00:00:00-07:00",
          "2019-12-31T00:00:00-07:00",
          "2020-01-31T00:00:00-07:00",
          "2020-02-29T00:00:00-07:00",
          "2020-03-31T00:00:00-07:00",
          "2020-04-30T00:00:00-07:00",
          "2020-05-31T00:00:00-07:00",
          "2020-06-30T00:00:00-07:00",
          "2020-07-31T00:00:00-07:00",
          "2020-08-31T00:00:00-07:00",
          "2020-09-30T00:00:00-07:00",
          "2020-10-31T00:00:00-07:00",
          "2020-11-30T00:00:00-07:00",
          "2020-12-31T00:00:00-07:00",
          "2021-01-31T00:00:00-07:00",
          "2021-02-28T00:00:00-07:00",
          "2021-03-31T00:00:00-07:00",
          "2021-04-30T00:00:00-07:00",
          "2021-05-31T00:00:00-07:00",
          "2021-06-30T00:00:00-07:00",
          "2021-07-31T00:00:00-07:00",
          "2021-08-31T00:00:00-07:00",
          "2021-09-30T00:00:00-07:00",
          "2021-10-31T00:00:00-07:00",
          "2021-11-30T00:00:00-07:00",
          "2021-12-31T00:00:00-07:00",
          "2022-01-31T00:00:00-07:00",
          "2022-02-28T00:00:00-07:00",
          "2022-03-31T00:00:00-07:00",
          "2022-04-30T00:00:00-07:00",
          "2022-05-31T00:00:00-07:00",
          "2022-06-30T00:00:00-07:00",
          "2022-07-31T00:00:00-07:00",
          "2022-08-31T00:00:00-07:00",
          "2022-09-30T00:00:00-07:00",
          "2022-10-31T00:00:00-07:00",
          "2022-11-30T00:00:00-07:00",
          "2022-12-31T00:00:00-07:00",
          "2023-01-31T00:00:00-07:00",
          "2023-02-28T00:00:00-07:00",
          "2023-03-31T00:00:00-07:00",
          "2023-04-30T00:00:00-07:00",
          "2023-05-31T00:00:00-07:00",
          "2023-06-30T00:00:00-07:00",
          "2023-07-31T00:00:00-07:00",
          "2023-08-31T00:00:00-07:00",
          "2023-09-30T00:00:00-07:00",
          "2023-10-31T00:00:00-07:00",
          "2023-11-30T00:00:00-07:00",
          "2023-12-31T00:00:00-07:00",
          "2024-01-31T00:00:00-07:00",
          "2024-02-29T00:00:00-07:00",
          "2024-03-31T00:00:00-07:00",
          "2024-04-30T00:00:00-07:00",
          "2024-05-31T00:00:00-07:00",
          "2024-06-30T00:00:00-07:00"
         ],
         "xaxis": "x2",
         "y": [
          3642935,
          3518060,
          2955493,
          3114174.0000000005,
          1772164.9999999998,
          1246203.0000000002,
          1720159.0000000002,
          2192122,
          2308003,
          2768076,
          3497785,
          3591733.9999999995,
          3970193.9999999995,
          3362571,
          2760458,
          2535873.0000000005,
          2132297,
          1784261,
          1919369.9999999998,
          2440232,
          3084269.0000000005,
          3774506,
          4095243.0000000005,
          3991499.0000000005,
          3811300,
          3778309,
          3340320.9999999995,
          2829270,
          2334141.9999999995,
          1603654,
          2266763.0000000005,
          2671413,
          3355259,
          3782407.0000000005,
          4463314.000000001,
          4595133,
          4466896,
          4157158.9999999995,
          3548294,
          3294318.0000000005,
          2573685.0000000005,
          1849940,
          1983720,
          2418378,
          2663436.0000000005,
          3730056,
          4326002.999999999,
          4653991,
          4889517.000000001,
          4415001,
          4044403.0000000005,
          3713671.0000000005,
          2873139,
          2328138,
          2301958,
          2685249,
          3450581.0000000005,
          4421340,
          5449656,
          5674213.999999999
         ],
         "yaxis": "y2"
        }
       ],
       "layout": {
        "annotations": [
         {
          "font": {},
          "showarrow": false,
          "text": "model=additive",
          "x": 0.195,
          "xanchor": "center",
          "xref": "paper",
          "y": 1,
          "yanchor": "bottom",
          "yref": "paper"
         },
         {
          "font": {},
          "showarrow": false,
          "text": "model=multiplicative",
          "x": 0.7850000000000001,
          "xanchor": "center",
          "xref": "paper",
          "y": 1,
          "yanchor": "bottom",
          "yref": "paper"
         },
         {
          "font": {},
          "showarrow": false,
          "text": "component=model_result",
          "textangle": 90,
          "x": 0.9800000000000001,
          "xanchor": "left",
          "xref": "paper",
          "y": 0.08800000000000001,
          "yanchor": "middle",
          "yref": "paper"
         },
         {
          "font": {},
          "showarrow": false,
          "text": "component=residual",
          "textangle": 90,
          "x": 0.9800000000000001,
          "xanchor": "left",
          "xref": "paper",
          "y": 0.29400000000000004,
          "yanchor": "middle",
          "yref": "paper"
         },
         {
          "font": {},
          "showarrow": false,
          "text": "component=seasonal",
          "textangle": 90,
          "x": 0.9800000000000001,
          "xanchor": "left",
          "xref": "paper",
          "y": 0.5,
          "yanchor": "middle",
          "yref": "paper"
         },
         {
          "font": {},
          "showarrow": false,
          "text": "component=trend",
          "textangle": 90,
          "x": 0.9800000000000001,
          "xanchor": "left",
          "xref": "paper",
          "y": 0.706,
          "yanchor": "middle",
          "yref": "paper"
         },
         {
          "font": {},
          "showarrow": false,
          "text": "component=values",
          "textangle": 90,
          "x": 0.9800000000000001,
          "xanchor": "left",
          "xref": "paper",
          "y": 0.912,
          "yanchor": "middle",
          "yref": "paper"
         }
        ],
        "height": 1000,
        "legend": {
         "title": {
          "text": "component"
         },
         "tracegroupgap": 0
        },
        "margin": {
         "t": 60
        },
        "template": {
         "data": {
          "bar": [
           {
            "error_x": {
             "color": "#2a3f5f"
            },
            "error_y": {
             "color": "#2a3f5f"
            },
            "marker": {
             "line": {
              "color": "#E5ECF6",
              "width": 0.5
             },
             "pattern": {
              "fillmode": "overlay",
              "size": 10,
              "solidity": 0.2
             }
            },
            "type": "bar"
           }
          ],
          "barpolar": [
           {
            "marker": {
             "line": {
              "color": "#E5ECF6",
              "width": 0.5
             },
             "pattern": {
              "fillmode": "overlay",
              "size": 10,
              "solidity": 0.2
             }
            },
            "type": "barpolar"
           }
          ],
          "carpet": [
           {
            "aaxis": {
             "endlinecolor": "#2a3f5f",
             "gridcolor": "white",
             "linecolor": "white",
             "minorgridcolor": "white",
             "startlinecolor": "#2a3f5f"
            },
            "baxis": {
             "endlinecolor": "#2a3f5f",
             "gridcolor": "white",
             "linecolor": "white",
             "minorgridcolor": "white",
             "startlinecolor": "#2a3f5f"
            },
            "type": "carpet"
           }
          ],
          "choropleth": [
           {
            "colorbar": {
             "outlinewidth": 0,
             "ticks": ""
            },
            "type": "choropleth"
           }
          ],
          "contour": [
           {
            "colorbar": {
             "outlinewidth": 0,
             "ticks": ""
            },
            "colorscale": [
             [
              0,
              "#0d0887"
             ],
             [
              0.1111111111111111,
              "#46039f"
             ],
             [
              0.2222222222222222,
              "#7201a8"
             ],
             [
              0.3333333333333333,
              "#9c179e"
             ],
             [
              0.4444444444444444,
              "#bd3786"
             ],
             [
              0.5555555555555556,
              "#d8576b"
             ],
             [
              0.6666666666666666,
              "#ed7953"
             ],
             [
              0.7777777777777778,
              "#fb9f3a"
             ],
             [
              0.8888888888888888,
              "#fdca26"
             ],
             [
              1,
              "#f0f921"
             ]
            ],
            "type": "contour"
           }
          ],
          "contourcarpet": [
           {
            "colorbar": {
             "outlinewidth": 0,
             "ticks": ""
            },
            "type": "contourcarpet"
           }
          ],
          "heatmap": [
           {
            "colorbar": {
             "outlinewidth": 0,
             "ticks": ""
            },
            "colorscale": [
             [
              0,
              "#0d0887"
             ],
             [
              0.1111111111111111,
              "#46039f"
             ],
             [
              0.2222222222222222,
              "#7201a8"
             ],
             [
              0.3333333333333333,
              "#9c179e"
             ],
             [
              0.4444444444444444,
              "#bd3786"
             ],
             [
              0.5555555555555556,
              "#d8576b"
             ],
             [
              0.6666666666666666,
              "#ed7953"
             ],
             [
              0.7777777777777778,
              "#fb9f3a"
             ],
             [
              0.8888888888888888,
              "#fdca26"
             ],
             [
              1,
              "#f0f921"
             ]
            ],
            "type": "heatmap"
           }
          ],
          "heatmapgl": [
           {
            "colorbar": {
             "outlinewidth": 0,
             "ticks": ""
            },
            "colorscale": [
             [
              0,
              "#0d0887"
             ],
             [
              0.1111111111111111,
              "#46039f"
             ],
             [
              0.2222222222222222,
              "#7201a8"
             ],
             [
              0.3333333333333333,
              "#9c179e"
             ],
             [
              0.4444444444444444,
              "#bd3786"
             ],
             [
              0.5555555555555556,
              "#d8576b"
             ],
             [
              0.6666666666666666,
              "#ed7953"
             ],
             [
              0.7777777777777778,
              "#fb9f3a"
             ],
             [
              0.8888888888888888,
              "#fdca26"
             ],
             [
              1,
              "#f0f921"
             ]
            ],
            "type": "heatmapgl"
           }
          ],
          "histogram": [
           {
            "marker": {
             "pattern": {
              "fillmode": "overlay",
              "size": 10,
              "solidity": 0.2
             }
            },
            "type": "histogram"
           }
          ],
          "histogram2d": [
           {
            "colorbar": {
             "outlinewidth": 0,
             "ticks": ""
            },
            "colorscale": [
             [
              0,
              "#0d0887"
             ],
             [
              0.1111111111111111,
              "#46039f"
             ],
             [
              0.2222222222222222,
              "#7201a8"
             ],
             [
              0.3333333333333333,
              "#9c179e"
             ],
             [
              0.4444444444444444,
              "#bd3786"
             ],
             [
              0.5555555555555556,
              "#d8576b"
             ],
             [
              0.6666666666666666,
              "#ed7953"
             ],
             [
              0.7777777777777778,
              "#fb9f3a"
             ],
             [
              0.8888888888888888,
              "#fdca26"
             ],
             [
              1,
              "#f0f921"
             ]
            ],
            "type": "histogram2d"
           }
          ],
          "histogram2dcontour": [
           {
            "colorbar": {
             "outlinewidth": 0,
             "ticks": ""
            },
            "colorscale": [
             [
              0,
              "#0d0887"
             ],
             [
              0.1111111111111111,
              "#46039f"
             ],
             [
              0.2222222222222222,
              "#7201a8"
             ],
             [
              0.3333333333333333,
              "#9c179e"
             ],
             [
              0.4444444444444444,
              "#bd3786"
             ],
             [
              0.5555555555555556,
              "#d8576b"
             ],
             [
              0.6666666666666666,
              "#ed7953"
             ],
             [
              0.7777777777777778,
              "#fb9f3a"
             ],
             [
              0.8888888888888888,
              "#fdca26"
             ],
             [
              1,
              "#f0f921"
             ]
            ],
            "type": "histogram2dcontour"
           }
          ],
          "mesh3d": [
           {
            "colorbar": {
             "outlinewidth": 0,
             "ticks": ""
            },
            "type": "mesh3d"
           }
          ],
          "parcoords": [
           {
            "line": {
             "colorbar": {
              "outlinewidth": 0,
              "ticks": ""
             }
            },
            "type": "parcoords"
           }
          ],
          "pie": [
           {
            "automargin": true,
            "type": "pie"
           }
          ],
          "scatter": [
           {
            "fillpattern": {
             "fillmode": "overlay",
             "size": 10,
             "solidity": 0.2
            },
            "type": "scatter"
           }
          ],
          "scatter3d": [
           {
            "line": {
             "colorbar": {
              "outlinewidth": 0,
              "ticks": ""
             }
            },
            "marker": {
             "colorbar": {
              "outlinewidth": 0,
              "ticks": ""
             }
            },
            "type": "scatter3d"
           }
          ],
          "scattercarpet": [
           {
            "marker": {
             "colorbar": {
              "outlinewidth": 0,
              "ticks": ""
             }
            },
            "type": "scattercarpet"
           }
          ],
          "scattergeo": [
           {
            "marker": {
             "colorbar": {
              "outlinewidth": 0,
              "ticks": ""
             }
            },
            "type": "scattergeo"
           }
          ],
          "scattergl": [
           {
            "marker": {
             "colorbar": {
              "outlinewidth": 0,
              "ticks": ""
             }
            },
            "type": "scattergl"
           }
          ],
          "scattermapbox": [
           {
            "marker": {
             "colorbar": {
              "outlinewidth": 0,
              "ticks": ""
             }
            },
            "type": "scattermapbox"
           }
          ],
          "scatterpolar": [
           {
            "marker": {
             "colorbar": {
              "outlinewidth": 0,
              "ticks": ""
             }
            },
            "type": "scatterpolar"
           }
          ],
          "scatterpolargl": [
           {
            "marker": {
             "colorbar": {
              "outlinewidth": 0,
              "ticks": ""
             }
            },
            "type": "scatterpolargl"
           }
          ],
          "scatterternary": [
           {
            "marker": {
             "colorbar": {
              "outlinewidth": 0,
              "ticks": ""
             }
            },
            "type": "scatterternary"
           }
          ],
          "surface": [
           {
            "colorbar": {
             "outlinewidth": 0,
             "ticks": ""
            },
            "colorscale": [
             [
              0,
              "#0d0887"
             ],
             [
              0.1111111111111111,
              "#46039f"
             ],
             [
              0.2222222222222222,
              "#7201a8"
             ],
             [
              0.3333333333333333,
              "#9c179e"
             ],
             [
              0.4444444444444444,
              "#bd3786"
             ],
             [
              0.5555555555555556,
              "#d8576b"
             ],
             [
              0.6666666666666666,
              "#ed7953"
             ],
             [
              0.7777777777777778,
              "#fb9f3a"
             ],
             [
              0.8888888888888888,
              "#fdca26"
             ],
             [
              1,
              "#f0f921"
             ]
            ],
            "type": "surface"
           }
          ],
          "table": [
           {
            "cells": {
             "fill": {
              "color": "#EBF0F8"
             },
             "line": {
              "color": "white"
             }
            },
            "header": {
             "fill": {
              "color": "#C8D4E3"
             },
             "line": {
              "color": "white"
             }
            },
            "type": "table"
           }
          ]
         },
         "layout": {
          "annotationdefaults": {
           "arrowcolor": "#2a3f5f",
           "arrowhead": 0,
           "arrowwidth": 1
          },
          "autotypenumbers": "strict",
          "coloraxis": {
           "colorbar": {
            "outlinewidth": 0,
            "ticks": ""
           }
          },
          "colorscale": {
           "diverging": [
            [
             0,
             "#8e0152"
            ],
            [
             0.1,
             "#c51b7d"
            ],
            [
             0.2,
             "#de77ae"
            ],
            [
             0.3,
             "#f1b6da"
            ],
            [
             0.4,
             "#fde0ef"
            ],
            [
             0.5,
             "#f7f7f7"
            ],
            [
             0.6,
             "#e6f5d0"
            ],
            [
             0.7,
             "#b8e186"
            ],
            [
             0.8,
             "#7fbc41"
            ],
            [
             0.9,
             "#4d9221"
            ],
            [
             1,
             "#276419"
            ]
           ],
           "sequential": [
            [
             0,
             "#0d0887"
            ],
            [
             0.1111111111111111,
             "#46039f"
            ],
            [
             0.2222222222222222,
             "#7201a8"
            ],
            [
             0.3333333333333333,
             "#9c179e"
            ],
            [
             0.4444444444444444,
             "#bd3786"
            ],
            [
             0.5555555555555556,
             "#d8576b"
            ],
            [
             0.6666666666666666,
             "#ed7953"
            ],
            [
             0.7777777777777778,
             "#fb9f3a"
            ],
            [
             0.8888888888888888,
             "#fdca26"
            ],
            [
             1,
             "#f0f921"
            ]
           ],
           "sequentialminus": [
            [
             0,
             "#0d0887"
            ],
            [
             0.1111111111111111,
             "#46039f"
            ],
            [
             0.2222222222222222,
             "#7201a8"
            ],
            [
             0.3333333333333333,
             "#9c179e"
            ],
            [
             0.4444444444444444,
             "#bd3786"
            ],
            [
             0.5555555555555556,
             "#d8576b"
            ],
            [
             0.6666666666666666,
             "#ed7953"
            ],
            [
             0.7777777777777778,
             "#fb9f3a"
            ],
            [
             0.8888888888888888,
             "#fdca26"
            ],
            [
             1,
             "#f0f921"
            ]
           ]
          },
          "colorway": [
           "#636efa",
           "#EF553B",
           "#00cc96",
           "#ab63fa",
           "#FFA15A",
           "#19d3f3",
           "#FF6692",
           "#B6E880",
           "#FF97FF",
           "#FECB52"
          ],
          "font": {
           "color": "#2a3f5f"
          },
          "geo": {
           "bgcolor": "white",
           "lakecolor": "white",
           "landcolor": "#E5ECF6",
           "showlakes": true,
           "showland": true,
           "subunitcolor": "white"
          },
          "hoverlabel": {
           "align": "left"
          },
          "hovermode": "closest",
          "mapbox": {
           "style": "light"
          },
          "paper_bgcolor": "white",
          "plot_bgcolor": "#E5ECF6",
          "polar": {
           "angularaxis": {
            "gridcolor": "white",
            "linecolor": "white",
            "ticks": ""
           },
           "bgcolor": "#E5ECF6",
           "radialaxis": {
            "gridcolor": "white",
            "linecolor": "white",
            "ticks": ""
           }
          },
          "scene": {
           "xaxis": {
            "backgroundcolor": "#E5ECF6",
            "gridcolor": "white",
            "gridwidth": 2,
            "linecolor": "white",
            "showbackground": true,
            "ticks": "",
            "zerolinecolor": "white"
           },
           "yaxis": {
            "backgroundcolor": "#E5ECF6",
            "gridcolor": "white",
            "gridwidth": 2,
            "linecolor": "white",
            "showbackground": true,
            "ticks": "",
            "zerolinecolor": "white"
           },
           "zaxis": {
            "backgroundcolor": "#E5ECF6",
            "gridcolor": "white",
            "gridwidth": 2,
            "linecolor": "white",
            "showbackground": true,
            "ticks": "",
            "zerolinecolor": "white"
           }
          },
          "shapedefaults": {
           "line": {
            "color": "#2a3f5f"
           }
          },
          "ternary": {
           "aaxis": {
            "gridcolor": "white",
            "linecolor": "white",
            "ticks": ""
           },
           "baxis": {
            "gridcolor": "white",
            "linecolor": "white",
            "ticks": ""
           },
           "bgcolor": "#E5ECF6",
           "caxis": {
            "gridcolor": "white",
            "linecolor": "white",
            "ticks": ""
           }
          },
          "title": {
           "x": 0.05
          },
          "xaxis": {
           "automargin": true,
           "gridcolor": "white",
           "linecolor": "white",
           "ticks": "",
           "title": {
            "standoff": 15
           },
           "zerolinecolor": "white",
           "zerolinewidth": 2
          },
          "yaxis": {
           "automargin": true,
           "gridcolor": "white",
           "linecolor": "white",
           "ticks": "",
           "title": {
            "standoff": 15
           },
           "zerolinecolor": "white",
           "zerolinewidth": 2
          }
         }
        },
        "width": 1000,
        "xaxis": {
         "anchor": "y",
         "domain": [
          0,
          0.39
         ],
         "title": {
          "text": "month"
         }
        },
        "xaxis10": {
         "anchor": "y10",
         "domain": [
          0.5900000000000001,
          0.9800000000000001
         ],
         "matches": "x",
         "showticklabels": false
        },
        "xaxis2": {
         "anchor": "y2",
         "domain": [
          0.5900000000000001,
          0.9800000000000001
         ],
         "matches": "x",
         "title": {
          "text": "month"
         }
        },
        "xaxis3": {
         "anchor": "y3",
         "domain": [
          0,
          0.39
         ],
         "matches": "x",
         "showticklabels": false
        },
        "xaxis4": {
         "anchor": "y4",
         "domain": [
          0.5900000000000001,
          0.9800000000000001
         ],
         "matches": "x",
         "showticklabels": false
        },
        "xaxis5": {
         "anchor": "y5",
         "domain": [
          0,
          0.39
         ],
         "matches": "x",
         "showticklabels": false
        },
        "xaxis6": {
         "anchor": "y6",
         "domain": [
          0.5900000000000001,
          0.9800000000000001
         ],
         "matches": "x",
         "showticklabels": false
        },
        "xaxis7": {
         "anchor": "y7",
         "domain": [
          0,
          0.39
         ],
         "matches": "x",
         "showticklabels": false
        },
        "xaxis8": {
         "anchor": "y8",
         "domain": [
          0.5900000000000001,
          0.9800000000000001
         ],
         "matches": "x",
         "showticklabels": false
        },
        "xaxis9": {
         "anchor": "y9",
         "domain": [
          0,
          0.39
         ],
         "matches": "x",
         "showticklabels": false
        },
        "yaxis": {
         "anchor": "x",
         "domain": [
          0,
          0.17600000000000002
         ],
         "showticklabels": true,
         "title": {
          "text": "value"
         }
        },
        "yaxis10": {
         "anchor": "x10",
         "domain": [
          0.8240000000000001,
          1
         ],
         "showticklabels": true
        },
        "yaxis2": {
         "anchor": "x2",
         "domain": [
          0,
          0.17600000000000002
         ],
         "showticklabels": true
        },
        "yaxis3": {
         "anchor": "x3",
         "domain": [
          0.20600000000000002,
          0.382
         ],
         "showticklabels": true,
         "title": {
          "text": "value"
         }
        },
        "yaxis4": {
         "anchor": "x4",
         "domain": [
          0.20600000000000002,
          0.382
         ],
         "showticklabels": true
        },
        "yaxis5": {
         "anchor": "x5",
         "domain": [
          0.41200000000000003,
          0.5880000000000001
         ],
         "showticklabels": true,
         "title": {
          "text": "value"
         }
        },
        "yaxis6": {
         "anchor": "x6",
         "domain": [
          0.41200000000000003,
          0.5880000000000001
         ],
         "showticklabels": true
        },
        "yaxis7": {
         "anchor": "x7",
         "domain": [
          0.618,
          0.794
         ],
         "showticklabels": true,
         "title": {
          "text": "value"
         }
        },
        "yaxis8": {
         "anchor": "x8",
         "domain": [
          0.618,
          0.794
         ],
         "showticklabels": true
        },
        "yaxis9": {
         "anchor": "x9",
         "domain": [
          0.8240000000000001,
          1
         ],
         "showticklabels": true,
         "title": {
          "text": "value"
         }
        }
       }
      }
     },
     "metadata": {},
     "output_type": "display_data"
    }
   ],
   "source": [
    "import plotly.express as px\n",
    "fig = px.line(\n",
    "    data_frame=df,\n",
    "    x='month',\n",
    "    y='value',\n",
    "    color='component',\n",
    "    facet_col='model',\n",
    "    facet_row='component',\n",
    "    width=1000,\n",
    "    height=1000,\n",
    "    facet_col_spacing=0.2\n",
    ")\n",
    "fig.update_yaxes(matches=None)\n",
    "\n",
    "for attr in dir(fig.layout):\n",
    "    if attr.startswith(\"yaxis\"):\n",
    "        axis = getattr(fig.layout, attr)\n",
    "        if axis:\n",
    "            axis.showticklabels=True\n",
    "fig            "
   ]
  },
  {
   "cell_type": "code",
   "execution_count": 24,
   "id": "cc168d8d",
   "metadata": {},
   "outputs": [
    {
     "name": "stdout",
     "output_type": "stream",
     "text": [
      "c:\\Users\\basil\\Anaconda\\python.exe\n"
     ]
    }
   ],
   "source": [
    "import sys\n",
    "print(sys.executable)\n",
    "\n"
   ]
  },
  {
   "cell_type": "code",
   "execution_count": 32,
   "id": "c2c52f21",
   "metadata": {},
   "outputs": [],
   "source": [
    "import sys\n",
    "sys.path.append('../modules')  # go up one folder, then into \"modules\"\n",
    "\n",
    "import utils\n",
    "utils.configure_plotly_template(showlegend=True)\n",
    "\n"
   ]
  },
  {
   "cell_type": "code",
   "execution_count": 31,
   "id": "92a79889",
   "metadata": {},
   "outputs": [
    {
     "data": {
      "application/vnd.plotly.v1+json": {
       "config": {
        "plotlyServerURL": "https://plot.ly"
       },
       "data": [
        {
         "hovertemplate": "component=values<br>model=additive<br>month=%{x}<br>value=%{y}<extra></extra>",
         "legendgroup": "values",
         "line": {
          "color": "#636efa",
          "dash": "solid"
         },
         "marker": {
          "symbol": "circle"
         },
         "mode": "lines",
         "name": "values",
         "orientation": "v",
         "showlegend": true,
         "type": "scatter",
         "x": [
          "2019-07-31T00:00:00-07:00",
          "2019-08-31T00:00:00-07:00",
          "2019-09-30T00:00:00-07:00",
          "2019-10-31T00:00:00-07:00",
          "2019-11-30T00:00:00-07:00",
          "2019-12-31T00:00:00-07:00",
          "2020-01-31T00:00:00-07:00",
          "2020-02-29T00:00:00-07:00",
          "2020-03-31T00:00:00-07:00",
          "2020-04-30T00:00:00-07:00",
          "2020-05-31T00:00:00-07:00",
          "2020-06-30T00:00:00-07:00",
          "2020-07-31T00:00:00-07:00",
          "2020-08-31T00:00:00-07:00",
          "2020-09-30T00:00:00-07:00",
          "2020-10-31T00:00:00-07:00",
          "2020-11-30T00:00:00-07:00",
          "2020-12-31T00:00:00-07:00",
          "2021-01-31T00:00:00-07:00",
          "2021-02-28T00:00:00-07:00",
          "2021-03-31T00:00:00-07:00",
          "2021-04-30T00:00:00-07:00",
          "2021-05-31T00:00:00-07:00",
          "2021-06-30T00:00:00-07:00",
          "2021-07-31T00:00:00-07:00",
          "2021-08-31T00:00:00-07:00",
          "2021-09-30T00:00:00-07:00",
          "2021-10-31T00:00:00-07:00",
          "2021-11-30T00:00:00-07:00",
          "2021-12-31T00:00:00-07:00",
          "2022-01-31T00:00:00-07:00",
          "2022-02-28T00:00:00-07:00",
          "2022-03-31T00:00:00-07:00",
          "2022-04-30T00:00:00-07:00",
          "2022-05-31T00:00:00-07:00",
          "2022-06-30T00:00:00-07:00",
          "2022-07-31T00:00:00-07:00",
          "2022-08-31T00:00:00-07:00",
          "2022-09-30T00:00:00-07:00",
          "2022-10-31T00:00:00-07:00",
          "2022-11-30T00:00:00-07:00",
          "2022-12-31T00:00:00-07:00",
          "2023-01-31T00:00:00-07:00",
          "2023-02-28T00:00:00-07:00",
          "2023-03-31T00:00:00-07:00",
          "2023-04-30T00:00:00-07:00",
          "2023-05-31T00:00:00-07:00",
          "2023-06-30T00:00:00-07:00",
          "2023-07-31T00:00:00-07:00",
          "2023-08-31T00:00:00-07:00",
          "2023-09-30T00:00:00-07:00",
          "2023-10-31T00:00:00-07:00",
          "2023-11-30T00:00:00-07:00",
          "2023-12-31T00:00:00-07:00",
          "2024-01-31T00:00:00-07:00",
          "2024-02-29T00:00:00-07:00",
          "2024-03-31T00:00:00-07:00",
          "2024-04-30T00:00:00-07:00",
          "2024-05-31T00:00:00-07:00",
          "2024-06-30T00:00:00-07:00"
         ],
         "xaxis": "x9",
         "y": [
          3642935,
          3518060,
          2955493,
          3114174,
          1772165,
          1246203,
          1720159,
          2192122,
          2308003,
          2768076,
          3497785,
          3591734,
          3970194,
          3362571,
          2760458,
          2535873,
          2132297,
          1784261,
          1919370,
          2440232,
          3084269,
          3774506,
          4095243,
          3991499,
          3811300,
          3778309,
          3340321,
          2829270,
          2334142,
          1603654,
          2266763,
          2671413,
          3355259,
          3782407,
          4463314,
          4595133,
          4466896,
          4157159,
          3548294,
          3294318,
          2573685,
          1849940,
          1983720,
          2418378,
          2663436,
          3730056,
          4326003,
          4653991,
          4889517,
          4415001,
          4044403,
          3713671,
          2873139,
          2328138,
          2301958,
          2685249,
          3450581,
          4421340,
          5449656,
          5674214
         ],
         "yaxis": "y9"
        },
        {
         "hovertemplate": "component=values<br>model=multiplicative<br>month=%{x}<br>value=%{y}<extra></extra>",
         "legendgroup": "values",
         "line": {
          "color": "#636efa",
          "dash": "solid"
         },
         "marker": {
          "symbol": "circle"
         },
         "mode": "lines",
         "name": "values",
         "orientation": "v",
         "showlegend": false,
         "type": "scatter",
         "x": [
          "2019-07-31T00:00:00-07:00",
          "2019-08-31T00:00:00-07:00",
          "2019-09-30T00:00:00-07:00",
          "2019-10-31T00:00:00-07:00",
          "2019-11-30T00:00:00-07:00",
          "2019-12-31T00:00:00-07:00",
          "2020-01-31T00:00:00-07:00",
          "2020-02-29T00:00:00-07:00",
          "2020-03-31T00:00:00-07:00",
          "2020-04-30T00:00:00-07:00",
          "2020-05-31T00:00:00-07:00",
          "2020-06-30T00:00:00-07:00",
          "2020-07-31T00:00:00-07:00",
          "2020-08-31T00:00:00-07:00",
          "2020-09-30T00:00:00-07:00",
          "2020-10-31T00:00:00-07:00",
          "2020-11-30T00:00:00-07:00",
          "2020-12-31T00:00:00-07:00",
          "2021-01-31T00:00:00-07:00",
          "2021-02-28T00:00:00-07:00",
          "2021-03-31T00:00:00-07:00",
          "2021-04-30T00:00:00-07:00",
          "2021-05-31T00:00:00-07:00",
          "2021-06-30T00:00:00-07:00",
          "2021-07-31T00:00:00-07:00",
          "2021-08-31T00:00:00-07:00",
          "2021-09-30T00:00:00-07:00",
          "2021-10-31T00:00:00-07:00",
          "2021-11-30T00:00:00-07:00",
          "2021-12-31T00:00:00-07:00",
          "2022-01-31T00:00:00-07:00",
          "2022-02-28T00:00:00-07:00",
          "2022-03-31T00:00:00-07:00",
          "2022-04-30T00:00:00-07:00",
          "2022-05-31T00:00:00-07:00",
          "2022-06-30T00:00:00-07:00",
          "2022-07-31T00:00:00-07:00",
          "2022-08-31T00:00:00-07:00",
          "2022-09-30T00:00:00-07:00",
          "2022-10-31T00:00:00-07:00",
          "2022-11-30T00:00:00-07:00",
          "2022-12-31T00:00:00-07:00",
          "2023-01-31T00:00:00-07:00",
          "2023-02-28T00:00:00-07:00",
          "2023-03-31T00:00:00-07:00",
          "2023-04-30T00:00:00-07:00",
          "2023-05-31T00:00:00-07:00",
          "2023-06-30T00:00:00-07:00",
          "2023-07-31T00:00:00-07:00",
          "2023-08-31T00:00:00-07:00",
          "2023-09-30T00:00:00-07:00",
          "2023-10-31T00:00:00-07:00",
          "2023-11-30T00:00:00-07:00",
          "2023-12-31T00:00:00-07:00",
          "2024-01-31T00:00:00-07:00",
          "2024-02-29T00:00:00-07:00",
          "2024-03-31T00:00:00-07:00",
          "2024-04-30T00:00:00-07:00",
          "2024-05-31T00:00:00-07:00",
          "2024-06-30T00:00:00-07:00"
         ],
         "xaxis": "x10",
         "y": [
          3642935,
          3518060,
          2955493,
          3114174,
          1772165,
          1246203,
          1720159,
          2192122,
          2308003,
          2768076,
          3497785,
          3591734,
          3970194,
          3362571,
          2760458,
          2535873,
          2132297,
          1784261,
          1919370,
          2440232,
          3084269,
          3774506,
          4095243,
          3991499,
          3811300,
          3778309,
          3340321,
          2829270,
          2334142,
          1603654,
          2266763,
          2671413,
          3355259,
          3782407,
          4463314,
          4595133,
          4466896,
          4157159,
          3548294,
          3294318,
          2573685,
          1849940,
          1983720,
          2418378,
          2663436,
          3730056,
          4326003,
          4653991,
          4889517,
          4415001,
          4044403,
          3713671,
          2873139,
          2328138,
          2301958,
          2685249,
          3450581,
          4421340,
          5449656,
          5674214
         ],
         "yaxis": "y10"
        },
        {
         "hovertemplate": "component=trend<br>model=additive<br>month=%{x}<br>value=%{y}<extra></extra>",
         "legendgroup": "trend",
         "line": {
          "color": "#EF553B",
          "dash": "solid"
         },
         "marker": {
          "symbol": "circle"
         },
         "mode": "lines",
         "name": "trend",
         "orientation": "v",
         "showlegend": true,
         "type": "scatter",
         "x": [
          "2019-07-31T00:00:00-07:00",
          "2019-08-31T00:00:00-07:00",
          "2019-09-30T00:00:00-07:00",
          "2019-10-31T00:00:00-07:00",
          "2019-11-30T00:00:00-07:00",
          "2019-12-31T00:00:00-07:00",
          "2020-01-31T00:00:00-07:00",
          "2020-02-29T00:00:00-07:00",
          "2020-03-31T00:00:00-07:00",
          "2020-04-30T00:00:00-07:00",
          "2020-05-31T00:00:00-07:00",
          "2020-06-30T00:00:00-07:00",
          "2020-07-31T00:00:00-07:00",
          "2020-08-31T00:00:00-07:00",
          "2020-09-30T00:00:00-07:00",
          "2020-10-31T00:00:00-07:00",
          "2020-11-30T00:00:00-07:00",
          "2020-12-31T00:00:00-07:00",
          "2021-01-31T00:00:00-07:00",
          "2021-02-28T00:00:00-07:00",
          "2021-03-31T00:00:00-07:00",
          "2021-04-30T00:00:00-07:00",
          "2021-05-31T00:00:00-07:00",
          "2021-06-30T00:00:00-07:00",
          "2021-07-31T00:00:00-07:00",
          "2021-08-31T00:00:00-07:00",
          "2021-09-30T00:00:00-07:00",
          "2021-10-31T00:00:00-07:00",
          "2021-11-30T00:00:00-07:00",
          "2021-12-31T00:00:00-07:00",
          "2022-01-31T00:00:00-07:00",
          "2022-02-28T00:00:00-07:00",
          "2022-03-31T00:00:00-07:00",
          "2022-04-30T00:00:00-07:00",
          "2022-05-31T00:00:00-07:00",
          "2022-06-30T00:00:00-07:00",
          "2022-07-31T00:00:00-07:00",
          "2022-08-31T00:00:00-07:00",
          "2022-09-30T00:00:00-07:00",
          "2022-10-31T00:00:00-07:00",
          "2022-11-30T00:00:00-07:00",
          "2022-12-31T00:00:00-07:00",
          "2023-01-31T00:00:00-07:00",
          "2023-02-28T00:00:00-07:00",
          "2023-03-31T00:00:00-07:00",
          "2023-04-30T00:00:00-07:00",
          "2023-05-31T00:00:00-07:00",
          "2023-06-30T00:00:00-07:00",
          "2023-07-31T00:00:00-07:00",
          "2023-08-31T00:00:00-07:00",
          "2023-09-30T00:00:00-07:00",
          "2023-10-31T00:00:00-07:00",
          "2023-11-30T00:00:00-07:00",
          "2023-12-31T00:00:00-07:00",
          "2024-01-31T00:00:00-07:00",
          "2024-02-29T00:00:00-07:00",
          "2024-03-31T00:00:00-07:00",
          "2024-04-30T00:00:00-07:00",
          "2024-05-31T00:00:00-07:00",
          "2024-06-30T00:00:00-07:00"
         ],
         "xaxis": "x7",
         "y": [
          2627489.75,
          2656524.375,
          2671304.4166666665,
          2659257,
          2672932,
          2693040.458333333,
          2707544.875,
          2714701.958333333,
          2700096.791666667,
          2667874.458333333,
          2658784.083333333,
          2696208.6666666665,
          2726928.208333333,
          2745566.583333333,
          2788248.916666667,
          2862527.9166666665,
          2929356.583333333,
          2970907.5416666665,
          2980943.833333333,
          2991645.6666666665,
          3033129.0416666665,
          3069514.875,
          3090149.958333333,
          3091034.875,
          3097984.2916666665,
          3122091.5416666665,
          3143015.333333333,
          3154635.7916666665,
          3170301.291666666,
          3210789,
          3263256.9166666665,
          3306358.833333333,
          3330809.7916666665,
          3358852.333333333,
          3388210.291666666,
          3408453.1666666665,
          3406921.625,
          3384585.0416666665,
          3345215.958333333,
          3314208.708333333,
          3306306.125,
          3303037.25,
          3323098.875,
          3351451.5,
          3382866.125,
          3421010.375,
          3450960.6666666665,
          3483362.833333333,
          3516547.6666666665,
          3540927.208333333,
          3584844.5416666665,
          3646445.75,
          3722068.1249999995,
          3811396.2916666665,
          3878189.208333333,
          3948896.6249999995,
          4032429.208333333,
          4087369.5416666665,
          4108493.208333333,
          4125992.2916666665
         ],
         "yaxis": "y7"
        },
        {
         "hovertemplate": "component=trend<br>model=multiplicative<br>month=%{x}<br>value=%{y}<extra></extra>",
         "legendgroup": "trend",
         "line": {
          "color": "#EF553B",
          "dash": "solid"
         },
         "marker": {
          "symbol": "circle"
         },
         "mode": "lines",
         "name": "trend",
         "orientation": "v",
         "showlegend": false,
         "type": "scatter",
         "x": [
          "2019-07-31T00:00:00-07:00",
          "2019-08-31T00:00:00-07:00",
          "2019-09-30T00:00:00-07:00",
          "2019-10-31T00:00:00-07:00",
          "2019-11-30T00:00:00-07:00",
          "2019-12-31T00:00:00-07:00",
          "2020-01-31T00:00:00-07:00",
          "2020-02-29T00:00:00-07:00",
          "2020-03-31T00:00:00-07:00",
          "2020-04-30T00:00:00-07:00",
          "2020-05-31T00:00:00-07:00",
          "2020-06-30T00:00:00-07:00",
          "2020-07-31T00:00:00-07:00",
          "2020-08-31T00:00:00-07:00",
          "2020-09-30T00:00:00-07:00",
          "2020-10-31T00:00:00-07:00",
          "2020-11-30T00:00:00-07:00",
          "2020-12-31T00:00:00-07:00",
          "2021-01-31T00:00:00-07:00",
          "2021-02-28T00:00:00-07:00",
          "2021-03-31T00:00:00-07:00",
          "2021-04-30T00:00:00-07:00",
          "2021-05-31T00:00:00-07:00",
          "2021-06-30T00:00:00-07:00",
          "2021-07-31T00:00:00-07:00",
          "2021-08-31T00:00:00-07:00",
          "2021-09-30T00:00:00-07:00",
          "2021-10-31T00:00:00-07:00",
          "2021-11-30T00:00:00-07:00",
          "2021-12-31T00:00:00-07:00",
          "2022-01-31T00:00:00-07:00",
          "2022-02-28T00:00:00-07:00",
          "2022-03-31T00:00:00-07:00",
          "2022-04-30T00:00:00-07:00",
          "2022-05-31T00:00:00-07:00",
          "2022-06-30T00:00:00-07:00",
          "2022-07-31T00:00:00-07:00",
          "2022-08-31T00:00:00-07:00",
          "2022-09-30T00:00:00-07:00",
          "2022-10-31T00:00:00-07:00",
          "2022-11-30T00:00:00-07:00",
          "2022-12-31T00:00:00-07:00",
          "2023-01-31T00:00:00-07:00",
          "2023-02-28T00:00:00-07:00",
          "2023-03-31T00:00:00-07:00",
          "2023-04-30T00:00:00-07:00",
          "2023-05-31T00:00:00-07:00",
          "2023-06-30T00:00:00-07:00",
          "2023-07-31T00:00:00-07:00",
          "2023-08-31T00:00:00-07:00",
          "2023-09-30T00:00:00-07:00",
          "2023-10-31T00:00:00-07:00",
          "2023-11-30T00:00:00-07:00",
          "2023-12-31T00:00:00-07:00",
          "2024-01-31T00:00:00-07:00",
          "2024-02-29T00:00:00-07:00",
          "2024-03-31T00:00:00-07:00",
          "2024-04-30T00:00:00-07:00",
          "2024-05-31T00:00:00-07:00",
          "2024-06-30T00:00:00-07:00"
         ],
         "xaxis": "x8",
         "y": [
          2627489.75,
          2656524.375,
          2671304.4166666665,
          2659257,
          2672932,
          2693040.458333333,
          2707544.875,
          2714701.958333333,
          2700096.791666667,
          2667874.458333333,
          2658784.083333333,
          2696208.6666666665,
          2726928.208333333,
          2745566.583333333,
          2788248.916666667,
          2862527.9166666665,
          2929356.583333333,
          2970907.5416666665,
          2980943.833333333,
          2991645.6666666665,
          3033129.0416666665,
          3069514.875,
          3090149.958333333,
          3091034.875,
          3097984.2916666665,
          3122091.5416666665,
          3143015.333333333,
          3154635.7916666665,
          3170301.291666666,
          3210789,
          3263256.9166666665,
          3306358.833333333,
          3330809.7916666665,
          3358852.333333333,
          3388210.291666666,
          3408453.1666666665,
          3406921.625,
          3384585.0416666665,
          3345215.958333333,
          3314208.708333333,
          3306306.125,
          3303037.25,
          3323098.875,
          3351451.5,
          3382866.125,
          3421010.375,
          3450960.6666666665,
          3483362.833333333,
          3516547.6666666665,
          3540927.208333333,
          3584844.5416666665,
          3646445.75,
          3722068.1249999995,
          3811396.2916666665,
          3878189.208333333,
          3948896.6249999995,
          4032429.208333333,
          4087369.5416666665,
          4108493.208333333,
          4125992.2916666665
         ],
         "yaxis": "y8"
        },
        {
         "hovertemplate": "component=seasonal<br>model=additive<br>month=%{x}<br>value=%{y}<extra></extra>",
         "legendgroup": "seasonal",
         "line": {
          "color": "#00cc96",
          "dash": "solid"
         },
         "marker": {
          "symbol": "circle"
         },
         "mode": "lines",
         "name": "seasonal",
         "orientation": "v",
         "showlegend": true,
         "type": "scatter",
         "x": [
          "2019-07-31T00:00:00-07:00",
          "2019-08-31T00:00:00-07:00",
          "2019-09-30T00:00:00-07:00",
          "2019-10-31T00:00:00-07:00",
          "2019-11-30T00:00:00-07:00",
          "2019-12-31T00:00:00-07:00",
          "2020-01-31T00:00:00-07:00",
          "2020-02-29T00:00:00-07:00",
          "2020-03-31T00:00:00-07:00",
          "2020-04-30T00:00:00-07:00",
          "2020-05-31T00:00:00-07:00",
          "2020-06-30T00:00:00-07:00",
          "2020-07-31T00:00:00-07:00",
          "2020-08-31T00:00:00-07:00",
          "2020-09-30T00:00:00-07:00",
          "2020-10-31T00:00:00-07:00",
          "2020-11-30T00:00:00-07:00",
          "2020-12-31T00:00:00-07:00",
          "2021-01-31T00:00:00-07:00",
          "2021-02-28T00:00:00-07:00",
          "2021-03-31T00:00:00-07:00",
          "2021-04-30T00:00:00-07:00",
          "2021-05-31T00:00:00-07:00",
          "2021-06-30T00:00:00-07:00",
          "2021-07-31T00:00:00-07:00",
          "2021-08-31T00:00:00-07:00",
          "2021-09-30T00:00:00-07:00",
          "2021-10-31T00:00:00-07:00",
          "2021-11-30T00:00:00-07:00",
          "2021-12-31T00:00:00-07:00",
          "2022-01-31T00:00:00-07:00",
          "2022-02-28T00:00:00-07:00",
          "2022-03-31T00:00:00-07:00",
          "2022-04-30T00:00:00-07:00",
          "2022-05-31T00:00:00-07:00",
          "2022-06-30T00:00:00-07:00",
          "2022-07-31T00:00:00-07:00",
          "2022-08-31T00:00:00-07:00",
          "2022-09-30T00:00:00-07:00",
          "2022-10-31T00:00:00-07:00",
          "2022-11-30T00:00:00-07:00",
          "2022-12-31T00:00:00-07:00",
          "2023-01-31T00:00:00-07:00",
          "2023-02-28T00:00:00-07:00",
          "2023-03-31T00:00:00-07:00",
          "2023-04-30T00:00:00-07:00",
          "2023-05-31T00:00:00-07:00",
          "2023-06-30T00:00:00-07:00",
          "2023-07-31T00:00:00-07:00",
          "2023-08-31T00:00:00-07:00",
          "2023-09-30T00:00:00-07:00",
          "2023-10-31T00:00:00-07:00",
          "2023-11-30T00:00:00-07:00",
          "2023-12-31T00:00:00-07:00",
          "2024-01-31T00:00:00-07:00",
          "2024-02-29T00:00:00-07:00",
          "2024-03-31T00:00:00-07:00",
          "2024-04-30T00:00:00-07:00",
          "2024-05-31T00:00:00-07:00",
          "2024-06-30T00:00:00-07:00"
         ],
         "xaxis": "x5",
         "y": [
          1079583.861111111,
          754870.8194444445,
          221857.7361111111,
          -31364.063888888915,
          -824517.4555555554,
          -1436805.138888889,
          -1193622.9722222225,
          -782542.3472222221,
          -324966.82222222234,
          372942.45277777774,
          1025670.3277777779,
          1138893.6027777777,
          1079583.861111111,
          754870.8194444445,
          221857.7361111111,
          -31364.063888888915,
          -824517.4555555554,
          -1436805.138888889,
          -1193622.9722222225,
          -782542.3472222221,
          -324966.82222222234,
          372942.45277777774,
          1025670.3277777779,
          1138893.6027777777,
          1079583.861111111,
          754870.8194444445,
          221857.7361111111,
          -31364.063888888915,
          -824517.4555555554,
          -1436805.138888889,
          -1193622.9722222225,
          -782542.3472222221,
          -324966.82222222234,
          372942.45277777774,
          1025670.3277777779,
          1138893.6027777777,
          1079583.861111111,
          754870.8194444445,
          221857.7361111111,
          -31364.063888888915,
          -824517.4555555554,
          -1436805.138888889,
          -1193622.9722222225,
          -782542.3472222221,
          -324966.82222222234,
          372942.45277777774,
          1025670.3277777779,
          1138893.6027777777,
          1079583.861111111,
          754870.8194444445,
          221857.7361111111,
          -31364.063888888915,
          -824517.4555555554,
          -1436805.138888889,
          -1193622.9722222225,
          -782542.3472222221,
          -324966.82222222234,
          372942.45277777774,
          1025670.3277777779,
          1138893.6027777777
         ],
         "yaxis": "y5"
        },
        {
         "hovertemplate": "component=seasonal<br>model=multiplicative<br>month=%{x}<br>value=%{y}<extra></extra>",
         "legendgroup": "seasonal",
         "line": {
          "color": "#00cc96",
          "dash": "solid"
         },
         "marker": {
          "symbol": "circle"
         },
         "mode": "lines",
         "name": "seasonal",
         "orientation": "v",
         "showlegend": false,
         "type": "scatter",
         "x": [
          "2019-07-31T00:00:00-07:00",
          "2019-08-31T00:00:00-07:00",
          "2019-09-30T00:00:00-07:00",
          "2019-10-31T00:00:00-07:00",
          "2019-11-30T00:00:00-07:00",
          "2019-12-31T00:00:00-07:00",
          "2020-01-31T00:00:00-07:00",
          "2020-02-29T00:00:00-07:00",
          "2020-03-31T00:00:00-07:00",
          "2020-04-30T00:00:00-07:00",
          "2020-05-31T00:00:00-07:00",
          "2020-06-30T00:00:00-07:00",
          "2020-07-31T00:00:00-07:00",
          "2020-08-31T00:00:00-07:00",
          "2020-09-30T00:00:00-07:00",
          "2020-10-31T00:00:00-07:00",
          "2020-11-30T00:00:00-07:00",
          "2020-12-31T00:00:00-07:00",
          "2021-01-31T00:00:00-07:00",
          "2021-02-28T00:00:00-07:00",
          "2021-03-31T00:00:00-07:00",
          "2021-04-30T00:00:00-07:00",
          "2021-05-31T00:00:00-07:00",
          "2021-06-30T00:00:00-07:00",
          "2021-07-31T00:00:00-07:00",
          "2021-08-31T00:00:00-07:00",
          "2021-09-30T00:00:00-07:00",
          "2021-10-31T00:00:00-07:00",
          "2021-11-30T00:00:00-07:00",
          "2021-12-31T00:00:00-07:00",
          "2022-01-31T00:00:00-07:00",
          "2022-02-28T00:00:00-07:00",
          "2022-03-31T00:00:00-07:00",
          "2022-04-30T00:00:00-07:00",
          "2022-05-31T00:00:00-07:00",
          "2022-06-30T00:00:00-07:00",
          "2022-07-31T00:00:00-07:00",
          "2022-08-31T00:00:00-07:00",
          "2022-09-30T00:00:00-07:00",
          "2022-10-31T00:00:00-07:00",
          "2022-11-30T00:00:00-07:00",
          "2022-12-31T00:00:00-07:00",
          "2023-01-31T00:00:00-07:00",
          "2023-02-28T00:00:00-07:00",
          "2023-03-31T00:00:00-07:00",
          "2023-04-30T00:00:00-07:00",
          "2023-05-31T00:00:00-07:00",
          "2023-06-30T00:00:00-07:00",
          "2023-07-31T00:00:00-07:00",
          "2023-08-31T00:00:00-07:00",
          "2023-09-30T00:00:00-07:00",
          "2023-10-31T00:00:00-07:00",
          "2023-11-30T00:00:00-07:00",
          "2023-12-31T00:00:00-07:00",
          "2024-01-31T00:00:00-07:00",
          "2024-02-29T00:00:00-07:00",
          "2024-03-31T00:00:00-07:00",
          "2024-04-30T00:00:00-07:00",
          "2024-05-31T00:00:00-07:00",
          "2024-06-30T00:00:00-07:00"
         ],
         "xaxis": "x6",
         "y": [
          1.3539460411616655,
          1.246044374117544,
          1.0689138339381026,
          0.9925950086771089,
          0.7350149151616091,
          0.5463781265652433,
          0.6324519475627834,
          0.7660415546984258,
          0.9038085439059794,
          1.1123419441976479,
          1.3067624009872199,
          1.33570130902667,
          1.3539460411616655,
          1.246044374117544,
          1.0689138339381026,
          0.9925950086771089,
          0.7350149151616091,
          0.5463781265652433,
          0.6324519475627834,
          0.7660415546984258,
          0.9038085439059794,
          1.1123419441976479,
          1.3067624009872199,
          1.33570130902667,
          1.3539460411616655,
          1.246044374117544,
          1.0689138339381026,
          0.9925950086771089,
          0.7350149151616091,
          0.5463781265652433,
          0.6324519475627834,
          0.7660415546984258,
          0.9038085439059794,
          1.1123419441976479,
          1.3067624009872199,
          1.33570130902667,
          1.3539460411616655,
          1.246044374117544,
          1.0689138339381026,
          0.9925950086771089,
          0.7350149151616091,
          0.5463781265652433,
          0.6324519475627834,
          0.7660415546984258,
          0.9038085439059794,
          1.1123419441976479,
          1.3067624009872199,
          1.33570130902667,
          1.3539460411616655,
          1.246044374117544,
          1.0689138339381026,
          0.9925950086771089,
          0.7350149151616091,
          0.5463781265652433,
          0.6324519475627834,
          0.7660415546984258,
          0.9038085439059794,
          1.1123419441976479,
          1.3067624009872199,
          1.33570130902667
         ],
         "yaxis": "y6"
        },
        {
         "hovertemplate": "component=residual<br>model=additive<br>month=%{x}<br>value=%{y}<extra></extra>",
         "legendgroup": "residual",
         "line": {
          "color": "#ab63fa",
          "dash": "solid"
         },
         "marker": {
          "symbol": "circle"
         },
         "mode": "lines",
         "name": "residual",
         "orientation": "v",
         "showlegend": true,
         "type": "scatter",
         "x": [
          "2019-07-31T00:00:00-07:00",
          "2019-08-31T00:00:00-07:00",
          "2019-09-30T00:00:00-07:00",
          "2019-10-31T00:00:00-07:00",
          "2019-11-30T00:00:00-07:00",
          "2019-12-31T00:00:00-07:00",
          "2020-01-31T00:00:00-07:00",
          "2020-02-29T00:00:00-07:00",
          "2020-03-31T00:00:00-07:00",
          "2020-04-30T00:00:00-07:00",
          "2020-05-31T00:00:00-07:00",
          "2020-06-30T00:00:00-07:00",
          "2020-07-31T00:00:00-07:00",
          "2020-08-31T00:00:00-07:00",
          "2020-09-30T00:00:00-07:00",
          "2020-10-31T00:00:00-07:00",
          "2020-11-30T00:00:00-07:00",
          "2020-12-31T00:00:00-07:00",
          "2021-01-31T00:00:00-07:00",
          "2021-02-28T00:00:00-07:00",
          "2021-03-31T00:00:00-07:00",
          "2021-04-30T00:00:00-07:00",
          "2021-05-31T00:00:00-07:00",
          "2021-06-30T00:00:00-07:00",
          "2021-07-31T00:00:00-07:00",
          "2021-08-31T00:00:00-07:00",
          "2021-09-30T00:00:00-07:00",
          "2021-10-31T00:00:00-07:00",
          "2021-11-30T00:00:00-07:00",
          "2021-12-31T00:00:00-07:00",
          "2022-01-31T00:00:00-07:00",
          "2022-02-28T00:00:00-07:00",
          "2022-03-31T00:00:00-07:00",
          "2022-04-30T00:00:00-07:00",
          "2022-05-31T00:00:00-07:00",
          "2022-06-30T00:00:00-07:00",
          "2022-07-31T00:00:00-07:00",
          "2022-08-31T00:00:00-07:00",
          "2022-09-30T00:00:00-07:00",
          "2022-10-31T00:00:00-07:00",
          "2022-11-30T00:00:00-07:00",
          "2022-12-31T00:00:00-07:00",
          "2023-01-31T00:00:00-07:00",
          "2023-02-28T00:00:00-07:00",
          "2023-03-31T00:00:00-07:00",
          "2023-04-30T00:00:00-07:00",
          "2023-05-31T00:00:00-07:00",
          "2023-06-30T00:00:00-07:00",
          "2023-07-31T00:00:00-07:00",
          "2023-08-31T00:00:00-07:00",
          "2023-09-30T00:00:00-07:00",
          "2023-10-31T00:00:00-07:00",
          "2023-11-30T00:00:00-07:00",
          "2023-12-31T00:00:00-07:00",
          "2024-01-31T00:00:00-07:00",
          "2024-02-29T00:00:00-07:00",
          "2024-03-31T00:00:00-07:00",
          "2024-04-30T00:00:00-07:00",
          "2024-05-31T00:00:00-07:00",
          "2024-06-30T00:00:00-07:00"
         ],
         "xaxis": "x3",
         "y": [
          -64138.61111111101,
          106664.8055555555,
          62330.84722222239,
          486281.0638888889,
          -76249.54444444459,
          -10032.31944444403,
          206237.09722222248,
          259962.3888888891,
          -67126.96944444464,
          -272740.91111111076,
          -186669.41111111094,
          -243368.26944444422,
          163681.93055555597,
          -137866.40277777752,
          -249648.65277777807,
          -295290.8527777776,
          27457.872222222388,
          250158.59722222248,
          132049.13888888946,
          231128.68055555562,
          376106.78055555583,
          332048.67222222226,
          -20577.286111110938,
          -238429.4777777777,
          -366268.1527777775,
          -98653.36111111101,
          -24552.069444444118,
          -294001.7277777776,
          -11641.836111110635,
          -170329.861111111,
          197129.05555555597,
          147596.5138888891,
          349416.03055555583,
          50612.21388888924,
          49433.38055555604,
          47786.23055555578,
          -19609.486111111008,
          17703.138888888992,
          -18779.694444444118,
          11473.355555555892,
          91896.33055555541,
          -16292.111111111008,
          -145755.90277777752,
          -150531.15277777787,
          -394463.30277777766,
          -63896.82777777774,
          -150627.99444444443,
          31734.56388888927,
          293385.4722222225,
          119202.97222222248,
          237700.7222222224,
          98589.31388888892,
          -24411.669444444124,
          -46453.15277777752,
          -382608.23611111054,
          -481105.2777777774,
          -256881.38611111068,
          -38971.99444444425,
          315492.46388888906,
          409328.1055555558
         ],
         "yaxis": "y3"
        },
        {
         "hovertemplate": "component=residual<br>model=multiplicative<br>month=%{x}<br>value=%{y}<extra></extra>",
         "legendgroup": "residual",
         "line": {
          "color": "#ab63fa",
          "dash": "solid"
         },
         "marker": {
          "symbol": "circle"
         },
         "mode": "lines",
         "name": "residual",
         "orientation": "v",
         "showlegend": false,
         "type": "scatter",
         "x": [
          "2019-07-31T00:00:00-07:00",
          "2019-08-31T00:00:00-07:00",
          "2019-09-30T00:00:00-07:00",
          "2019-10-31T00:00:00-07:00",
          "2019-11-30T00:00:00-07:00",
          "2019-12-31T00:00:00-07:00",
          "2020-01-31T00:00:00-07:00",
          "2020-02-29T00:00:00-07:00",
          "2020-03-31T00:00:00-07:00",
          "2020-04-30T00:00:00-07:00",
          "2020-05-31T00:00:00-07:00",
          "2020-06-30T00:00:00-07:00",
          "2020-07-31T00:00:00-07:00",
          "2020-08-31T00:00:00-07:00",
          "2020-09-30T00:00:00-07:00",
          "2020-10-31T00:00:00-07:00",
          "2020-11-30T00:00:00-07:00",
          "2020-12-31T00:00:00-07:00",
          "2021-01-31T00:00:00-07:00",
          "2021-02-28T00:00:00-07:00",
          "2021-03-31T00:00:00-07:00",
          "2021-04-30T00:00:00-07:00",
          "2021-05-31T00:00:00-07:00",
          "2021-06-30T00:00:00-07:00",
          "2021-07-31T00:00:00-07:00",
          "2021-08-31T00:00:00-07:00",
          "2021-09-30T00:00:00-07:00",
          "2021-10-31T00:00:00-07:00",
          "2021-11-30T00:00:00-07:00",
          "2021-12-31T00:00:00-07:00",
          "2022-01-31T00:00:00-07:00",
          "2022-02-28T00:00:00-07:00",
          "2022-03-31T00:00:00-07:00",
          "2022-04-30T00:00:00-07:00",
          "2022-05-31T00:00:00-07:00",
          "2022-06-30T00:00:00-07:00",
          "2022-07-31T00:00:00-07:00",
          "2022-08-31T00:00:00-07:00",
          "2022-09-30T00:00:00-07:00",
          "2022-10-31T00:00:00-07:00",
          "2022-11-30T00:00:00-07:00",
          "2022-12-31T00:00:00-07:00",
          "2023-01-31T00:00:00-07:00",
          "2023-02-28T00:00:00-07:00",
          "2023-03-31T00:00:00-07:00",
          "2023-04-30T00:00:00-07:00",
          "2023-05-31T00:00:00-07:00",
          "2023-06-30T00:00:00-07:00",
          "2023-07-31T00:00:00-07:00",
          "2023-08-31T00:00:00-07:00",
          "2023-09-30T00:00:00-07:00",
          "2023-10-31T00:00:00-07:00",
          "2023-11-30T00:00:00-07:00",
          "2023-12-31T00:00:00-07:00",
          "2024-01-31T00:00:00-07:00",
          "2024-02-29T00:00:00-07:00",
          "2024-03-31T00:00:00-07:00",
          "2024-04-30T00:00:00-07:00",
          "2024-05-31T00:00:00-07:00",
          "2024-06-30T00:00:00-07:00"
         ],
         "xaxis": "x4",
         "y": [
          1.0240214057489385,
          1.0628107247158023,
          1.0350560188030316,
          1.17980566288609,
          0.9020281535530718,
          0.8469399320213096,
          1.0045357433109279,
          1.0541204418617267,
          0.9457592414812845,
          0.9327694351909105,
          1.0067309272968128,
          0.997335582422826,
          1.0753173856468194,
          0.9828923934842193,
          0.926204536664905,
          0.8924947742317653,
          0.9903285590085328,
          1.099198031479914,
          1.0180693786562727,
          1.064801452633068,
          1.1250839232633727,
          1.1054829882789785,
          1.0141530267676244,
          0.9667691159227673,
          0.9086414968693611,
          0.9712215973829397,
          0.9942577991726231,
          0.9035518536269806,
          1.0016836466937948,
          0.9141250301172752,
          1.0983160083329542,
          1.0547237392788245,
          1.1145505609266328,
          1.0123694556186438,
          1.0080694504180268,
          1.0093258667053584,
          0.9683722631000447,
          0.9857293685260834,
          0.9923222726193042,
          1.0014138143354872,
          1.0590493005374464,
          1.0250637293115268,
          0.9438643310250151,
          0.9419739993732663,
          0.8711260717974428,
          0.9802179401678782,
          0.959290573263898,
          1.0002705300072428,
          1.0269471525277796,
          1.0006456197838975,
          1.0554590766330791,
          1.0260335988126204,
          1.0502100441000974,
          1.1179729809629173,
          0.9385142425677732,
          0.887680070746056,
          0.9467799064242098,
          0.9724598846365327,
          1.01505572614658,
          1.0295986088347482
         ],
         "yaxis": "y4"
        },
        {
         "hovertemplate": "component=model_result<br>model=additive<br>month=%{x}<br>value=%{y}<extra></extra>",
         "legendgroup": "model_result",
         "line": {
          "color": "#FFA15A",
          "dash": "solid"
         },
         "marker": {
          "symbol": "circle"
         },
         "mode": "lines",
         "name": "model_result",
         "orientation": "v",
         "showlegend": true,
         "type": "scatter",
         "x": [
          "2019-07-31T00:00:00-07:00",
          "2019-08-31T00:00:00-07:00",
          "2019-09-30T00:00:00-07:00",
          "2019-10-31T00:00:00-07:00",
          "2019-11-30T00:00:00-07:00",
          "2019-12-31T00:00:00-07:00",
          "2020-01-31T00:00:00-07:00",
          "2020-02-29T00:00:00-07:00",
          "2020-03-31T00:00:00-07:00",
          "2020-04-30T00:00:00-07:00",
          "2020-05-31T00:00:00-07:00",
          "2020-06-30T00:00:00-07:00",
          "2020-07-31T00:00:00-07:00",
          "2020-08-31T00:00:00-07:00",
          "2020-09-30T00:00:00-07:00",
          "2020-10-31T00:00:00-07:00",
          "2020-11-30T00:00:00-07:00",
          "2020-12-31T00:00:00-07:00",
          "2021-01-31T00:00:00-07:00",
          "2021-02-28T00:00:00-07:00",
          "2021-03-31T00:00:00-07:00",
          "2021-04-30T00:00:00-07:00",
          "2021-05-31T00:00:00-07:00",
          "2021-06-30T00:00:00-07:00",
          "2021-07-31T00:00:00-07:00",
          "2021-08-31T00:00:00-07:00",
          "2021-09-30T00:00:00-07:00",
          "2021-10-31T00:00:00-07:00",
          "2021-11-30T00:00:00-07:00",
          "2021-12-31T00:00:00-07:00",
          "2022-01-31T00:00:00-07:00",
          "2022-02-28T00:00:00-07:00",
          "2022-03-31T00:00:00-07:00",
          "2022-04-30T00:00:00-07:00",
          "2022-05-31T00:00:00-07:00",
          "2022-06-30T00:00:00-07:00",
          "2022-07-31T00:00:00-07:00",
          "2022-08-31T00:00:00-07:00",
          "2022-09-30T00:00:00-07:00",
          "2022-10-31T00:00:00-07:00",
          "2022-11-30T00:00:00-07:00",
          "2022-12-31T00:00:00-07:00",
          "2023-01-31T00:00:00-07:00",
          "2023-02-28T00:00:00-07:00",
          "2023-03-31T00:00:00-07:00",
          "2023-04-30T00:00:00-07:00",
          "2023-05-31T00:00:00-07:00",
          "2023-06-30T00:00:00-07:00",
          "2023-07-31T00:00:00-07:00",
          "2023-08-31T00:00:00-07:00",
          "2023-09-30T00:00:00-07:00",
          "2023-10-31T00:00:00-07:00",
          "2023-11-30T00:00:00-07:00",
          "2023-12-31T00:00:00-07:00",
          "2024-01-31T00:00:00-07:00",
          "2024-02-29T00:00:00-07:00",
          "2024-03-31T00:00:00-07:00",
          "2024-04-30T00:00:00-07:00",
          "2024-05-31T00:00:00-07:00",
          "2024-06-30T00:00:00-07:00"
         ],
         "xaxis": "x",
         "y": [
          3642935,
          3518060,
          2955493,
          3114174,
          1772165,
          1246203,
          1720159,
          2192122,
          2308003,
          2768076,
          3497785,
          3591734,
          3970194,
          3362571,
          2760458,
          2535873,
          2132297,
          1784261,
          1919370,
          2440232,
          3084269,
          3774506,
          4095243,
          3991498.9999999995,
          3811300,
          3778309,
          3340321,
          2829270,
          2334142,
          1603654,
          2266763,
          2671413,
          3355259,
          3782407,
          4463314,
          4595133,
          4466896,
          4157159,
          3548294,
          3294318,
          2573685,
          1849940,
          1983720,
          2418378,
          2663436,
          3730056,
          4326003,
          4653991,
          4889517,
          4415001,
          4044403,
          3713671,
          2873139,
          2328138,
          2301958,
          2685249,
          3450581,
          4421340,
          5449656,
          5674214
         ],
         "yaxis": "y"
        },
        {
         "hovertemplate": "component=model_result<br>model=multiplicative<br>month=%{x}<br>value=%{y}<extra></extra>",
         "legendgroup": "model_result",
         "line": {
          "color": "#FFA15A",
          "dash": "solid"
         },
         "marker": {
          "symbol": "circle"
         },
         "mode": "lines",
         "name": "model_result",
         "orientation": "v",
         "showlegend": false,
         "type": "scatter",
         "x": [
          "2019-07-31T00:00:00-07:00",
          "2019-08-31T00:00:00-07:00",
          "2019-09-30T00:00:00-07:00",
          "2019-10-31T00:00:00-07:00",
          "2019-11-30T00:00:00-07:00",
          "2019-12-31T00:00:00-07:00",
          "2020-01-31T00:00:00-07:00",
          "2020-02-29T00:00:00-07:00",
          "2020-03-31T00:00:00-07:00",
          "2020-04-30T00:00:00-07:00",
          "2020-05-31T00:00:00-07:00",
          "2020-06-30T00:00:00-07:00",
          "2020-07-31T00:00:00-07:00",
          "2020-08-31T00:00:00-07:00",
          "2020-09-30T00:00:00-07:00",
          "2020-10-31T00:00:00-07:00",
          "2020-11-30T00:00:00-07:00",
          "2020-12-31T00:00:00-07:00",
          "2021-01-31T00:00:00-07:00",
          "2021-02-28T00:00:00-07:00",
          "2021-03-31T00:00:00-07:00",
          "2021-04-30T00:00:00-07:00",
          "2021-05-31T00:00:00-07:00",
          "2021-06-30T00:00:00-07:00",
          "2021-07-31T00:00:00-07:00",
          "2021-08-31T00:00:00-07:00",
          "2021-09-30T00:00:00-07:00",
          "2021-10-31T00:00:00-07:00",
          "2021-11-30T00:00:00-07:00",
          "2021-12-31T00:00:00-07:00",
          "2022-01-31T00:00:00-07:00",
          "2022-02-28T00:00:00-07:00",
          "2022-03-31T00:00:00-07:00",
          "2022-04-30T00:00:00-07:00",
          "2022-05-31T00:00:00-07:00",
          "2022-06-30T00:00:00-07:00",
          "2022-07-31T00:00:00-07:00",
          "2022-08-31T00:00:00-07:00",
          "2022-09-30T00:00:00-07:00",
          "2022-10-31T00:00:00-07:00",
          "2022-11-30T00:00:00-07:00",
          "2022-12-31T00:00:00-07:00",
          "2023-01-31T00:00:00-07:00",
          "2023-02-28T00:00:00-07:00",
          "2023-03-31T00:00:00-07:00",
          "2023-04-30T00:00:00-07:00",
          "2023-05-31T00:00:00-07:00",
          "2023-06-30T00:00:00-07:00",
          "2023-07-31T00:00:00-07:00",
          "2023-08-31T00:00:00-07:00",
          "2023-09-30T00:00:00-07:00",
          "2023-10-31T00:00:00-07:00",
          "2023-11-30T00:00:00-07:00",
          "2023-12-31T00:00:00-07:00",
          "2024-01-31T00:00:00-07:00",
          "2024-02-29T00:00:00-07:00",
          "2024-03-31T00:00:00-07:00",
          "2024-04-30T00:00:00-07:00",
          "2024-05-31T00:00:00-07:00",
          "2024-06-30T00:00:00-07:00"
         ],
         "xaxis": "x2",
         "y": [
          3642935,
          3518060,
          2955493,
          3114174.0000000005,
          1772164.9999999998,
          1246203.0000000002,
          1720159.0000000002,
          2192122,
          2308003,
          2768076,
          3497785,
          3591733.9999999995,
          3970193.9999999995,
          3362571,
          2760458,
          2535873.0000000005,
          2132297,
          1784261,
          1919369.9999999998,
          2440232,
          3084269.0000000005,
          3774506,
          4095243.0000000005,
          3991499.0000000005,
          3811300,
          3778309,
          3340320.9999999995,
          2829270,
          2334141.9999999995,
          1603654,
          2266763.0000000005,
          2671413,
          3355259,
          3782407.0000000005,
          4463314.000000001,
          4595133,
          4466896,
          4157158.9999999995,
          3548294,
          3294318.0000000005,
          2573685.0000000005,
          1849940,
          1983720,
          2418378,
          2663436.0000000005,
          3730056,
          4326002.999999999,
          4653991,
          4889517.000000001,
          4415001,
          4044403.0000000005,
          3713671.0000000005,
          2873139,
          2328138,
          2301958,
          2685249,
          3450581.0000000005,
          4421340,
          5449656,
          5674213.999999999
         ],
         "yaxis": "y2"
        }
       ],
       "layout": {
        "annotations": [
         {
          "font": {},
          "showarrow": false,
          "text": "model=additive",
          "x": 0.22,
          "xanchor": "center",
          "xref": "paper",
          "y": 1,
          "yanchor": "bottom",
          "yref": "paper"
         },
         {
          "font": {},
          "showarrow": false,
          "text": "model=multiplicative",
          "x": 0.76,
          "xanchor": "center",
          "xref": "paper",
          "y": 1,
          "yanchor": "bottom",
          "yref": "paper"
         },
         {
          "font": {},
          "showarrow": false,
          "text": "component=model_result",
          "textangle": 90,
          "x": 0.98,
          "xanchor": "left",
          "xref": "paper",
          "y": 0.08800000000000001,
          "yanchor": "middle",
          "yref": "paper"
         },
         {
          "font": {},
          "showarrow": false,
          "text": "component=residual",
          "textangle": 90,
          "x": 0.98,
          "xanchor": "left",
          "xref": "paper",
          "y": 0.29400000000000004,
          "yanchor": "middle",
          "yref": "paper"
         },
         {
          "font": {},
          "showarrow": false,
          "text": "component=seasonal",
          "textangle": 90,
          "x": 0.98,
          "xanchor": "left",
          "xref": "paper",
          "y": 0.5,
          "yanchor": "middle",
          "yref": "paper"
         },
         {
          "font": {},
          "showarrow": false,
          "text": "component=trend",
          "textangle": 90,
          "x": 0.98,
          "xanchor": "left",
          "xref": "paper",
          "y": 0.706,
          "yanchor": "middle",
          "yref": "paper"
         },
         {
          "font": {},
          "showarrow": false,
          "text": "component=values",
          "textangle": 90,
          "x": 0.98,
          "xanchor": "left",
          "xref": "paper",
          "y": 0.912,
          "yanchor": "middle",
          "yref": "paper"
         }
        ],
        "height": 500,
        "legend": {
         "title": {
          "text": "component"
         },
         "tracegroupgap": 0
        },
        "margin": {
         "t": 60
        },
        "template": {
         "data": {
          "bar": [
           {
            "error_x": {
             "color": "#f2f5fa"
            },
            "error_y": {
             "color": "#f2f5fa"
            },
            "marker": {
             "line": {
              "color": "rgb(17,17,17)",
              "width": 0.5
             },
             "pattern": {
              "fillmode": "overlay",
              "size": 10,
              "solidity": 0.2
             }
            },
            "type": "bar"
           }
          ],
          "barpolar": [
           {
            "marker": {
             "line": {
              "color": "rgb(17,17,17)",
              "width": 0.5
             },
             "pattern": {
              "fillmode": "overlay",
              "size": 10,
              "solidity": 0.2
             }
            },
            "type": "barpolar"
           }
          ],
          "carpet": [
           {
            "aaxis": {
             "endlinecolor": "#A2B1C6",
             "gridcolor": "#506784",
             "linecolor": "#506784",
             "minorgridcolor": "#506784",
             "startlinecolor": "#A2B1C6"
            },
            "baxis": {
             "endlinecolor": "#A2B1C6",
             "gridcolor": "#506784",
             "linecolor": "#506784",
             "minorgridcolor": "#506784",
             "startlinecolor": "#A2B1C6"
            },
            "type": "carpet"
           }
          ],
          "choropleth": [
           {
            "colorbar": {
             "outlinewidth": 0,
             "ticks": ""
            },
            "type": "choropleth"
           }
          ],
          "contour": [
           {
            "colorbar": {
             "outlinewidth": 0,
             "ticks": ""
            },
            "colorscale": [
             [
              0,
              "#0d0887"
             ],
             [
              0.1111111111111111,
              "#46039f"
             ],
             [
              0.2222222222222222,
              "#7201a8"
             ],
             [
              0.3333333333333333,
              "#9c179e"
             ],
             [
              0.4444444444444444,
              "#bd3786"
             ],
             [
              0.5555555555555556,
              "#d8576b"
             ],
             [
              0.6666666666666666,
              "#ed7953"
             ],
             [
              0.7777777777777778,
              "#fb9f3a"
             ],
             [
              0.8888888888888888,
              "#fdca26"
             ],
             [
              1,
              "#f0f921"
             ]
            ],
            "type": "contour"
           }
          ],
          "contourcarpet": [
           {
            "colorbar": {
             "outlinewidth": 0,
             "ticks": ""
            },
            "type": "contourcarpet"
           }
          ],
          "heatmap": [
           {
            "colorbar": {
             "outlinewidth": 0,
             "ticks": ""
            },
            "colorscale": [
             [
              0,
              "#0d0887"
             ],
             [
              0.1111111111111111,
              "#46039f"
             ],
             [
              0.2222222222222222,
              "#7201a8"
             ],
             [
              0.3333333333333333,
              "#9c179e"
             ],
             [
              0.4444444444444444,
              "#bd3786"
             ],
             [
              0.5555555555555556,
              "#d8576b"
             ],
             [
              0.6666666666666666,
              "#ed7953"
             ],
             [
              0.7777777777777778,
              "#fb9f3a"
             ],
             [
              0.8888888888888888,
              "#fdca26"
             ],
             [
              1,
              "#f0f921"
             ]
            ],
            "type": "heatmap"
           }
          ],
          "heatmapgl": [
           {
            "colorbar": {
             "outlinewidth": 0,
             "ticks": ""
            },
            "colorscale": [
             [
              0,
              "#0d0887"
             ],
             [
              0.1111111111111111,
              "#46039f"
             ],
             [
              0.2222222222222222,
              "#7201a8"
             ],
             [
              0.3333333333333333,
              "#9c179e"
             ],
             [
              0.4444444444444444,
              "#bd3786"
             ],
             [
              0.5555555555555556,
              "#d8576b"
             ],
             [
              0.6666666666666666,
              "#ed7953"
             ],
             [
              0.7777777777777778,
              "#fb9f3a"
             ],
             [
              0.8888888888888888,
              "#fdca26"
             ],
             [
              1,
              "#f0f921"
             ]
            ],
            "type": "heatmapgl"
           }
          ],
          "histogram": [
           {
            "marker": {
             "pattern": {
              "fillmode": "overlay",
              "size": 10,
              "solidity": 0.2
             }
            },
            "type": "histogram"
           }
          ],
          "histogram2d": [
           {
            "colorbar": {
             "outlinewidth": 0,
             "ticks": ""
            },
            "colorscale": [
             [
              0,
              "#0d0887"
             ],
             [
              0.1111111111111111,
              "#46039f"
             ],
             [
              0.2222222222222222,
              "#7201a8"
             ],
             [
              0.3333333333333333,
              "#9c179e"
             ],
             [
              0.4444444444444444,
              "#bd3786"
             ],
             [
              0.5555555555555556,
              "#d8576b"
             ],
             [
              0.6666666666666666,
              "#ed7953"
             ],
             [
              0.7777777777777778,
              "#fb9f3a"
             ],
             [
              0.8888888888888888,
              "#fdca26"
             ],
             [
              1,
              "#f0f921"
             ]
            ],
            "type": "histogram2d"
           }
          ],
          "histogram2dcontour": [
           {
            "colorbar": {
             "outlinewidth": 0,
             "ticks": ""
            },
            "colorscale": [
             [
              0,
              "#0d0887"
             ],
             [
              0.1111111111111111,
              "#46039f"
             ],
             [
              0.2222222222222222,
              "#7201a8"
             ],
             [
              0.3333333333333333,
              "#9c179e"
             ],
             [
              0.4444444444444444,
              "#bd3786"
             ],
             [
              0.5555555555555556,
              "#d8576b"
             ],
             [
              0.6666666666666666,
              "#ed7953"
             ],
             [
              0.7777777777777778,
              "#fb9f3a"
             ],
             [
              0.8888888888888888,
              "#fdca26"
             ],
             [
              1,
              "#f0f921"
             ]
            ],
            "type": "histogram2dcontour"
           }
          ],
          "mesh3d": [
           {
            "colorbar": {
             "outlinewidth": 0,
             "ticks": ""
            },
            "type": "mesh3d"
           }
          ],
          "parcoords": [
           {
            "line": {
             "colorbar": {
              "outlinewidth": 0,
              "ticks": ""
             }
            },
            "type": "parcoords"
           }
          ],
          "pie": [
           {
            "automargin": true,
            "type": "pie"
           }
          ],
          "scatter": [
           {
            "marker": {
             "line": {
              "color": "#283442"
             }
            },
            "type": "scatter"
           }
          ],
          "scatter3d": [
           {
            "line": {
             "colorbar": {
              "outlinewidth": 0,
              "ticks": ""
             }
            },
            "marker": {
             "colorbar": {
              "outlinewidth": 0,
              "ticks": ""
             }
            },
            "type": "scatter3d"
           }
          ],
          "scattercarpet": [
           {
            "marker": {
             "colorbar": {
              "outlinewidth": 0,
              "ticks": ""
             }
            },
            "type": "scattercarpet"
           }
          ],
          "scattergeo": [
           {
            "marker": {
             "colorbar": {
              "outlinewidth": 0,
              "ticks": ""
             }
            },
            "type": "scattergeo"
           }
          ],
          "scattergl": [
           {
            "marker": {
             "line": {
              "color": "#283442"
             }
            },
            "type": "scattergl"
           }
          ],
          "scattermapbox": [
           {
            "marker": {
             "colorbar": {
              "outlinewidth": 0,
              "ticks": ""
             }
            },
            "type": "scattermapbox"
           }
          ],
          "scatterpolar": [
           {
            "marker": {
             "colorbar": {
              "outlinewidth": 0,
              "ticks": ""
             }
            },
            "type": "scatterpolar"
           }
          ],
          "scatterpolargl": [
           {
            "marker": {
             "colorbar": {
              "outlinewidth": 0,
              "ticks": ""
             }
            },
            "type": "scatterpolargl"
           }
          ],
          "scatterternary": [
           {
            "marker": {
             "colorbar": {
              "outlinewidth": 0,
              "ticks": ""
             }
            },
            "type": "scatterternary"
           }
          ],
          "surface": [
           {
            "colorbar": {
             "outlinewidth": 0,
             "ticks": ""
            },
            "colorscale": [
             [
              0,
              "#0d0887"
             ],
             [
              0.1111111111111111,
              "#46039f"
             ],
             [
              0.2222222222222222,
              "#7201a8"
             ],
             [
              0.3333333333333333,
              "#9c179e"
             ],
             [
              0.4444444444444444,
              "#bd3786"
             ],
             [
              0.5555555555555556,
              "#d8576b"
             ],
             [
              0.6666666666666666,
              "#ed7953"
             ],
             [
              0.7777777777777778,
              "#fb9f3a"
             ],
             [
              0.8888888888888888,
              "#fdca26"
             ],
             [
              1,
              "#f0f921"
             ]
            ],
            "type": "surface"
           }
          ],
          "table": [
           {
            "cells": {
             "fill": {
              "color": "#506784"
             },
             "line": {
              "color": "rgb(17,17,17)"
             }
            },
            "header": {
             "fill": {
              "color": "#2a3f5f"
             },
             "line": {
              "color": "rgb(17,17,17)"
             }
            },
            "type": "table"
           }
          ]
         },
         "layout": {
          "annotationdefaults": {
           "arrowcolor": "#f2f5fa",
           "arrowhead": 0,
           "arrowwidth": 1
          },
          "autosize": false,
          "autotypenumbers": "strict",
          "coloraxis": {
           "colorbar": {
            "outlinewidth": 0,
            "ticks": ""
           }
          },
          "colorscale": {
           "diverging": [
            [
             0,
             "#8e0152"
            ],
            [
             0.1,
             "#c51b7d"
            ],
            [
             0.2,
             "#de77ae"
            ],
            [
             0.3,
             "#f1b6da"
            ],
            [
             0.4,
             "#fde0ef"
            ],
            [
             0.5,
             "#f7f7f7"
            ],
            [
             0.6,
             "#e6f5d0"
            ],
            [
             0.7,
             "#b8e186"
            ],
            [
             0.8,
             "#7fbc41"
            ],
            [
             0.9,
             "#4d9221"
            ],
            [
             1,
             "#276419"
            ]
           ],
           "sequential": [
            [
             0,
             "#0d0887"
            ],
            [
             0.1111111111111111,
             "#46039f"
            ],
            [
             0.2222222222222222,
             "#7201a8"
            ],
            [
             0.3333333333333333,
             "#9c179e"
            ],
            [
             0.4444444444444444,
             "#bd3786"
            ],
            [
             0.5555555555555556,
             "#d8576b"
            ],
            [
             0.6666666666666666,
             "#ed7953"
            ],
            [
             0.7777777777777778,
             "#fb9f3a"
            ],
            [
             0.8888888888888888,
             "#fdca26"
            ],
            [
             1,
             "#f0f921"
            ]
           ],
           "sequentialminus": [
            [
             0,
             "#0d0887"
            ],
            [
             0.1111111111111111,
             "#46039f"
            ],
            [
             0.2222222222222222,
             "#7201a8"
            ],
            [
             0.3333333333333333,
             "#9c179e"
            ],
            [
             0.4444444444444444,
             "#bd3786"
            ],
            [
             0.5555555555555556,
             "#d8576b"
            ],
            [
             0.6666666666666666,
             "#ed7953"
            ],
            [
             0.7777777777777778,
             "#fb9f3a"
            ],
            [
             0.8888888888888888,
             "#fdca26"
            ],
            [
             1,
             "#f0f921"
            ]
           ]
          },
          "colorway": [
           "#636efa",
           "#EF553B",
           "#00cc96",
           "#ab63fa",
           "#FFA15A",
           "#19d3f3",
           "#FF6692",
           "#B6E880",
           "#FF97FF",
           "#FECB52"
          ],
          "font": {
           "color": "#f2f5fa"
          },
          "geo": {
           "bgcolor": "rgb(17,17,17)",
           "lakecolor": "rgb(17,17,17)",
           "landcolor": "rgb(17,17,17)",
           "showlakes": true,
           "showland": true,
           "subunitcolor": "#506784"
          },
          "height": 500,
          "hoverlabel": {
           "align": "left"
          },
          "hovermode": "closest",
          "mapbox": {
           "style": "dark"
          },
          "paper_bgcolor": "rgb(17,17,17)",
          "plot_bgcolor": "rgb(17,17,17)",
          "polar": {
           "angularaxis": {
            "gridcolor": "#506784",
            "linecolor": "#506784",
            "ticks": ""
           },
           "bgcolor": "rgb(17,17,17)",
           "radialaxis": {
            "gridcolor": "#506784",
            "linecolor": "#506784",
            "ticks": ""
           }
          },
          "scene": {
           "xaxis": {
            "backgroundcolor": "rgb(17,17,17)",
            "gridcolor": "#506784",
            "gridwidth": 2,
            "linecolor": "#506784",
            "showbackground": true,
            "ticks": "",
            "zerolinecolor": "#C8D4E3"
           },
           "yaxis": {
            "backgroundcolor": "rgb(17,17,17)",
            "gridcolor": "#506784",
            "gridwidth": 2,
            "linecolor": "#506784",
            "showbackground": true,
            "ticks": "",
            "zerolinecolor": "#C8D4E3"
           },
           "zaxis": {
            "backgroundcolor": "rgb(17,17,17)",
            "gridcolor": "#506784",
            "gridwidth": 2,
            "linecolor": "#506784",
            "showbackground": true,
            "ticks": "",
            "zerolinecolor": "#C8D4E3"
           }
          },
          "shapedefaults": {
           "line": {
            "color": "#f2f5fa"
           }
          },
          "showlegend": true,
          "sliderdefaults": {
           "bgcolor": "#C8D4E3",
           "bordercolor": "rgb(17,17,17)",
           "borderwidth": 1,
           "tickwidth": 0
          },
          "ternary": {
           "aaxis": {
            "gridcolor": "#506784",
            "linecolor": "#506784",
            "ticks": ""
           },
           "baxis": {
            "gridcolor": "#506784",
            "linecolor": "#506784",
            "ticks": ""
           },
           "bgcolor": "rgb(17,17,17)",
           "caxis": {
            "gridcolor": "#506784",
            "linecolor": "#506784",
            "ticks": ""
           }
          },
          "title": {
           "x": 0.05
          },
          "updatemenudefaults": {
           "bgcolor": "#506784",
           "borderwidth": 0
          },
          "width": 1000,
          "xaxis": {
           "automargin": true,
           "gridcolor": "#283442",
           "linecolor": "#506784",
           "ticks": "",
           "title": {
            "standoff": 15
           },
           "zerolinecolor": "#283442",
           "zerolinewidth": 2
          },
          "yaxis": {
           "automargin": true,
           "gridcolor": "#283442",
           "linecolor": "#506784",
           "ticks": "",
           "title": {
            "standoff": 15
           },
           "zerolinecolor": "#283442",
           "zerolinewidth": 2
          }
         }
        },
        "width": 1000,
        "xaxis": {
         "anchor": "y",
         "domain": [
          0,
          0.44
         ],
         "title": {
          "text": "month"
         }
        },
        "xaxis10": {
         "anchor": "y10",
         "domain": [
          0.54,
          0.98
         ],
         "matches": "x",
         "showticklabels": false
        },
        "xaxis2": {
         "anchor": "y2",
         "domain": [
          0.54,
          0.98
         ],
         "matches": "x",
         "title": {
          "text": "month"
         }
        },
        "xaxis3": {
         "anchor": "y3",
         "domain": [
          0,
          0.44
         ],
         "matches": "x",
         "showticklabels": false
        },
        "xaxis4": {
         "anchor": "y4",
         "domain": [
          0.54,
          0.98
         ],
         "matches": "x",
         "showticklabels": false
        },
        "xaxis5": {
         "anchor": "y5",
         "domain": [
          0,
          0.44
         ],
         "matches": "x",
         "showticklabels": false
        },
        "xaxis6": {
         "anchor": "y6",
         "domain": [
          0.54,
          0.98
         ],
         "matches": "x",
         "showticklabels": false
        },
        "xaxis7": {
         "anchor": "y7",
         "domain": [
          0,
          0.44
         ],
         "matches": "x",
         "showticklabels": false
        },
        "xaxis8": {
         "anchor": "y8",
         "domain": [
          0.54,
          0.98
         ],
         "matches": "x",
         "showticklabels": false
        },
        "xaxis9": {
         "anchor": "y9",
         "domain": [
          0,
          0.44
         ],
         "matches": "x",
         "showticklabels": false
        },
        "yaxis": {
         "anchor": "x",
         "domain": [
          0,
          0.17600000000000002
         ],
         "showticklabels": true,
         "title": {
          "text": "value"
         }
        },
        "yaxis10": {
         "anchor": "x10",
         "domain": [
          0.8240000000000001,
          1
         ],
         "showticklabels": true
        },
        "yaxis2": {
         "anchor": "x2",
         "domain": [
          0,
          0.17600000000000002
         ],
         "showticklabels": true
        },
        "yaxis3": {
         "anchor": "x3",
         "domain": [
          0.20600000000000002,
          0.382
         ],
         "showticklabels": true,
         "title": {
          "text": "value"
         }
        },
        "yaxis4": {
         "anchor": "x4",
         "domain": [
          0.20600000000000002,
          0.382
         ],
         "showticklabels": true
        },
        "yaxis5": {
         "anchor": "x5",
         "domain": [
          0.41200000000000003,
          0.5880000000000001
         ],
         "showticklabels": true,
         "title": {
          "text": "value"
         }
        },
        "yaxis6": {
         "anchor": "x6",
         "domain": [
          0.41200000000000003,
          0.5880000000000001
         ],
         "showticklabels": true
        },
        "yaxis7": {
         "anchor": "x7",
         "domain": [
          0.618,
          0.794
         ],
         "showticklabels": true,
         "title": {
          "text": "value"
         }
        },
        "yaxis8": {
         "anchor": "x8",
         "domain": [
          0.618,
          0.794
         ],
         "showticklabels": true
        },
        "yaxis9": {
         "anchor": "x9",
         "domain": [
          0.8240000000000001,
          1
         ],
         "showticklabels": true,
         "title": {
          "text": "value"
         }
        }
       }
      }
     },
     "metadata": {},
     "output_type": "display_data"
    }
   ],
   "source": [
    "import plotly.express as px\n",
    "\n",
    "fig = px.line(\n",
    "    data_frame=df,\n",
    "    x='month',\n",
    "    y='value',\n",
    "    color='component',\n",
    "    facet_col='model',\n",
    "    facet_row='component',\n",
    "    width=1000,\n",
    "    height=500,\n",
    "    facet_col_spacing=0.1,\n",
    ")\n",
    "\n",
    "fig.update_yaxes(matches=None)\n",
    "\n",
    "for attr in dir(fig.layout):\n",
    "    if attr.startswith(\"yaxis\"):\n",
    "        axis = getattr(fig.layout, attr)\n",
    "        if axis:\n",
    "            axis.showticklabels = True\n",
    "        \n",
    "fig"
   ]
  }
 ],
 "metadata": {
  "kernelspec": {
   "display_name": "base",
   "language": "python",
   "name": "python3"
  },
  "language_info": {
   "codemirror_mode": {
    "name": "ipython",
    "version": 3
   },
   "file_extension": ".py",
   "mimetype": "text/x-python",
   "name": "python",
   "nbconvert_exporter": "python",
   "pygments_lexer": "ipython3",
   "version": "3.13.5"
  }
 },
 "nbformat": 4,
 "nbformat_minor": 5
}
