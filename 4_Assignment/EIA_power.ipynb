{
 "cells": [
  {
   "cell_type": "code",
   "execution_count": 1,
   "id": "39b087d9",
   "metadata": {},
   "outputs": [],
   "source": [
    "import pandas as pd"
   ]
  },
  {
   "cell_type": "code",
   "execution_count": 2,
   "id": "5a1c6e44",
   "metadata": {},
   "outputs": [],
   "source": [
    "path='fuel-type-data_ciso.csv'"
   ]
  },
  {
   "cell_type": "code",
   "execution_count": 3,
   "id": "ca4ee5dc",
   "metadata": {},
   "outputs": [
    {
     "data": {
      "text/plain": [
       "'c:\\\\Users\\\\basil\\\\Documents\\\\Time-Series-Forecasting-Python-\\\\4_Assignment'"
      ]
     },
     "execution_count": 3,
     "metadata": {},
     "output_type": "execute_result"
    }
   ],
   "source": [
    "import os\n",
    "os.getcwd()"
   ]
  },
  {
   "cell_type": "code",
   "execution_count": 4,
   "id": "ee3982c6",
   "metadata": {},
   "outputs": [
    {
     "data": {
      "text/html": [
       "<div>\n",
       "<style scoped>\n",
       "    .dataframe tbody tr th:only-of-type {\n",
       "        vertical-align: middle;\n",
       "    }\n",
       "\n",
       "    .dataframe tbody tr th {\n",
       "        vertical-align: top;\n",
       "    }\n",
       "\n",
       "    .dataframe thead th {\n",
       "        text-align: right;\n",
       "    }\n",
       "</style>\n",
       "<table border=\"1\" class=\"dataframe\">\n",
       "  <thead>\n",
       "    <tr style=\"text-align: right;\">\n",
       "      <th></th>\n",
       "      <th>period</th>\n",
       "      <th>respondent</th>\n",
       "      <th>respondent-name</th>\n",
       "      <th>fueltype</th>\n",
       "      <th>type-name</th>\n",
       "      <th>value</th>\n",
       "      <th>value-units</th>\n",
       "    </tr>\n",
       "  </thead>\n",
       "  <tbody>\n",
       "    <tr>\n",
       "      <th>0</th>\n",
       "      <td>2025-09-02 23:00:00-07:00</td>\n",
       "      <td>CISO</td>\n",
       "      <td>California Independent System Operator</td>\n",
       "      <td>COL</td>\n",
       "      <td>Coal</td>\n",
       "      <td>0.0</td>\n",
       "      <td>megawatthours</td>\n",
       "    </tr>\n",
       "    <tr>\n",
       "      <th>1</th>\n",
       "      <td>2025-09-02 23:00:00-07:00</td>\n",
       "      <td>CISO</td>\n",
       "      <td>California Independent System Operator</td>\n",
       "      <td>NG</td>\n",
       "      <td>Natural Gas</td>\n",
       "      <td>18057.0</td>\n",
       "      <td>megawatthours</td>\n",
       "    </tr>\n",
       "    <tr>\n",
       "      <th>2</th>\n",
       "      <td>2025-09-02 23:00:00-07:00</td>\n",
       "      <td>CISO</td>\n",
       "      <td>California Independent System Operator</td>\n",
       "      <td>NUC</td>\n",
       "      <td>Nuclear</td>\n",
       "      <td>2258.0</td>\n",
       "      <td>megawatthours</td>\n",
       "    </tr>\n",
       "    <tr>\n",
       "      <th>3</th>\n",
       "      <td>2025-09-02 23:00:00-07:00</td>\n",
       "      <td>CISO</td>\n",
       "      <td>California Independent System Operator</td>\n",
       "      <td>OIL</td>\n",
       "      <td>Petroleum</td>\n",
       "      <td>46.0</td>\n",
       "      <td>megawatthours</td>\n",
       "    </tr>\n",
       "    <tr>\n",
       "      <th>4</th>\n",
       "      <td>2025-09-02 23:00:00-07:00</td>\n",
       "      <td>CISO</td>\n",
       "      <td>California Independent System Operator</td>\n",
       "      <td>OTH</td>\n",
       "      <td>Other</td>\n",
       "      <td>5169.0</td>\n",
       "      <td>megawatthours</td>\n",
       "    </tr>\n",
       "    <tr>\n",
       "      <th>...</th>\n",
       "      <td>...</td>\n",
       "      <td>...</td>\n",
       "      <td>...</td>\n",
       "      <td>...</td>\n",
       "      <td>...</td>\n",
       "      <td>...</td>\n",
       "      <td>...</td>\n",
       "    </tr>\n",
       "    <tr>\n",
       "      <th>451921</th>\n",
       "      <td>2018-12-31 16:00:00-08:00</td>\n",
       "      <td>CISO</td>\n",
       "      <td>California Independent System Operator</td>\n",
       "      <td>OIL</td>\n",
       "      <td>Petroleum</td>\n",
       "      <td>88.0</td>\n",
       "      <td>megawatthours</td>\n",
       "    </tr>\n",
       "    <tr>\n",
       "      <th>451922</th>\n",
       "      <td>2018-12-31 16:00:00-08:00</td>\n",
       "      <td>CISO</td>\n",
       "      <td>California Independent System Operator</td>\n",
       "      <td>OTH</td>\n",
       "      <td>Other</td>\n",
       "      <td>-22.0</td>\n",
       "      <td>megawatthours</td>\n",
       "    </tr>\n",
       "    <tr>\n",
       "      <th>451923</th>\n",
       "      <td>2018-12-31 16:00:00-08:00</td>\n",
       "      <td>CISO</td>\n",
       "      <td>California Independent System Operator</td>\n",
       "      <td>SUN</td>\n",
       "      <td>Solar</td>\n",
       "      <td>1222.0</td>\n",
       "      <td>megawatthours</td>\n",
       "    </tr>\n",
       "    <tr>\n",
       "      <th>451924</th>\n",
       "      <td>2018-12-31 16:00:00-08:00</td>\n",
       "      <td>CISO</td>\n",
       "      <td>California Independent System Operator</td>\n",
       "      <td>WAT</td>\n",
       "      <td>Hydro</td>\n",
       "      <td>2403.0</td>\n",
       "      <td>megawatthours</td>\n",
       "    </tr>\n",
       "    <tr>\n",
       "      <th>451925</th>\n",
       "      <td>2018-12-31 16:00:00-08:00</td>\n",
       "      <td>CISO</td>\n",
       "      <td>California Independent System Operator</td>\n",
       "      <td>WND</td>\n",
       "      <td>Wind</td>\n",
       "      <td>2497.0</td>\n",
       "      <td>megawatthours</td>\n",
       "    </tr>\n",
       "  </tbody>\n",
       "</table>\n",
       "<p>451926 rows × 7 columns</p>\n",
       "</div>"
      ],
      "text/plain": [
       "                           period respondent  \\\n",
       "0       2025-09-02 23:00:00-07:00       CISO   \n",
       "1       2025-09-02 23:00:00-07:00       CISO   \n",
       "2       2025-09-02 23:00:00-07:00       CISO   \n",
       "3       2025-09-02 23:00:00-07:00       CISO   \n",
       "4       2025-09-02 23:00:00-07:00       CISO   \n",
       "...                           ...        ...   \n",
       "451921  2018-12-31 16:00:00-08:00       CISO   \n",
       "451922  2018-12-31 16:00:00-08:00       CISO   \n",
       "451923  2018-12-31 16:00:00-08:00       CISO   \n",
       "451924  2018-12-31 16:00:00-08:00       CISO   \n",
       "451925  2018-12-31 16:00:00-08:00       CISO   \n",
       "\n",
       "                               respondent-name fueltype    type-name    value  \\\n",
       "0       California Independent System Operator      COL         Coal      0.0   \n",
       "1       California Independent System Operator       NG  Natural Gas  18057.0   \n",
       "2       California Independent System Operator      NUC      Nuclear   2258.0   \n",
       "3       California Independent System Operator      OIL    Petroleum     46.0   \n",
       "4       California Independent System Operator      OTH        Other   5169.0   \n",
       "...                                        ...      ...          ...      ...   \n",
       "451921  California Independent System Operator      OIL    Petroleum     88.0   \n",
       "451922  California Independent System Operator      OTH        Other    -22.0   \n",
       "451923  California Independent System Operator      SUN        Solar   1222.0   \n",
       "451924  California Independent System Operator      WAT        Hydro   2403.0   \n",
       "451925  California Independent System Operator      WND         Wind   2497.0   \n",
       "\n",
       "          value-units  \n",
       "0       megawatthours  \n",
       "1       megawatthours  \n",
       "2       megawatthours  \n",
       "3       megawatthours  \n",
       "4       megawatthours  \n",
       "...               ...  \n",
       "451921  megawatthours  \n",
       "451922  megawatthours  \n",
       "451923  megawatthours  \n",
       "451924  megawatthours  \n",
       "451925  megawatthours  \n",
       "\n",
       "[451926 rows x 7 columns]"
      ]
     },
     "execution_count": 4,
     "metadata": {},
     "output_type": "execute_result"
    }
   ],
   "source": [
    "df_c = pd.read_csv(path)\n",
    "df_c"
   ]
  },
  {
   "cell_type": "markdown",
   "id": "297587c6",
   "metadata": {},
   "source": [
    "#### Preprocess data"
   ]
  },
  {
   "cell_type": "code",
   "execution_count": 19,
   "id": "3724c7f8",
   "metadata": {},
   "outputs": [
    {
     "data": {
      "text/plain": [
       "0        2025-09-02 23:00:00-07:00\n",
       "1        2025-09-02 23:00:00-07:00\n",
       "2        2025-09-02 23:00:00-07:00\n",
       "3        2025-09-02 23:00:00-07:00\n",
       "4        2025-09-02 23:00:00-07:00\n",
       "                    ...           \n",
       "451921   2018-12-31 16:00:00-08:00\n",
       "451922   2018-12-31 16:00:00-08:00\n",
       "451923   2018-12-31 16:00:00-08:00\n",
       "451924   2018-12-31 16:00:00-08:00\n",
       "451925   2018-12-31 16:00:00-08:00\n",
       "Name: period, Length: 451926, dtype: datetime64[us, America/Los_Angeles]"
      ]
     },
     "execution_count": 19,
     "metadata": {},
     "output_type": "execute_result"
    }
   ],
   "source": [
    "COLUMN_DATETIME = \"period\"\n",
    "TIMEZONE = \"America/Los_Angeles\"\n",
    "\n",
    "x = pd.to_datetime(df_c[COLUMN_DATETIME], utc=True)\n",
    "x = x.dt.tz_convert(TIMEZONE)\n",
    "\n",
    "df_c[COLUMN_DATETIME] = x\n",
    "x"
   ]
  },
  {
   "cell_type": "code",
   "execution_count": 13,
   "id": "3d94b1aa",
   "metadata": {},
   "outputs": [],
   "source": [
    "df_c[COLUMN_DATETIME] = x"
   ]
  },
  {
   "cell_type": "markdown",
   "id": "e1a1f7a2",
   "metadata": {},
   "source": [
    "### Local timezones"
   ]
  },
  {
   "cell_type": "code",
   "execution_count": 17,
   "id": "f33f9481",
   "metadata": {},
   "outputs": [
    {
     "data": {
      "text/plain": [
       "0        2025-09-03 06:00:00\n",
       "1        2025-09-03 06:00:00\n",
       "2        2025-09-03 06:00:00\n",
       "3        2025-09-03 06:00:00\n",
       "4        2025-09-03 06:00:00\n",
       "                 ...        \n",
       "451921   2019-01-01 00:00:00\n",
       "451922   2019-01-01 00:00:00\n",
       "451923   2019-01-01 00:00:00\n",
       "451924   2019-01-01 00:00:00\n",
       "451925   2019-01-01 00:00:00\n",
       "Name: period, Length: 451926, dtype: datetime64[ns]"
      ]
     },
     "execution_count": 17,
     "metadata": {},
     "output_type": "execute_result"
    }
   ],
   "source": [
    "TIMEZONE = \"America/Los_Angeles\"\n",
    "\n",
    "x = df_c[COLUMN_DATETIME]\n",
    "\n",
    "try:\n",
    "    x = x.dt.tz_localize(None).astype(\"datetime64[ns]\")\n",
    "except Exception as e:\n",
    "    print(e)\n",
    "\n",
    "x"
   ]
  },
  {
   "cell_type": "code",
   "execution_count": null,
   "id": "7a9d4a68",
   "metadata": {},
   "outputs": [
    {
     "name": "stdout",
     "output_type": "stream",
     "text": [
      "Cannot convert tz-naive timestamps, use tz_localize to localize\n"
     ]
    },
    {
     "data": {
      "text/plain": [
       "0        2025-09-02 23:00:00\n",
       "1        2025-09-02 23:00:00\n",
       "2        2025-09-02 23:00:00\n",
       "3        2025-09-02 23:00:00\n",
       "4        2025-09-02 23:00:00\n",
       "                 ...        \n",
       "451921   2018-12-31 16:00:00\n",
       "451922   2018-12-31 16:00:00\n",
       "451923   2018-12-31 16:00:00\n",
       "451924   2018-12-31 16:00:00\n",
       "451925   2018-12-31 16:00:00\n",
       "Name: period, Length: 451926, dtype: datetime64[ns]"
      ]
     },
     "execution_count": 19,
     "metadata": {},
     "output_type": "execute_result"
    }
   ],
   "source": [
    "     \n"
   ]
  }
 ],
 "metadata": {
  "kernelspec": {
   "display_name": "base",
   "language": "python",
   "name": "python3"
  },
  "language_info": {
   "codemirror_mode": {
    "name": "ipython",
    "version": 3
   },
   "file_extension": ".py",
   "mimetype": "text/x-python",
   "name": "python",
   "nbconvert_exporter": "python",
   "pygments_lexer": "ipython3",
   "version": "3.13.5"
  }
 },
 "nbformat": 4,
 "nbformat_minor": 5
}
